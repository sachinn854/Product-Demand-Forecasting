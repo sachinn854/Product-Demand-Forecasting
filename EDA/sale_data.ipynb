{
 "cells": [
  {
   "cell_type": "code",
   "execution_count": 1,
   "id": "ba2f2440",
   "metadata": {},
   "outputs": [],
   "source": [
    "import pandas as pd\n",
    "import matplotlib.pyplot as plt\n",
    "import seaborn as sns"
   ]
  },
  {
   "cell_type": "code",
   "execution_count": 2,
   "id": "889c11c2",
   "metadata": {},
   "outputs": [],
   "source": [
    "df=pd.read_csv(r\"C:\\Users\\sachi\\OneDrive\\Product Demand Forecasting\\CLEANED DATA\\sales_data_Cleaned.csv\")"
   ]
  },
  {
   "cell_type": "code",
   "execution_count": 3,
   "id": "a7995f0f",
   "metadata": {},
   "outputs": [
    {
     "data": {
      "text/plain": [
       "Location\n",
       "L01    30000\n",
       "L02    30000\n",
       "L03    30000\n",
       "L04    30000\n",
       "L05    30000\n",
       "L06    30000\n",
       "L07    30000\n",
       "L08    30000\n",
       "L09    30000\n",
       "L10    30000\n",
       "Name: count, dtype: int64"
      ]
     },
     "execution_count": 3,
     "metadata": {},
     "output_type": "execute_result"
    }
   ],
   "source": [
    "df['Location'].value_counts()"
   ]
  },
  {
   "cell_type": "code",
   "execution_count": 3,
   "id": "1c642fb0",
   "metadata": {},
   "outputs": [
    {
     "data": {
      "text/html": [
       "<div>\n",
       "<style scoped>\n",
       "    .dataframe tbody tr th:only-of-type {\n",
       "        vertical-align: middle;\n",
       "    }\n",
       "\n",
       "    .dataframe tbody tr th {\n",
       "        vertical-align: top;\n",
       "    }\n",
       "\n",
       "    .dataframe thead th {\n",
       "        text-align: right;\n",
       "    }\n",
       "</style>\n",
       "<table border=\"1\" class=\"dataframe\">\n",
       "  <thead>\n",
       "    <tr style=\"text-align: right;\">\n",
       "      <th></th>\n",
       "      <th>ProductID</th>\n",
       "      <th>Location</th>\n",
       "      <th>Date</th>\n",
       "      <th>UnitsSold</th>\n",
       "      <th>PromoCodeUsed</th>\n",
       "    </tr>\n",
       "  </thead>\n",
       "  <tbody>\n",
       "    <tr>\n",
       "      <th>275570</th>\n",
       "      <td>P0460</td>\n",
       "      <td>L03</td>\n",
       "      <td>2024-02-20</td>\n",
       "      <td>4</td>\n",
       "      <td>Yes</td>\n",
       "    </tr>\n",
       "    <tr>\n",
       "      <th>105352</th>\n",
       "      <td>P0176</td>\n",
       "      <td>L06</td>\n",
       "      <td>2024-02-22</td>\n",
       "      <td>3</td>\n",
       "      <td>Yes</td>\n",
       "    </tr>\n",
       "    <tr>\n",
       "      <th>38138</th>\n",
       "      <td>P0064</td>\n",
       "      <td>L06</td>\n",
       "      <td>2024-02-08</td>\n",
       "      <td>1</td>\n",
       "      <td>Yes</td>\n",
       "    </tr>\n",
       "    <tr>\n",
       "      <th>100253</th>\n",
       "      <td>P0168</td>\n",
       "      <td>L01</td>\n",
       "      <td>2024-02-23</td>\n",
       "      <td>1</td>\n",
       "      <td>No</td>\n",
       "    </tr>\n",
       "    <tr>\n",
       "      <th>129915</th>\n",
       "      <td>P0217</td>\n",
       "      <td>L06</td>\n",
       "      <td>2024-01-16</td>\n",
       "      <td>4</td>\n",
       "      <td>No</td>\n",
       "    </tr>\n",
       "    <tr>\n",
       "      <th>37869</th>\n",
       "      <td>P0064</td>\n",
       "      <td>L02</td>\n",
       "      <td>2024-01-10</td>\n",
       "      <td>1</td>\n",
       "      <td>Yes</td>\n",
       "    </tr>\n",
       "    <tr>\n",
       "      <th>135984</th>\n",
       "      <td>P0227</td>\n",
       "      <td>L07</td>\n",
       "      <td>2024-01-25</td>\n",
       "      <td>5</td>\n",
       "      <td>No</td>\n",
       "    </tr>\n",
       "    <tr>\n",
       "      <th>268052</th>\n",
       "      <td>P0447</td>\n",
       "      <td>L08</td>\n",
       "      <td>2024-02-02</td>\n",
       "      <td>2</td>\n",
       "      <td>Yes</td>\n",
       "    </tr>\n",
       "    <tr>\n",
       "      <th>287687</th>\n",
       "      <td>P0480</td>\n",
       "      <td>L05</td>\n",
       "      <td>2024-02-17</td>\n",
       "      <td>3</td>\n",
       "      <td>No</td>\n",
       "    </tr>\n",
       "    <tr>\n",
       "      <th>196293</th>\n",
       "      <td>P0328</td>\n",
       "      <td>L02</td>\n",
       "      <td>2024-02-03</td>\n",
       "      <td>1</td>\n",
       "      <td>Yes</td>\n",
       "    </tr>\n",
       "  </tbody>\n",
       "</table>\n",
       "</div>"
      ],
      "text/plain": [
       "       ProductID Location        Date  UnitsSold PromoCodeUsed\n",
       "275570     P0460      L03  2024-02-20          4           Yes\n",
       "105352     P0176      L06  2024-02-22          3           Yes\n",
       "38138      P0064      L06  2024-02-08          1           Yes\n",
       "100253     P0168      L01  2024-02-23          1            No\n",
       "129915     P0217      L06  2024-01-16          4            No\n",
       "37869      P0064      L02  2024-01-10          1           Yes\n",
       "135984     P0227      L07  2024-01-25          5            No\n",
       "268052     P0447      L08  2024-02-02          2           Yes\n",
       "287687     P0480      L05  2024-02-17          3            No\n",
       "196293     P0328      L02  2024-02-03          1           Yes"
      ]
     },
     "execution_count": 3,
     "metadata": {},
     "output_type": "execute_result"
    }
   ],
   "source": [
    "df.sample(10)"
   ]
  },
  {
   "cell_type": "markdown",
   "id": "b1b92db8",
   "metadata": {},
   "source": [
    "# Univariate Analysis"
   ]
  },
  {
   "cell_type": "markdown",
   "id": "87650bfc",
   "metadata": {},
   "source": [
    "# PromoCode Used – Countplot"
   ]
  },
  {
   "cell_type": "code",
   "execution_count": 6,
   "id": "edbdce64",
   "metadata": {},
   "outputs": [
    {
     "data": {
      "image/png": "[encoded data removed]",
      "text/plain": [
       "<Figure size 640x480 with 1 Axes>"
      ]
     },
     "metadata": {},
     "output_type": "display_data"
    }
   ],
   "source": [
    "sns.countplot(data=df, x='PromoCodeUsed')\n",
    "plt.title(\"Promo Code Usage Count\")\n",
    "plt.xlabel(\"Promo Code Used\")\n",
    "plt.tight_layout()\n",
    "plt.show()\n"
   ]
  },
  {
   "cell_type": "markdown",
   "id": "176827cc",
   "metadata": {},
   "source": [
    "#  Location-wise Order Count"
   ]
  },
  {
   "cell_type": "code",
   "execution_count": 7,
   "id": "43d077a2",
   "metadata": {},
   "outputs": [
    {
     "data": {
      "image/png": "[encoded data removed]",
      "text/plain": [
       "<Figure size 1000x500 with 1 Axes>"
      ]
     },
     "metadata": {},
     "output_type": "display_data"
    }
   ],
   "source": [
    "plt.figure(figsize=(10,5))\n",
    "sns.countplot(data=df, x='Location', order=df['Location'].value_counts().index)\n",
    "plt.title(\"Number of Orders per Location\")\n",
    "plt.xticks(rotation=45)\n",
    "plt.tight_layout()\n",
    "plt.show()\n"
   ]
  },
  {
   "cell_type": "code",
   "execution_count": null,
   "id": "279a528f",
   "metadata": {},
   "outputs": [],
   "source": []
  }
 ],
 "metadata": {
  "kernelspec": {
   "display_name": "Python 3",
   "language": "python",
   "name": "python3"
  },
  "language_info": {
   "codemirror_mode": {
    "name": "ipython",
    "version": 3
   },
   "file_extension": ".py",
   "mimetype": "text/x-python",
   "name": "python",
   "nbconvert_exporter": "python",
   "pygments_lexer": "ipython3",
   "version": "3.13.5"
  }
 },
 "nbformat": 4,
 "nbformat_minor": 5
}
