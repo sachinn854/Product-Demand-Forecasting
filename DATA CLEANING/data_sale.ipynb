{
 "cells": [
  {
   "cell_type": "code",
   "execution_count": 1,
   "id": "c7b77564",
   "metadata": {},
   "outputs": [],
   "source": [
    "import pandas as pd"
   ]
  },
  {
   "cell_type": "code",
   "execution_count": 2,
   "id": "1f930174",
   "metadata": {},
   "outputs": [],
   "source": [
    "df=pd.read_csv(r'C:\\Users\\sachi\\OneDrive\\Product Demand Forecasting\\DATA\\sales_data.csv')"
   ]
  },
  {
   "cell_type": "code",
   "execution_count": 3,
   "id": "b73b934e",
   "metadata": {},
   "outputs": [
    {
     "name": "stdout",
     "output_type": "stream",
     "text": [
      "<class 'pandas.core.frame.DataFrame'>\n",
      "RangeIndex: 300000 entries, 0 to 299999\n",
      "Data columns (total 5 columns):\n",
      " #   Column         Non-Null Count   Dtype \n",
      "---  ------         --------------   ----- \n",
      " 0   ProductID      300000 non-null  object\n",
      " 1   Location       300000 non-null  object\n",
      " 2   Date           300000 non-null  object\n",
      " 3   UnitsSold      300000 non-null  int64 \n",
      " 4   PromoCodeUsed  295000 non-null  object\n",
      "dtypes: int64(1), object(4)\n",
      "memory usage: 11.4+ MB\n"
     ]
    }
   ],
   "source": [
    "df.info()"
   ]
  },
  {
   "cell_type": "code",
   "execution_count": 4,
   "id": "9d1dfa3b",
   "metadata": {},
   "outputs": [
    {
     "data": {
      "text/html": [
       "<div>\n",
       "<style scoped>\n",
       "    .dataframe tbody tr th:only-of-type {\n",
       "        vertical-align: middle;\n",
       "    }\n",
       "\n",
       "    .dataframe tbody tr th {\n",
       "        vertical-align: top;\n",
       "    }\n",
       "\n",
       "    .dataframe thead th {\n",
       "        text-align: right;\n",
       "    }\n",
       "</style>\n",
       "<table border=\"1\" class=\"dataframe\">\n",
       "  <thead>\n",
       "    <tr style=\"text-align: right;\">\n",
       "      <th></th>\n",
       "      <th>ProductID</th>\n",
       "      <th>Location</th>\n",
       "      <th>Date</th>\n",
       "      <th>UnitsSold</th>\n",
       "      <th>PromoCodeUsed</th>\n",
       "    </tr>\n",
       "  </thead>\n",
       "  <tbody>\n",
       "    <tr>\n",
       "      <th>219582</th>\n",
       "      <td>P0366</td>\n",
       "      <td>L10</td>\n",
       "      <td>2024-02-12</td>\n",
       "      <td>4</td>\n",
       "      <td>No</td>\n",
       "    </tr>\n",
       "    <tr>\n",
       "      <th>144314</th>\n",
       "      <td>P0241</td>\n",
       "      <td>L06</td>\n",
       "      <td>2024-01-15</td>\n",
       "      <td>6</td>\n",
       "      <td>Yes</td>\n",
       "    </tr>\n",
       "    <tr>\n",
       "      <th>255840</th>\n",
       "      <td>P0427</td>\n",
       "      <td>L05</td>\n",
       "      <td>2024-01-01</td>\n",
       "      <td>4</td>\n",
       "      <td>No</td>\n",
       "    </tr>\n",
       "    <tr>\n",
       "      <th>84694</th>\n",
       "      <td>P0142</td>\n",
       "      <td>L02</td>\n",
       "      <td>2024-02-04</td>\n",
       "      <td>6</td>\n",
       "      <td>Yes</td>\n",
       "    </tr>\n",
       "    <tr>\n",
       "      <th>228438</th>\n",
       "      <td>P0381</td>\n",
       "      <td>L08</td>\n",
       "      <td>2024-01-19</td>\n",
       "      <td>2</td>\n",
       "      <td>No</td>\n",
       "    </tr>\n",
       "    <tr>\n",
       "      <th>273830</th>\n",
       "      <td>P0457</td>\n",
       "      <td>L04</td>\n",
       "      <td>2024-02-20</td>\n",
       "      <td>1</td>\n",
       "      <td>Yes</td>\n",
       "    </tr>\n",
       "    <tr>\n",
       "      <th>141413</th>\n",
       "      <td>P0236</td>\n",
       "      <td>L07</td>\n",
       "      <td>2024-02-23</td>\n",
       "      <td>3</td>\n",
       "      <td>No</td>\n",
       "    </tr>\n",
       "    <tr>\n",
       "      <th>62988</th>\n",
       "      <td>P0105</td>\n",
       "      <td>L10</td>\n",
       "      <td>2024-02-18</td>\n",
       "      <td>6</td>\n",
       "      <td>Yes</td>\n",
       "    </tr>\n",
       "    <tr>\n",
       "      <th>128552</th>\n",
       "      <td>P0215</td>\n",
       "      <td>L03</td>\n",
       "      <td>2024-02-02</td>\n",
       "      <td>2</td>\n",
       "      <td>Yes</td>\n",
       "    </tr>\n",
       "    <tr>\n",
       "      <th>192354</th>\n",
       "      <td>P0321</td>\n",
       "      <td>L06</td>\n",
       "      <td>2024-02-24</td>\n",
       "      <td>0</td>\n",
       "      <td>No</td>\n",
       "    </tr>\n",
       "  </tbody>\n",
       "</table>\n",
       "</div>"
      ],
      "text/plain": [
       "       ProductID Location        Date  UnitsSold PromoCodeUsed\n",
       "219582     P0366      L10  2024-02-12          4            No\n",
       "144314     P0241      L06  2024-01-15          6           Yes\n",
       "255840     P0427      L05  2024-01-01          4            No\n",
       "84694      P0142      L02  2024-02-04          6           Yes\n",
       "228438     P0381      L08  2024-01-19          2            No\n",
       "273830     P0457      L04  2024-02-20          1           Yes\n",
       "141413     P0236      L07  2024-02-23          3            No\n",
       "62988      P0105      L10  2024-02-18          6           Yes\n",
       "128552     P0215      L03  2024-02-02          2           Yes\n",
       "192354     P0321      L06  2024-02-24          0            No"
      ]
     },
     "execution_count": 4,
     "metadata": {},
     "output_type": "execute_result"
    }
   ],
   "source": [
    "df.sample(10)"
   ]
  },
  {
   "cell_type": "code",
   "execution_count": 5,
   "id": "be751fec",
   "metadata": {},
   "outputs": [
    {
     "data": {
      "text/plain": [
       "ProductID        500\n",
       "Location          10\n",
       "Date              60\n",
       "UnitsSold         18\n",
       "PromoCodeUsed      2\n",
       "dtype: int64"
      ]
     },
     "execution_count": 5,
     "metadata": {},
     "output_type": "execute_result"
    }
   ],
   "source": [
    "df.nunique()"
   ]
  },
  {
   "cell_type": "code",
   "execution_count": 7,
   "id": "5ae0e2af",
   "metadata": {},
   "outputs": [
    {
     "data": {
      "text/plain": [
       "np.int64(0)"
      ]
     },
     "execution_count": 7,
     "metadata": {},
     "output_type": "execute_result"
    }
   ],
   "source": [
    "df.duplicated().sum()"
   ]
  },
  {
   "cell_type": "code",
   "execution_count": 8,
   "id": "1b89b22a",
   "metadata": {},
   "outputs": [
    {
     "data": {
      "text/plain": [
       "ProductID           0\n",
       "Location            0\n",
       "Date                0\n",
       "UnitsSold           0\n",
       "PromoCodeUsed    5000\n",
       "dtype: int64"
      ]
     },
     "execution_count": 8,
     "metadata": {},
     "output_type": "execute_result"
    }
   ],
   "source": [
    "df.isnull().sum()"
   ]
  },
  {
   "cell_type": "markdown",
   "id": "266e2ee9",
   "metadata": {},
   "source": [
    "# filling missing data of PromoCodeUsed column"
   ]
  },
  {
   "cell_type": "code",
   "execution_count": 9,
   "id": "05ff76d6",
   "metadata": {},
   "outputs": [
    {
     "name": "stderr",
     "output_type": "stream",
     "text": [
      "C:\\Users\\sachi\\AppData\\Local\\Temp\\ipykernel_17272\\3544640990.py:2: DeprecationWarning: DataFrameGroupBy.apply operated on the grouping columns. This behavior is deprecated, and in a future version of pandas the grouping columns will be excluded from the operation. Either pass `include_groups=False` to exclude the groupings or explicitly select the grouping columns after groupby to silence this warning.\n",
      "  sampled_df = df.groupby('ProductID').apply(lambda x: x.sample(min(len(x), 100))).reset_index(drop=True)\n"
     ]
    }
   ],
   "source": [
    "# logic is that, extracting 100 data of PromoCodeUSed for each productId , counting the number of \"no\" and \"yes\".. fill the value with most number\n",
    "sampled_df = df.groupby('ProductID').apply(lambda x: x.sample(min(len(x), 100))).reset_index(drop=True)\n"
   ]
  },
  {
   "cell_type": "code",
   "execution_count": 11,
   "id": "3c2a5087",
   "metadata": {},
   "outputs": [],
   "source": [
    "promo_counts = sampled_df.groupby(['ProductID', 'PromoCodeUsed']).size().unstack(fill_value=0)\n"
   ]
  },
  {
   "cell_type": "code",
   "execution_count": 12,
   "id": "eca35afc",
   "metadata": {},
   "outputs": [],
   "source": [
    "# Create a dictionary with ProductID as key and majority promoCodeUsed as value\n",
    "promo_majority = {}\n",
    "\n",
    "for pid in promo_counts.index:\n",
    "    if promo_counts.loc[pid, 'Yes'] > promo_counts.loc[pid, 'No']:\n",
    "        promo_majority[pid] = 'Yes'\n",
    "    else:\n",
    "        promo_majority[pid] = 'No'\n"
   ]
  },
  {
   "cell_type": "code",
   "execution_count": 14,
   "id": "10a09ad1",
   "metadata": {},
   "outputs": [],
   "source": [
    "def fill_promo(row):\n",
    "    if pd.isnull(row['PromoCodeUsed']):\n",
    "        return promo_majority.get(row['ProductID'], 'No')  # Default 'No' if ProductID not found\n",
    "    else:\n",
    "        return row['PromoCodeUsed']\n",
    "\n",
    "df['PromoCodeUsed'] = df.apply(fill_promo, axis=1)\n"
   ]
  },
  {
   "cell_type": "code",
   "execution_count": 16,
   "id": "fb7c8e77",
   "metadata": {},
   "outputs": [
    {
     "name": "stdout",
     "output_type": "stream",
     "text": [
      "Missing promoCodeUsed after fill: 0\n"
     ]
    }
   ],
   "source": [
    "print(\"Missing promoCodeUsed after fill:\", df['PromoCodeUsed'].isnull().sum())\n"
   ]
  },
  {
   "cell_type": "code",
   "execution_count": 17,
   "id": "1ec650f5",
   "metadata": {},
   "outputs": [
    {
     "data": {
      "text/plain": [
       "ProductID        0\n",
       "Location         0\n",
       "Date             0\n",
       "UnitsSold        0\n",
       "PromoCodeUsed    0\n",
       "dtype: int64"
      ]
     },
     "execution_count": 17,
     "metadata": {},
     "output_type": "execute_result"
    }
   ],
   "source": [
    "df.isnull().sum()"
   ]
  },
  {
   "cell_type": "code",
   "execution_count": 19,
   "id": "c379e654",
   "metadata": {},
   "outputs": [
    {
     "data": {
      "text/plain": [
       "np.int64(0)"
      ]
     },
     "execution_count": 19,
     "metadata": {},
     "output_type": "execute_result"
    }
   ],
   "source": [
    "df.duplicated().sum()"
   ]
  },
  {
   "cell_type": "code",
   "execution_count": 20,
   "id": "52dc45eb",
   "metadata": {},
   "outputs": [
    {
     "data": {
      "text/html": [
       "<div>\n",
       "<style scoped>\n",
       "    .dataframe tbody tr th:only-of-type {\n",
       "        vertical-align: middle;\n",
       "    }\n",
       "\n",
       "    .dataframe tbody tr th {\n",
       "        vertical-align: top;\n",
       "    }\n",
       "\n",
       "    .dataframe thead th {\n",
       "        text-align: right;\n",
       "    }\n",
       "</style>\n",
       "<table border=\"1\" class=\"dataframe\">\n",
       "  <thead>\n",
       "    <tr style=\"text-align: right;\">\n",
       "      <th></th>\n",
       "      <th>ProductID</th>\n",
       "      <th>Location</th>\n",
       "      <th>Date</th>\n",
       "      <th>UnitsSold</th>\n",
       "      <th>PromoCodeUsed</th>\n",
       "    </tr>\n",
       "  </thead>\n",
       "  <tbody>\n",
       "    <tr>\n",
       "      <th>289892</th>\n",
       "      <td>P0484</td>\n",
       "      <td>L02</td>\n",
       "      <td>2024-02-02</td>\n",
       "      <td>4</td>\n",
       "      <td>No</td>\n",
       "    </tr>\n",
       "  </tbody>\n",
       "</table>\n",
       "</div>"
      ],
      "text/plain": [
       "       ProductID Location        Date  UnitsSold PromoCodeUsed\n",
       "289892     P0484      L02  2024-02-02          4            No"
      ]
     },
     "execution_count": 20,
     "metadata": {},
     "output_type": "execute_result"
    }
   ],
   "source": [
    "df.sample()"
   ]
  },
  {
   "cell_type": "code",
   "execution_count": 22,
   "id": "16922fea",
   "metadata": {},
   "outputs": [
    {
     "data": {
      "text/plain": [
       "ProductID        object\n",
       "Location         object\n",
       "Date             object\n",
       "UnitsSold         int64\n",
       "PromoCodeUsed    object\n",
       "dtype: object"
      ]
     },
     "execution_count": 22,
     "metadata": {},
     "output_type": "execute_result"
    }
   ],
   "source": [
    "df.dtypes"
   ]
  },
  {
   "cell_type": "code",
   "execution_count": 23,
   "id": "0a6523db",
   "metadata": {},
   "outputs": [],
   "source": [
    "df['Date'] = pd.to_datetime(df['Date'], errors='coerce')"
   ]
  },
  {
   "cell_type": "code",
   "execution_count": 24,
   "id": "714149a6",
   "metadata": {},
   "outputs": [
    {
     "data": {
      "text/plain": [
       "ProductID                object\n",
       "Location                 object\n",
       "Date             datetime64[ns]\n",
       "UnitsSold                 int64\n",
       "PromoCodeUsed            object\n",
       "dtype: object"
      ]
     },
     "execution_count": 24,
     "metadata": {},
     "output_type": "execute_result"
    }
   ],
   "source": [
    "df.dtypes"
   ]
  },
  {
   "cell_type": "code",
   "execution_count": 32,
   "id": "02501b90",
   "metadata": {},
   "outputs": [
    {
     "name": "stdout",
     "output_type": "stream",
     "text": [
      "Total negative UnitsSold rows: 0\n"
     ]
    }
   ],
   "source": [
    "negative_units = df[df['UnitsSold'] < 0]\n",
    "\n",
    "print(f\"Total negative UnitsSold rows: {len(negative_units)}\")"
   ]
  },
  {
   "cell_type": "markdown",
   "id": "7b7e2d58",
   "metadata": {},
   "source": [
    "# outliers"
   ]
  },
  {
   "cell_type": "code",
   "execution_count": 33,
   "id": "3f843e97",
   "metadata": {},
   "outputs": [
    {
     "name": "stdout",
     "output_type": "stream",
     "text": [
      "Total outliers in UnitsSold: 5667\n"
     ]
    }
   ],
   "source": [
    "Q1 = df['UnitsSold'].quantile(0.25)\n",
    "Q3 = df['UnitsSold'].quantile(0.75)\n",
    "IQR = Q3 - Q1\n",
    "\n",
    "lower_bound = Q1 - 1.5 * IQR\n",
    "upper_bound = Q3 + 1.5 * IQR\n",
    "\n",
    "# Outlier rows\n",
    "outliers = df[(df['UnitsSold'] < lower_bound) | (df['UnitsSold'] > upper_bound)]\n",
    "\n",
    "print(f\"Total outliers in UnitsSold: {len(outliers)}\")\n"
   ]
  },
  {
   "cell_type": "code",
   "execution_count": 34,
   "id": "f9943ab8",
   "metadata": {},
   "outputs": [
    {
     "data": {
      "text/html": [
       "<div>\n",
       "<style scoped>\n",
       "    .dataframe tbody tr th:only-of-type {\n",
       "        vertical-align: middle;\n",
       "    }\n",
       "\n",
       "    .dataframe tbody tr th {\n",
       "        vertical-align: top;\n",
       "    }\n",
       "\n",
       "    .dataframe thead th {\n",
       "        text-align: right;\n",
       "    }\n",
       "</style>\n",
       "<table border=\"1\" class=\"dataframe\">\n",
       "  <thead>\n",
       "    <tr style=\"text-align: right;\">\n",
       "      <th></th>\n",
       "      <th>ProductID</th>\n",
       "      <th>Location</th>\n",
       "      <th>Date</th>\n",
       "      <th>UnitsSold</th>\n",
       "      <th>PromoCodeUsed</th>\n",
       "    </tr>\n",
       "  </thead>\n",
       "  <tbody>\n",
       "    <tr>\n",
       "      <th>189975</th>\n",
       "      <td>P0317</td>\n",
       "      <td>L07</td>\n",
       "      <td>2024-01-16</td>\n",
       "      <td>17</td>\n",
       "      <td>Yes</td>\n",
       "    </tr>\n",
       "    <tr>\n",
       "      <th>224605</th>\n",
       "      <td>P0375</td>\n",
       "      <td>L04</td>\n",
       "      <td>2024-01-26</td>\n",
       "      <td>16</td>\n",
       "      <td>No</td>\n",
       "    </tr>\n",
       "    <tr>\n",
       "      <th>93820</th>\n",
       "      <td>P0157</td>\n",
       "      <td>L04</td>\n",
       "      <td>2024-02-10</td>\n",
       "      <td>16</td>\n",
       "      <td>No</td>\n",
       "    </tr>\n",
       "    <tr>\n",
       "      <th>195097</th>\n",
       "      <td>P0326</td>\n",
       "      <td>L02</td>\n",
       "      <td>2024-02-07</td>\n",
       "      <td>16</td>\n",
       "      <td>Yes</td>\n",
       "    </tr>\n",
       "    <tr>\n",
       "      <th>90260</th>\n",
       "      <td>P0151</td>\n",
       "      <td>L05</td>\n",
       "      <td>2024-01-21</td>\n",
       "      <td>15</td>\n",
       "      <td>No</td>\n",
       "    </tr>\n",
       "    <tr>\n",
       "      <th>100210</th>\n",
       "      <td>P0168</td>\n",
       "      <td>L01</td>\n",
       "      <td>2024-01-11</td>\n",
       "      <td>15</td>\n",
       "      <td>No</td>\n",
       "    </tr>\n",
       "    <tr>\n",
       "      <th>62346</th>\n",
       "      <td>P0104</td>\n",
       "      <td>L10</td>\n",
       "      <td>2024-01-07</td>\n",
       "      <td>15</td>\n",
       "      <td>Yes</td>\n",
       "    </tr>\n",
       "    <tr>\n",
       "      <th>60488</th>\n",
       "      <td>P0101</td>\n",
       "      <td>L09</td>\n",
       "      <td>2024-01-09</td>\n",
       "      <td>15</td>\n",
       "      <td>No</td>\n",
       "    </tr>\n",
       "    <tr>\n",
       "      <th>263035</th>\n",
       "      <td>P0439</td>\n",
       "      <td>L04</td>\n",
       "      <td>2024-02-25</td>\n",
       "      <td>15</td>\n",
       "      <td>No</td>\n",
       "    </tr>\n",
       "    <tr>\n",
       "      <th>267404</th>\n",
       "      <td>P0446</td>\n",
       "      <td>L07</td>\n",
       "      <td>2024-02-14</td>\n",
       "      <td>15</td>\n",
       "      <td>Yes</td>\n",
       "    </tr>\n",
       "  </tbody>\n",
       "</table>\n",
       "</div>"
      ],
      "text/plain": [
       "       ProductID Location       Date  UnitsSold PromoCodeUsed\n",
       "189975     P0317      L07 2024-01-16         17           Yes\n",
       "224605     P0375      L04 2024-01-26         16            No\n",
       "93820      P0157      L04 2024-02-10         16            No\n",
       "195097     P0326      L02 2024-02-07         16           Yes\n",
       "90260      P0151      L05 2024-01-21         15            No\n",
       "100210     P0168      L01 2024-01-11         15            No\n",
       "62346      P0104      L10 2024-01-07         15           Yes\n",
       "60488      P0101      L09 2024-01-09         15            No\n",
       "263035     P0439      L04 2024-02-25         15            No\n",
       "267404     P0446      L07 2024-02-14         15           Yes"
      ]
     },
     "execution_count": 34,
     "metadata": {},
     "output_type": "execute_result"
    }
   ],
   "source": [
    "outliers.sort_values(by='UnitsSold', ascending=False).head(10)\n"
   ]
  },
  {
   "cell_type": "code",
   "execution_count": 35,
   "id": "8f7d0afb",
   "metadata": {},
   "outputs": [
    {
     "data": {
      "text/plain": [
       "ProductID\n",
       "P0065    21\n",
       "P0159    21\n",
       "P0072    20\n",
       "P0172    20\n",
       "P0450    20\n",
       "P0206    20\n",
       "P0221    20\n",
       "P0026    19\n",
       "P0489    19\n",
       "P0240    19\n",
       "Name: count, dtype: int64"
      ]
     },
     "execution_count": 35,
     "metadata": {},
     "output_type": "execute_result"
    }
   ],
   "source": [
    "outliers['ProductID'].value_counts().head(10)\n"
   ]
  },
  {
   "cell_type": "code",
   "execution_count": 36,
   "id": "858d49e6",
   "metadata": {},
   "outputs": [
    {
     "data": {
      "text/html": [
       "<div>\n",
       "<style scoped>\n",
       "    .dataframe tbody tr th:only-of-type {\n",
       "        vertical-align: middle;\n",
       "    }\n",
       "\n",
       "    .dataframe tbody tr th {\n",
       "        vertical-align: top;\n",
       "    }\n",
       "\n",
       "    .dataframe thead th {\n",
       "        text-align: right;\n",
       "    }\n",
       "</style>\n",
       "<table border=\"1\" class=\"dataframe\">\n",
       "  <thead>\n",
       "    <tr style=\"text-align: right;\">\n",
       "      <th></th>\n",
       "      <th>Date</th>\n",
       "      <th>UnitsSold</th>\n",
       "    </tr>\n",
       "  </thead>\n",
       "  <tbody>\n",
       "    <tr>\n",
       "      <th>count</th>\n",
       "      <td>300000</td>\n",
       "      <td>300000.000000</td>\n",
       "    </tr>\n",
       "    <tr>\n",
       "      <th>mean</th>\n",
       "      <td>2024-01-30 12:00:00</td>\n",
       "      <td>3.000777</td>\n",
       "    </tr>\n",
       "    <tr>\n",
       "      <th>min</th>\n",
       "      <td>2024-01-01 00:00:00</td>\n",
       "      <td>0.000000</td>\n",
       "    </tr>\n",
       "    <tr>\n",
       "      <th>25%</th>\n",
       "      <td>2024-01-15 18:00:00</td>\n",
       "      <td>1.000000</td>\n",
       "    </tr>\n",
       "    <tr>\n",
       "      <th>50%</th>\n",
       "      <td>2024-01-30 12:00:00</td>\n",
       "      <td>3.000000</td>\n",
       "    </tr>\n",
       "    <tr>\n",
       "      <th>75%</th>\n",
       "      <td>2024-02-14 06:00:00</td>\n",
       "      <td>4.000000</td>\n",
       "    </tr>\n",
       "    <tr>\n",
       "      <th>max</th>\n",
       "      <td>2024-02-29 00:00:00</td>\n",
       "      <td>17.000000</td>\n",
       "    </tr>\n",
       "    <tr>\n",
       "      <th>std</th>\n",
       "      <td>NaN</td>\n",
       "      <td>2.238309</td>\n",
       "    </tr>\n",
       "  </tbody>\n",
       "</table>\n",
       "</div>"
      ],
      "text/plain": [
       "                      Date      UnitsSold\n",
       "count               300000  300000.000000\n",
       "mean   2024-01-30 12:00:00       3.000777\n",
       "min    2024-01-01 00:00:00       0.000000\n",
       "25%    2024-01-15 18:00:00       1.000000\n",
       "50%    2024-01-30 12:00:00       3.000000\n",
       "75%    2024-02-14 06:00:00       4.000000\n",
       "max    2024-02-29 00:00:00      17.000000\n",
       "std                    NaN       2.238309"
      ]
     },
     "execution_count": 36,
     "metadata": {},
     "output_type": "execute_result"
    }
   ],
   "source": [
    "df.describe()"
   ]
  },
  {
   "cell_type": "code",
   "execution_count": 37,
   "id": "3aa01bd7",
   "metadata": {},
   "outputs": [],
   "source": [
    "df.to_csv(r\"C:\\Users\\sachi\\OneDrive\\Product Demand Forecasting\\CLEANED DATA\\sales_data_Cleaned.csv\",index=False)"
   ]
  },
  {
   "cell_type": "code",
   "execution_count": null,
   "id": "70b579e4",
   "metadata": {},
   "outputs": [],
   "source": []
  }
 ],
 "metadata": {
  "kernelspec": {
   "display_name": "Python 3",
   "language": "python",
   "name": "python3"
  },
  "language_info": {
   "codemirror_mode": {
    "name": "ipython",
    "version": 3
   },
   "file_extension": ".py",
   "mimetype": "text/x-python",
   "name": "python",
   "nbconvert_exporter": "python",
   "pygments_lexer": "ipython3",
   "version": "3.13.5"
  }
 },
 "nbformat": 4,
 "nbformat_minor": 5
}
