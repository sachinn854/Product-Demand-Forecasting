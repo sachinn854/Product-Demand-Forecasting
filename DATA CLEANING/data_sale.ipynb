{
 "cells": [
  {
   "cell_type": "code",
   "execution_count": 55,
   "id": "c7b77564",
   "metadata": {},
   "outputs": [],
   "source": [
    "import pandas as pd"
   ]
  },
  {
   "cell_type": "code",
   "execution_count": 56,
   "id": "1f930174",
   "metadata": {},
   "outputs": [],
   "source": [
    "df=pd.read_csv(r'C:\\Users\\sachi\\OneDrive\\Product Demand Forecasting\\DATA\\sales_data_500k.csv')"
   ]
  },
  {
   "cell_type": "code",
   "execution_count": 57,
   "id": "b73b934e",
   "metadata": {},
   "outputs": [
    {
     "name": "stdout",
     "output_type": "stream",
     "text": [
      "<class 'pandas.core.frame.DataFrame'>\n",
      "RangeIndex: 500000 entries, 0 to 499999\n",
      "Data columns (total 5 columns):\n",
      " #   Column         Non-Null Count   Dtype \n",
      "---  ------         --------------   ----- \n",
      " 0   ProductID      500000 non-null  object\n",
      " 1   Location       500000 non-null  object\n",
      " 2   Date           500000 non-null  object\n",
      " 3   UnitsSold      500000 non-null  int64 \n",
      " 4   PromoCodeUsed  450000 non-null  object\n",
      "dtypes: int64(1), object(4)\n",
      "memory usage: 19.1+ MB\n"
     ]
    }
   ],
   "source": [
    "df.info()"
   ]
  },
  {
   "cell_type": "code",
   "execution_count": 58,
   "id": "9d1dfa3b",
   "metadata": {},
   "outputs": [
    {
     "data": {
      "text/html": [
       "<div>\n",
       "<style scoped>\n",
       "    .dataframe tbody tr th:only-of-type {\n",
       "        vertical-align: middle;\n",
       "    }\n",
       "\n",
       "    .dataframe tbody tr th {\n",
       "        vertical-align: top;\n",
       "    }\n",
       "\n",
       "    .dataframe thead th {\n",
       "        text-align: right;\n",
       "    }\n",
       "</style>\n",
       "<table border=\"1\" class=\"dataframe\">\n",
       "  <thead>\n",
       "    <tr style=\"text-align: right;\">\n",
       "      <th></th>\n",
       "      <th>ProductID</th>\n",
       "      <th>Location</th>\n",
       "      <th>Date</th>\n",
       "      <th>UnitsSold</th>\n",
       "      <th>PromoCodeUsed</th>\n",
       "    </tr>\n",
       "  </thead>\n",
       "  <tbody>\n",
       "    <tr>\n",
       "      <th>198657</th>\n",
       "      <td>P0085</td>\n",
       "      <td>L01</td>\n",
       "      <td>2024-09-07</td>\n",
       "      <td>5</td>\n",
       "      <td>No</td>\n",
       "    </tr>\n",
       "    <tr>\n",
       "      <th>289279</th>\n",
       "      <td>P0261</td>\n",
       "      <td>L04</td>\n",
       "      <td>2024-11-17</td>\n",
       "      <td>5</td>\n",
       "      <td>No</td>\n",
       "    </tr>\n",
       "    <tr>\n",
       "      <th>392089</th>\n",
       "      <td>P0189</td>\n",
       "      <td>L07</td>\n",
       "      <td>2024-12-20</td>\n",
       "      <td>2</td>\n",
       "      <td>No</td>\n",
       "    </tr>\n",
       "    <tr>\n",
       "      <th>109873</th>\n",
       "      <td>P0134</td>\n",
       "      <td>L04</td>\n",
       "      <td>2024-09-24</td>\n",
       "      <td>10</td>\n",
       "      <td>Yes</td>\n",
       "    </tr>\n",
       "    <tr>\n",
       "      <th>238640</th>\n",
       "      <td>P0439</td>\n",
       "      <td>L07</td>\n",
       "      <td>2024-08-20</td>\n",
       "      <td>8</td>\n",
       "      <td>No</td>\n",
       "    </tr>\n",
       "    <tr>\n",
       "      <th>147882</th>\n",
       "      <td>P0192</td>\n",
       "      <td>L01</td>\n",
       "      <td>2024-02-01</td>\n",
       "      <td>6</td>\n",
       "      <td>Yes</td>\n",
       "    </tr>\n",
       "    <tr>\n",
       "      <th>70843</th>\n",
       "      <td>P0459</td>\n",
       "      <td>L07</td>\n",
       "      <td>2024-03-07</td>\n",
       "      <td>4</td>\n",
       "      <td>No</td>\n",
       "    </tr>\n",
       "    <tr>\n",
       "      <th>385964</th>\n",
       "      <td>P0462</td>\n",
       "      <td>L05</td>\n",
       "      <td>2024-04-03</td>\n",
       "      <td>6</td>\n",
       "      <td>Yes</td>\n",
       "    </tr>\n",
       "    <tr>\n",
       "      <th>79421</th>\n",
       "      <td>P0247</td>\n",
       "      <td>L06</td>\n",
       "      <td>2024-01-06</td>\n",
       "      <td>10</td>\n",
       "      <td>No</td>\n",
       "    </tr>\n",
       "    <tr>\n",
       "      <th>429284</th>\n",
       "      <td>P0066</td>\n",
       "      <td>L03</td>\n",
       "      <td>2024-05-27</td>\n",
       "      <td>8</td>\n",
       "      <td>Yes</td>\n",
       "    </tr>\n",
       "  </tbody>\n",
       "</table>\n",
       "</div>"
      ],
      "text/plain": [
       "       ProductID Location        Date  UnitsSold PromoCodeUsed\n",
       "198657     P0085      L01  2024-09-07          5            No\n",
       "289279     P0261      L04  2024-11-17          5            No\n",
       "392089     P0189      L07  2024-12-20          2            No\n",
       "109873     P0134      L04  2024-09-24         10           Yes\n",
       "238640     P0439      L07  2024-08-20          8            No\n",
       "147882     P0192      L01  2024-02-01          6           Yes\n",
       "70843      P0459      L07  2024-03-07          4            No\n",
       "385964     P0462      L05  2024-04-03          6           Yes\n",
       "79421      P0247      L06  2024-01-06         10            No\n",
       "429284     P0066      L03  2024-05-27          8           Yes"
      ]
     },
     "execution_count": 58,
     "metadata": {},
     "output_type": "execute_result"
    }
   ],
   "source": [
    "df.sample(10)"
   ]
  },
  {
   "cell_type": "code",
   "execution_count": 59,
   "id": "be751fec",
   "metadata": {},
   "outputs": [
    {
     "data": {
      "text/plain": [
       "ProductID        500\n",
       "Location          10\n",
       "Date             365\n",
       "UnitsSold         11\n",
       "PromoCodeUsed      2\n",
       "dtype: int64"
      ]
     },
     "execution_count": 59,
     "metadata": {},
     "output_type": "execute_result"
    }
   ],
   "source": [
    "df.nunique()"
   ]
  },
  {
   "cell_type": "code",
   "execution_count": 60,
   "id": "5ae0e2af",
   "metadata": {},
   "outputs": [
    {
     "data": {
      "text/plain": [
       "np.int64(4194)"
      ]
     },
     "execution_count": 60,
     "metadata": {},
     "output_type": "execute_result"
    }
   ],
   "source": [
    "df.duplicated().sum()"
   ]
  },
  {
   "cell_type": "code",
   "execution_count": 61,
   "id": "ad984c95",
   "metadata": {},
   "outputs": [],
   "source": [
    "df.drop_duplicates(inplace=True)"
   ]
  },
  {
   "cell_type": "code",
   "execution_count": 62,
   "id": "2384e1f9",
   "metadata": {},
   "outputs": [
    {
     "data": {
      "text/plain": [
       "np.int64(0)"
      ]
     },
     "execution_count": 62,
     "metadata": {},
     "output_type": "execute_result"
    }
   ],
   "source": [
    "df.duplicated().sum()"
   ]
  },
  {
   "cell_type": "code",
   "execution_count": 63,
   "id": "1b89b22a",
   "metadata": {},
   "outputs": [
    {
     "data": {
      "text/plain": [
       "ProductID            0\n",
       "Location             0\n",
       "Date                 0\n",
       "UnitsSold            0\n",
       "PromoCodeUsed    49909\n",
       "dtype: int64"
      ]
     },
     "execution_count": 63,
     "metadata": {},
     "output_type": "execute_result"
    }
   ],
   "source": [
    "df.isnull().sum()"
   ]
  },
  {
   "cell_type": "markdown",
   "id": "266e2ee9",
   "metadata": {},
   "source": [
    "# filling missing data of PromoCodeUsed column"
   ]
  },
  {
   "cell_type": "code",
   "execution_count": 64,
   "id": "05ff76d6",
   "metadata": {},
   "outputs": [
    {
     "name": "stderr",
     "output_type": "stream",
     "text": [
      "C:\\Users\\sachi\\AppData\\Local\\Temp\\ipykernel_1788\\3544640990.py:2: DeprecationWarning: DataFrameGroupBy.apply operated on the grouping columns. This behavior is deprecated, and in a future version of pandas the grouping columns will be excluded from the operation. Either pass `include_groups=False` to exclude the groupings or explicitly select the grouping columns after groupby to silence this warning.\n",
      "  sampled_df = df.groupby('ProductID').apply(lambda x: x.sample(min(len(x), 100))).reset_index(drop=True)\n"
     ]
    }
   ],
   "source": [
    "# logic is that, extracting 100 data of PromoCodeUSed for each productId , counting the number of \"no\" and \"yes\".. fill the value with most number\n",
    "sampled_df = df.groupby('ProductID').apply(lambda x: x.sample(min(len(x), 100))).reset_index(drop=True)\n"
   ]
  },
  {
   "cell_type": "code",
   "execution_count": 65,
   "id": "3c2a5087",
   "metadata": {},
   "outputs": [],
   "source": [
    "promo_counts = sampled_df.groupby(['ProductID', 'PromoCodeUsed']).size().unstack(fill_value=0)\n"
   ]
  },
  {
   "cell_type": "code",
   "execution_count": 66,
   "id": "eca35afc",
   "metadata": {},
   "outputs": [],
   "source": [
    "# Create a dictionary with ProductID as key and majority promoCodeUsed as value\n",
    "promo_majority = {}\n",
    "\n",
    "for pid in promo_counts.index:\n",
    "    if promo_counts.loc[pid, 'Yes'] > promo_counts.loc[pid, 'No']:\n",
    "        promo_majority[pid] = 'Yes'\n",
    "    else:\n",
    "        promo_majority[pid] = 'No'\n"
   ]
  },
  {
   "cell_type": "code",
   "execution_count": 67,
   "id": "10a09ad1",
   "metadata": {},
   "outputs": [],
   "source": [
    "def fill_promo(row):\n",
    "    if pd.isnull(row['PromoCodeUsed']):\n",
    "        return promo_majority.get(row['ProductID'], 'No')  # Default 'No' if ProductID not found\n",
    "    else:\n",
    "        return row['PromoCodeUsed']\n",
    "\n",
    "df['PromoCodeUsed'] = df.apply(fill_promo, axis=1)\n"
   ]
  },
  {
   "cell_type": "code",
   "execution_count": 68,
   "id": "fb7c8e77",
   "metadata": {},
   "outputs": [
    {
     "name": "stdout",
     "output_type": "stream",
     "text": [
      "Missing promoCodeUsed after fill: 0\n"
     ]
    }
   ],
   "source": [
    "print(\"Missing promoCodeUsed after fill:\", df['PromoCodeUsed'].isnull().sum())\n"
   ]
  },
  {
   "cell_type": "code",
   "execution_count": 69,
   "id": "1ec650f5",
   "metadata": {},
   "outputs": [
    {
     "data": {
      "text/plain": [
       "ProductID        0\n",
       "Location         0\n",
       "Date             0\n",
       "UnitsSold        0\n",
       "PromoCodeUsed    0\n",
       "dtype: int64"
      ]
     },
     "execution_count": 69,
     "metadata": {},
     "output_type": "execute_result"
    }
   ],
   "source": [
    "df.isnull().sum()"
   ]
  },
  {
   "cell_type": "code",
   "execution_count": 70,
   "id": "c379e654",
   "metadata": {},
   "outputs": [
    {
     "data": {
      "text/plain": [
       "np.int64(986)"
      ]
     },
     "execution_count": 70,
     "metadata": {},
     "output_type": "execute_result"
    }
   ],
   "source": [
    "df.duplicated().sum()"
   ]
  },
  {
   "cell_type": "code",
   "execution_count": 71,
   "id": "33937f58",
   "metadata": {},
   "outputs": [],
   "source": [
    "df.drop_duplicates(inplace=True)"
   ]
  },
  {
   "cell_type": "code",
   "execution_count": 72,
   "id": "52dc45eb",
   "metadata": {},
   "outputs": [
    {
     "data": {
      "text/html": [
       "<div>\n",
       "<style scoped>\n",
       "    .dataframe tbody tr th:only-of-type {\n",
       "        vertical-align: middle;\n",
       "    }\n",
       "\n",
       "    .dataframe tbody tr th {\n",
       "        vertical-align: top;\n",
       "    }\n",
       "\n",
       "    .dataframe thead th {\n",
       "        text-align: right;\n",
       "    }\n",
       "</style>\n",
       "<table border=\"1\" class=\"dataframe\">\n",
       "  <thead>\n",
       "    <tr style=\"text-align: right;\">\n",
       "      <th></th>\n",
       "      <th>ProductID</th>\n",
       "      <th>Location</th>\n",
       "      <th>Date</th>\n",
       "      <th>UnitsSold</th>\n",
       "      <th>PromoCodeUsed</th>\n",
       "    </tr>\n",
       "  </thead>\n",
       "  <tbody>\n",
       "    <tr>\n",
       "      <th>113153</th>\n",
       "      <td>P0183</td>\n",
       "      <td>L04</td>\n",
       "      <td>2024-12-28</td>\n",
       "      <td>9</td>\n",
       "      <td>Yes</td>\n",
       "    </tr>\n",
       "    <tr>\n",
       "      <th>455445</th>\n",
       "      <td>P0490</td>\n",
       "      <td>L03</td>\n",
       "      <td>2024-06-21</td>\n",
       "      <td>6</td>\n",
       "      <td>No</td>\n",
       "    </tr>\n",
       "    <tr>\n",
       "      <th>24878</th>\n",
       "      <td>P0356</td>\n",
       "      <td>L04</td>\n",
       "      <td>2024-10-28</td>\n",
       "      <td>2</td>\n",
       "      <td>Yes</td>\n",
       "    </tr>\n",
       "    <tr>\n",
       "      <th>498043</th>\n",
       "      <td>P0282</td>\n",
       "      <td>L01</td>\n",
       "      <td>2024-08-20</td>\n",
       "      <td>5</td>\n",
       "      <td>Yes</td>\n",
       "    </tr>\n",
       "    <tr>\n",
       "      <th>370992</th>\n",
       "      <td>P0422</td>\n",
       "      <td>L08</td>\n",
       "      <td>2024-10-26</td>\n",
       "      <td>1</td>\n",
       "      <td>No</td>\n",
       "    </tr>\n",
       "    <tr>\n",
       "      <th>207076</th>\n",
       "      <td>P0336</td>\n",
       "      <td>L06</td>\n",
       "      <td>2024-11-28</td>\n",
       "      <td>8</td>\n",
       "      <td>Yes</td>\n",
       "    </tr>\n",
       "    <tr>\n",
       "      <th>109104</th>\n",
       "      <td>P0251</td>\n",
       "      <td>L07</td>\n",
       "      <td>2024-06-25</td>\n",
       "      <td>3</td>\n",
       "      <td>No</td>\n",
       "    </tr>\n",
       "    <tr>\n",
       "      <th>61790</th>\n",
       "      <td>P0365</td>\n",
       "      <td>L04</td>\n",
       "      <td>2024-08-22</td>\n",
       "      <td>9</td>\n",
       "      <td>No</td>\n",
       "    </tr>\n",
       "    <tr>\n",
       "      <th>381621</th>\n",
       "      <td>P0408</td>\n",
       "      <td>L07</td>\n",
       "      <td>2024-10-30</td>\n",
       "      <td>0</td>\n",
       "      <td>No</td>\n",
       "    </tr>\n",
       "    <tr>\n",
       "      <th>301775</th>\n",
       "      <td>P0214</td>\n",
       "      <td>L04</td>\n",
       "      <td>2024-05-04</td>\n",
       "      <td>1</td>\n",
       "      <td>Yes</td>\n",
       "    </tr>\n",
       "  </tbody>\n",
       "</table>\n",
       "</div>"
      ],
      "text/plain": [
       "       ProductID Location        Date  UnitsSold PromoCodeUsed\n",
       "113153     P0183      L04  2024-12-28          9           Yes\n",
       "455445     P0490      L03  2024-06-21          6            No\n",
       "24878      P0356      L04  2024-10-28          2           Yes\n",
       "498043     P0282      L01  2024-08-20          5           Yes\n",
       "370992     P0422      L08  2024-10-26          1            No\n",
       "207076     P0336      L06  2024-11-28          8           Yes\n",
       "109104     P0251      L07  2024-06-25          3            No\n",
       "61790      P0365      L04  2024-08-22          9            No\n",
       "381621     P0408      L07  2024-10-30          0            No\n",
       "301775     P0214      L04  2024-05-04          1           Yes"
      ]
     },
     "execution_count": 72,
     "metadata": {},
     "output_type": "execute_result"
    }
   ],
   "source": [
    "df.sample(10)"
   ]
  },
  {
   "cell_type": "code",
   "execution_count": 73,
   "id": "16922fea",
   "metadata": {},
   "outputs": [
    {
     "data": {
      "text/plain": [
       "ProductID        object\n",
       "Location         object\n",
       "Date             object\n",
       "UnitsSold         int64\n",
       "PromoCodeUsed    object\n",
       "dtype: object"
      ]
     },
     "execution_count": 73,
     "metadata": {},
     "output_type": "execute_result"
    }
   ],
   "source": [
    "df.dtypes"
   ]
  },
  {
   "cell_type": "code",
   "execution_count": 74,
   "id": "0a6523db",
   "metadata": {},
   "outputs": [],
   "source": [
    "df['Date'] = pd.to_datetime(df['Date'], errors='coerce')"
   ]
  },
  {
   "cell_type": "code",
   "execution_count": 75,
   "id": "714149a6",
   "metadata": {},
   "outputs": [
    {
     "data": {
      "text/plain": [
       "ProductID                object\n",
       "Location                 object\n",
       "Date             datetime64[ns]\n",
       "UnitsSold                 int64\n",
       "PromoCodeUsed            object\n",
       "dtype: object"
      ]
     },
     "execution_count": 75,
     "metadata": {},
     "output_type": "execute_result"
    }
   ],
   "source": [
    "df.dtypes"
   ]
  },
  {
   "cell_type": "code",
   "execution_count": 76,
   "id": "02501b90",
   "metadata": {},
   "outputs": [
    {
     "name": "stdout",
     "output_type": "stream",
     "text": [
      "Total negative UnitsSold rows: 0\n"
     ]
    }
   ],
   "source": [
    "negative_units = df[df['UnitsSold'] < 0]\n",
    "\n",
    "print(f\"Total negative UnitsSold rows: {len(negative_units)}\")"
   ]
  },
  {
   "cell_type": "markdown",
   "id": "7b7e2d58",
   "metadata": {},
   "source": [
    "# outliers"
   ]
  },
  {
   "cell_type": "code",
   "execution_count": 77,
   "id": "3f843e97",
   "metadata": {},
   "outputs": [
    {
     "name": "stdout",
     "output_type": "stream",
     "text": [
      "Total outliers in UnitsSold: 0\n"
     ]
    }
   ],
   "source": [
    "Q1 = df['UnitsSold'].quantile(0.25)\n",
    "Q3 = df['UnitsSold'].quantile(0.75)\n",
    "IQR = Q3 - Q1\n",
    "\n",
    "lower_bound = Q1 - 1.5 * IQR\n",
    "upper_bound = Q3 + 1.5 * IQR\n",
    "\n",
    "# Outlier rows\n",
    "outliers = df[(df['UnitsSold'] < lower_bound) | (df['UnitsSold'] > upper_bound)]\n",
    "\n",
    "print(f\"Total outliers in UnitsSold: {len(outliers)}\")\n"
   ]
  },
  {
   "cell_type": "code",
   "execution_count": 78,
   "id": "f9943ab8",
   "metadata": {},
   "outputs": [
    {
     "data": {
      "text/html": [
       "<div>\n",
       "<style scoped>\n",
       "    .dataframe tbody tr th:only-of-type {\n",
       "        vertical-align: middle;\n",
       "    }\n",
       "\n",
       "    .dataframe tbody tr th {\n",
       "        vertical-align: top;\n",
       "    }\n",
       "\n",
       "    .dataframe thead th {\n",
       "        text-align: right;\n",
       "    }\n",
       "</style>\n",
       "<table border=\"1\" class=\"dataframe\">\n",
       "  <thead>\n",
       "    <tr style=\"text-align: right;\">\n",
       "      <th></th>\n",
       "      <th>ProductID</th>\n",
       "      <th>Location</th>\n",
       "      <th>Date</th>\n",
       "      <th>UnitsSold</th>\n",
       "      <th>PromoCodeUsed</th>\n",
       "    </tr>\n",
       "  </thead>\n",
       "  <tbody>\n",
       "  </tbody>\n",
       "</table>\n",
       "</div>"
      ],
      "text/plain": [
       "Empty DataFrame\n",
       "Columns: [ProductID, Location, Date, UnitsSold, PromoCodeUsed]\n",
       "Index: []"
      ]
     },
     "execution_count": 78,
     "metadata": {},
     "output_type": "execute_result"
    }
   ],
   "source": [
    "outliers.sort_values(by='UnitsSold', ascending=False).head(10)\n"
   ]
  },
  {
   "cell_type": "code",
   "execution_count": 52,
   "id": "8f7d0afb",
   "metadata": {},
   "outputs": [
    {
     "data": {
      "text/plain": [
       "Series([], Name: count, dtype: int64)"
      ]
     },
     "execution_count": 52,
     "metadata": {},
     "output_type": "execute_result"
    }
   ],
   "source": [
    "outliers['ProductID'].value_counts().head(10)\n"
   ]
  },
  {
   "cell_type": "code",
   "execution_count": 79,
   "id": "858d49e6",
   "metadata": {},
   "outputs": [
    {
     "data": {
      "text/html": [
       "<div>\n",
       "<style scoped>\n",
       "    .dataframe tbody tr th:only-of-type {\n",
       "        vertical-align: middle;\n",
       "    }\n",
       "\n",
       "    .dataframe tbody tr th {\n",
       "        vertical-align: top;\n",
       "    }\n",
       "\n",
       "    .dataframe thead th {\n",
       "        text-align: right;\n",
       "    }\n",
       "</style>\n",
       "<table border=\"1\" class=\"dataframe\">\n",
       "  <thead>\n",
       "    <tr style=\"text-align: right;\">\n",
       "      <th></th>\n",
       "      <th>Date</th>\n",
       "      <th>UnitsSold</th>\n",
       "    </tr>\n",
       "  </thead>\n",
       "  <tbody>\n",
       "    <tr>\n",
       "      <th>count</th>\n",
       "      <td>494820</td>\n",
       "      <td>494820.000000</td>\n",
       "    </tr>\n",
       "    <tr>\n",
       "      <th>mean</th>\n",
       "      <td>2024-06-30 23:00:17.548199680</td>\n",
       "      <td>5.001128</td>\n",
       "    </tr>\n",
       "    <tr>\n",
       "      <th>min</th>\n",
       "      <td>2024-01-01 00:00:00</td>\n",
       "      <td>0.000000</td>\n",
       "    </tr>\n",
       "    <tr>\n",
       "      <th>25%</th>\n",
       "      <td>2024-04-01 00:00:00</td>\n",
       "      <td>2.000000</td>\n",
       "    </tr>\n",
       "    <tr>\n",
       "      <th>50%</th>\n",
       "      <td>2024-07-01 00:00:00</td>\n",
       "      <td>5.000000</td>\n",
       "    </tr>\n",
       "    <tr>\n",
       "      <th>75%</th>\n",
       "      <td>2024-09-30 00:00:00</td>\n",
       "      <td>8.000000</td>\n",
       "    </tr>\n",
       "    <tr>\n",
       "      <th>max</th>\n",
       "      <td>2024-12-30 00:00:00</td>\n",
       "      <td>10.000000</td>\n",
       "    </tr>\n",
       "    <tr>\n",
       "      <th>std</th>\n",
       "      <td>NaN</td>\n",
       "      <td>3.162425</td>\n",
       "    </tr>\n",
       "  </tbody>\n",
       "</table>\n",
       "</div>"
      ],
      "text/plain": [
       "                                Date      UnitsSold\n",
       "count                         494820  494820.000000\n",
       "mean   2024-06-30 23:00:17.548199680       5.001128\n",
       "min              2024-01-01 00:00:00       0.000000\n",
       "25%              2024-04-01 00:00:00       2.000000\n",
       "50%              2024-07-01 00:00:00       5.000000\n",
       "75%              2024-09-30 00:00:00       8.000000\n",
       "max              2024-12-30 00:00:00      10.000000\n",
       "std                              NaN       3.162425"
      ]
     },
     "execution_count": 79,
     "metadata": {},
     "output_type": "execute_result"
    }
   ],
   "source": [
    "df.describe()"
   ]
  },
  {
   "cell_type": "code",
   "execution_count": 80,
   "id": "3aa01bd7",
   "metadata": {},
   "outputs": [],
   "source": [
    "df.to_csv(r\"C:\\Users\\sachi\\OneDrive\\Product Demand Forecasting\\CLEANED DATA\\sales_data_Cleaned.csv\",index=False)"
   ]
  }
 ],
 "metadata": {
  "kernelspec": {
   "display_name": "Python 3",
   "language": "python",
   "name": "python3"
  },
  "language_info": {
   "codemirror_mode": {
    "name": "ipython",
    "version": 3
   },
   "file_extension": ".py",
   "mimetype": "text/x-python",
   "name": "python",
   "nbconvert_exporter": "python",
   "pygments_lexer": "ipython3",
   "version": "3.13.5"
  }
 },
 "nbformat": 4,
 "nbformat_minor": 5
}
