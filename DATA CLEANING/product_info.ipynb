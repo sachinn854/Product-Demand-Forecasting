{
 "cells": [
  {
   "cell_type": "code",
   "execution_count": 1,
   "id": "6371eebc",
   "metadata": {},
   "outputs": [],
   "source": [
    "import pandas as pd"
   ]
  },
  {
   "cell_type": "code",
   "execution_count": 2,
   "id": "342924ef",
   "metadata": {},
   "outputs": [],
   "source": [
    "df = pd.read_csv(r\"C:\\Users\\sachi\\OneDrive\\Product Demand Forecasting\\DATA\\product_info.csv\")"
   ]
  },
  {
   "cell_type": "code",
   "execution_count": 3,
   "id": "e9c2ffbe",
   "metadata": {},
   "outputs": [
    {
     "name": "stdout",
     "output_type": "stream",
     "text": [
      "<class 'pandas.core.frame.DataFrame'>\n",
      "RangeIndex: 500 entries, 0 to 499\n",
      "Data columns (total 8 columns):\n",
      " #   Column           Non-Null Count  Dtype  \n",
      "---  ------           --------------  -----  \n",
      " 0   ProductID        500 non-null    object \n",
      " 1   Category         500 non-null    object \n",
      " 2   Brand            500 non-null    object \n",
      " 3   Material         500 non-null    object \n",
      " 4   Weight(kg)       500 non-null    float64\n",
      " 5   Warranty(years)  500 non-null    int64  \n",
      " 6   ProductRating    470 non-null    float64\n",
      " 7   LaunchYear       480 non-null    float64\n",
      "dtypes: float64(3), int64(1), object(4)\n",
      "memory usage: 31.4+ KB\n"
     ]
    }
   ],
   "source": [
    "df.info()"
   ]
  },
  {
   "cell_type": "code",
   "execution_count": 4,
   "id": "1dd8b2b9",
   "metadata": {},
   "outputs": [
    {
     "data": {
      "text/html": [
       "<div>\n",
       "<style scoped>\n",
       "    .dataframe tbody tr th:only-of-type {\n",
       "        vertical-align: middle;\n",
       "    }\n",
       "\n",
       "    .dataframe tbody tr th {\n",
       "        vertical-align: top;\n",
       "    }\n",
       "\n",
       "    .dataframe thead th {\n",
       "        text-align: right;\n",
       "    }\n",
       "</style>\n",
       "<table border=\"1\" class=\"dataframe\">\n",
       "  <thead>\n",
       "    <tr style=\"text-align: right;\">\n",
       "      <th></th>\n",
       "      <th>ProductID</th>\n",
       "      <th>Category</th>\n",
       "      <th>Brand</th>\n",
       "      <th>Material</th>\n",
       "      <th>Weight(kg)</th>\n",
       "      <th>Warranty(years)</th>\n",
       "      <th>ProductRating</th>\n",
       "      <th>LaunchYear</th>\n",
       "    </tr>\n",
       "  </thead>\n",
       "  <tbody>\n",
       "    <tr>\n",
       "      <th>133</th>\n",
       "      <td>P0134</td>\n",
       "      <td>Toys</td>\n",
       "      <td>BrandA</td>\n",
       "      <td>Cotton</td>\n",
       "      <td>1.00</td>\n",
       "      <td>3</td>\n",
       "      <td>4.2</td>\n",
       "      <td>2023.0</td>\n",
       "    </tr>\n",
       "    <tr>\n",
       "      <th>37</th>\n",
       "      <td>P0038</td>\n",
       "      <td>Toys</td>\n",
       "      <td>BrandD</td>\n",
       "      <td>Glass</td>\n",
       "      <td>4.19</td>\n",
       "      <td>2</td>\n",
       "      <td>2.9</td>\n",
       "      <td>2020.0</td>\n",
       "    </tr>\n",
       "    <tr>\n",
       "      <th>499</th>\n",
       "      <td>P0500</td>\n",
       "      <td>Clothing</td>\n",
       "      <td>BrandB</td>\n",
       "      <td>Wood</td>\n",
       "      <td>4.01</td>\n",
       "      <td>2</td>\n",
       "      <td>4.8</td>\n",
       "      <td>2020.0</td>\n",
       "    </tr>\n",
       "    <tr>\n",
       "      <th>264</th>\n",
       "      <td>P0265</td>\n",
       "      <td>Beauty</td>\n",
       "      <td>BrandA</td>\n",
       "      <td>Cotton</td>\n",
       "      <td>3.05</td>\n",
       "      <td>0</td>\n",
       "      <td>4.5</td>\n",
       "      <td>2020.0</td>\n",
       "    </tr>\n",
       "    <tr>\n",
       "      <th>76</th>\n",
       "      <td>P0077</td>\n",
       "      <td>Clothing</td>\n",
       "      <td>BrandA</td>\n",
       "      <td>Wood</td>\n",
       "      <td>2.76</td>\n",
       "      <td>3</td>\n",
       "      <td>3.6</td>\n",
       "      <td>2021.0</td>\n",
       "    </tr>\n",
       "    <tr>\n",
       "      <th>175</th>\n",
       "      <td>P0176</td>\n",
       "      <td>Electronics</td>\n",
       "      <td>BrandB</td>\n",
       "      <td>Wood</td>\n",
       "      <td>3.68</td>\n",
       "      <td>1</td>\n",
       "      <td>4.3</td>\n",
       "      <td>2021.0</td>\n",
       "    </tr>\n",
       "    <tr>\n",
       "      <th>46</th>\n",
       "      <td>P0047</td>\n",
       "      <td>Electronics</td>\n",
       "      <td>BrandC</td>\n",
       "      <td>Plastic</td>\n",
       "      <td>1.24</td>\n",
       "      <td>2</td>\n",
       "      <td>3.9</td>\n",
       "      <td>2018.0</td>\n",
       "    </tr>\n",
       "    <tr>\n",
       "      <th>144</th>\n",
       "      <td>P0145</td>\n",
       "      <td>Beauty</td>\n",
       "      <td>BrandB</td>\n",
       "      <td>Glass</td>\n",
       "      <td>3.05</td>\n",
       "      <td>1</td>\n",
       "      <td>4.1</td>\n",
       "      <td>2021.0</td>\n",
       "    </tr>\n",
       "    <tr>\n",
       "      <th>376</th>\n",
       "      <td>P0377</td>\n",
       "      <td>Beauty</td>\n",
       "      <td>BrandB</td>\n",
       "      <td>Metal</td>\n",
       "      <td>2.70</td>\n",
       "      <td>2</td>\n",
       "      <td>2.9</td>\n",
       "      <td>2022.0</td>\n",
       "    </tr>\n",
       "    <tr>\n",
       "      <th>374</th>\n",
       "      <td>P0375</td>\n",
       "      <td>Clothing</td>\n",
       "      <td>BrandC</td>\n",
       "      <td>Metal</td>\n",
       "      <td>2.98</td>\n",
       "      <td>0</td>\n",
       "      <td>4.6</td>\n",
       "      <td>2023.0</td>\n",
       "    </tr>\n",
       "  </tbody>\n",
       "</table>\n",
       "</div>"
      ],
      "text/plain": [
       "    ProductID     Category   Brand Material  Weight(kg)  Warranty(years)  \\\n",
       "133     P0134         Toys  BrandA   Cotton        1.00                3   \n",
       "37      P0038         Toys  BrandD    Glass        4.19                2   \n",
       "499     P0500     Clothing  BrandB     Wood        4.01                2   \n",
       "264     P0265       Beauty  BrandA   Cotton        3.05                0   \n",
       "76      P0077     Clothing  BrandA     Wood        2.76                3   \n",
       "175     P0176  Electronics  BrandB     Wood        3.68                1   \n",
       "46      P0047  Electronics  BrandC  Plastic        1.24                2   \n",
       "144     P0145       Beauty  BrandB    Glass        3.05                1   \n",
       "376     P0377       Beauty  BrandB    Metal        2.70                2   \n",
       "374     P0375     Clothing  BrandC    Metal        2.98                0   \n",
       "\n",
       "     ProductRating  LaunchYear  \n",
       "133            4.2      2023.0  \n",
       "37             2.9      2020.0  \n",
       "499            4.8      2020.0  \n",
       "264            4.5      2020.0  \n",
       "76             3.6      2021.0  \n",
       "175            4.3      2021.0  \n",
       "46             3.9      2018.0  \n",
       "144            4.1      2021.0  \n",
       "376            2.9      2022.0  \n",
       "374            4.6      2023.0  "
      ]
     },
     "execution_count": 4,
     "metadata": {},
     "output_type": "execute_result"
    }
   ],
   "source": [
    "df.sample(10)"
   ]
  },
  {
   "cell_type": "code",
   "execution_count": 5,
   "id": "9ae345cb",
   "metadata": {},
   "outputs": [
    {
     "data": {
      "text/plain": [
       "ProductID           0\n",
       "Category            0\n",
       "Brand               0\n",
       "Material            0\n",
       "Weight(kg)          0\n",
       "Warranty(years)     0\n",
       "ProductRating      30\n",
       "LaunchYear         20\n",
       "dtype: int64"
      ]
     },
     "execution_count": 5,
     "metadata": {},
     "output_type": "execute_result"
    }
   ],
   "source": [
    "df.isnull().sum()"
   ]
  },
  {
   "cell_type": "code",
   "execution_count": 6,
   "id": "281d7d97",
   "metadata": {},
   "outputs": [
    {
     "data": {
      "text/plain": [
       "np.int64(0)"
      ]
     },
     "execution_count": 6,
     "metadata": {},
     "output_type": "execute_result"
    }
   ],
   "source": [
    "df.duplicated(subset=[\"ProductID\"]).sum()"
   ]
  },
  {
   "cell_type": "code",
   "execution_count": 7,
   "id": "16f06407",
   "metadata": {},
   "outputs": [
    {
     "name": "stdout",
     "output_type": "stream",
     "text": [
      "    ProductID     Category   Brand Material  Weight(kg)  Warranty(years)  \\\n",
      "9       P0010         Toys  BrandD   Cotton        2.71                3   \n",
      "14      P0015       Beauty  BrandD  Plastic        4.29                3   \n",
      "33      P0034     Clothing  BrandA   Cotton        0.51                2   \n",
      "54      P0055         Home  BrandB    Metal        4.51                0   \n",
      "62      P0063         Toys  BrandA   Cotton        2.08                1   \n",
      "124     P0125     Clothing  BrandB     Wood        2.27                1   \n",
      "131     P0132         Toys  BrandA  Plastic        3.90                3   \n",
      "146     P0147       Beauty  BrandC     Wood        0.52                1   \n",
      "163     P0164     Clothing  BrandB    Metal        0.83                3   \n",
      "164     P0165         Home  BrandB     Wood        4.37                1   \n",
      "168     P0169     Clothing  BrandA  Plastic        4.57                3   \n",
      "189     P0190         Home  BrandD    Glass        0.29                1   \n",
      "227     P0228  Electronics  BrandD    Metal        3.92                1   \n",
      "245     P0246         Home  BrandA    Metal        3.05                1   \n",
      "246     P0247       Beauty  BrandB    Glass        3.16                2   \n",
      "254     P0255     Clothing  BrandB   Cotton        2.53                1   \n",
      "282     P0283     Clothing  BrandA  Plastic        1.26                3   \n",
      "292     P0293     Clothing  BrandB   Cotton        3.89                3   \n",
      "310     P0311     Clothing  BrandC     Wood        3.92                2   \n",
      "324     P0325     Clothing  BrandB    Metal        0.66                2   \n",
      "326     P0327         Home  BrandB   Cotton        1.70                2   \n",
      "356     P0357       Beauty  BrandD    Glass        0.36                1   \n",
      "365     P0366         Toys  BrandC   Cotton        0.70                2   \n",
      "398     P0399       Beauty  BrandD    Metal        3.89                0   \n",
      "424     P0425         Home  BrandB   Cotton        4.37                2   \n",
      "461     P0462  Electronics  BrandC    Glass        0.54                3   \n",
      "462     P0463         Toys  BrandC   Cotton        4.78                0   \n",
      "465     P0466  Electronics  BrandB   Cotton        1.15                3   \n",
      "482     P0483  Electronics  BrandB  Plastic        4.33                0   \n",
      "487     P0488         Home  BrandA   Cotton        1.09                3   \n",
      "\n",
      "     ProductRating  LaunchYear  \n",
      "9              NaN         NaN  \n",
      "14             NaN         NaN  \n",
      "33             NaN      2021.0  \n",
      "54             NaN      2022.0  \n",
      "62             NaN      2021.0  \n",
      "124            NaN      2019.0  \n",
      "131            NaN      2019.0  \n",
      "146            NaN      2022.0  \n",
      "163            NaN      2018.0  \n",
      "164            NaN      2022.0  \n",
      "168            NaN      2020.0  \n",
      "189            NaN      2023.0  \n",
      "227            NaN      2019.0  \n",
      "245            NaN      2021.0  \n",
      "246            NaN      2023.0  \n",
      "254            NaN      2023.0  \n",
      "282            NaN      2018.0  \n",
      "292            NaN      2020.0  \n",
      "310            NaN         NaN  \n",
      "324            NaN      2018.0  \n",
      "326            NaN      2018.0  \n",
      "356            NaN      2020.0  \n",
      "365            NaN      2018.0  \n",
      "398            NaN      2018.0  \n",
      "424            NaN      2021.0  \n",
      "461            NaN      2019.0  \n",
      "462            NaN      2023.0  \n",
      "465            NaN      2021.0  \n",
      "482            NaN      2023.0  \n",
      "487            NaN      2022.0  \n"
     ]
    }
   ],
   "source": [
    "print(df[df['ProductRating'].isnull()])\n",
    "\n"
   ]
  },
  {
   "cell_type": "markdown",
   "id": "3c5095fa",
   "metadata": {},
   "source": [
    "# Filling Missing Values"
   ]
  },
  {
   "cell_type": "code",
   "execution_count": 8,
   "id": "f6f84173",
   "metadata": {},
   "outputs": [],
   "source": [
    "# filling by Category, Brand, Material \n",
    "# df['ProductRating'] = df.groupby(['Category', 'Brand'])['ProductRating'].transform(\n",
    "#     lambda x: x.fillna(x.mean())\n",
    "# )\n",
    "df['ProductRating'] = df.groupby(['Category', 'Brand', 'Material'])['ProductRating'].transform(\n",
    "    lambda x: x.fillna(x.mean())\n",
    ")\n"
   ]
  },
  {
   "cell_type": "code",
   "execution_count": 9,
   "id": "5d04764b",
   "metadata": {},
   "outputs": [
    {
     "data": {
      "text/plain": [
       "ProductID           0\n",
       "Category            0\n",
       "Brand               0\n",
       "Material            0\n",
       "Weight(kg)          0\n",
       "Warranty(years)     0\n",
       "ProductRating       0\n",
       "LaunchYear         20\n",
       "dtype: int64"
      ]
     },
     "execution_count": 9,
     "metadata": {},
     "output_type": "execute_result"
    }
   ],
   "source": [
    "df.isnull().sum()"
   ]
  },
  {
   "cell_type": "code",
   "execution_count": 10,
   "id": "86fc6f54",
   "metadata": {},
   "outputs": [
    {
     "data": {
      "text/plain": [
       "9      4.1\n",
       "178    3.9\n",
       "301    3.9\n",
       "308    4.5\n",
       "Name: ProductRating, dtype: float64"
      ]
     },
     "execution_count": 10,
     "metadata": {},
     "output_type": "execute_result"
    }
   ],
   "source": [
    "df[(df['Category'] == 'Toys') & (df['Brand'] == 'BrandD') & (df['Material']=='Cotton')]['ProductRating']\n"
   ]
  },
  {
   "cell_type": "code",
   "execution_count": 11,
   "id": "abfcfbb5",
   "metadata": {},
   "outputs": [
    {
     "data": {
      "text/plain": [
       "np.float64(4.1)"
      ]
     },
     "execution_count": 11,
     "metadata": {},
     "output_type": "execute_result"
    }
   ],
   "source": [
    "df[(df['Category'] == 'Toys') & (df['Brand'] == 'BrandD') & (df['Material']=='Cotton')]['ProductRating'].mean()"
   ]
  },
  {
   "cell_type": "code",
   "execution_count": 12,
   "id": "1657f503",
   "metadata": {},
   "outputs": [],
   "source": [
    "# Fill missing LaunchYear using mode of Brand + Category group\n",
    "df['LaunchYear'] = df.groupby(['Brand', 'Category'])['LaunchYear'].transform(\n",
    "    lambda x: x.fillna(x.mode().iloc[0]) if not x.mode().empty else x\n",
    ")\n"
   ]
  },
  {
   "cell_type": "code",
   "execution_count": 13,
   "id": "9b2a62aa",
   "metadata": {},
   "outputs": [
    {
     "data": {
      "text/plain": [
       "ProductID          0\n",
       "Category           0\n",
       "Brand              0\n",
       "Material           0\n",
       "Weight(kg)         0\n",
       "Warranty(years)    0\n",
       "ProductRating      0\n",
       "LaunchYear         0\n",
       "dtype: int64"
      ]
     },
     "execution_count": 13,
     "metadata": {},
     "output_type": "execute_result"
    }
   ],
   "source": [
    "df.isnull().sum()"
   ]
  },
  {
   "cell_type": "code",
   "execution_count": 14,
   "id": "141d1610",
   "metadata": {},
   "outputs": [
    {
     "data": {
      "text/html": [
       "<div>\n",
       "<style scoped>\n",
       "    .dataframe tbody tr th:only-of-type {\n",
       "        vertical-align: middle;\n",
       "    }\n",
       "\n",
       "    .dataframe tbody tr th {\n",
       "        vertical-align: top;\n",
       "    }\n",
       "\n",
       "    .dataframe thead th {\n",
       "        text-align: right;\n",
       "    }\n",
       "</style>\n",
       "<table border=\"1\" class=\"dataframe\">\n",
       "  <thead>\n",
       "    <tr style=\"text-align: right;\">\n",
       "      <th></th>\n",
       "      <th>Weight(kg)</th>\n",
       "      <th>Warranty(years)</th>\n",
       "      <th>ProductRating</th>\n",
       "      <th>LaunchYear</th>\n",
       "    </tr>\n",
       "  </thead>\n",
       "  <tbody>\n",
       "    <tr>\n",
       "      <th>count</th>\n",
       "      <td>500.000000</td>\n",
       "      <td>500.000000</td>\n",
       "      <td>500.000000</td>\n",
       "      <td>500.000000</td>\n",
       "    </tr>\n",
       "    <tr>\n",
       "      <th>mean</th>\n",
       "      <td>2.624920</td>\n",
       "      <td>1.478000</td>\n",
       "      <td>3.802753</td>\n",
       "      <td>2020.502000</td>\n",
       "    </tr>\n",
       "    <tr>\n",
       "      <th>std</th>\n",
       "      <td>1.391958</td>\n",
       "      <td>1.145487</td>\n",
       "      <td>0.718118</td>\n",
       "      <td>1.745879</td>\n",
       "    </tr>\n",
       "    <tr>\n",
       "      <th>min</th>\n",
       "      <td>0.200000</td>\n",
       "      <td>0.000000</td>\n",
       "      <td>2.500000</td>\n",
       "      <td>2018.000000</td>\n",
       "    </tr>\n",
       "    <tr>\n",
       "      <th>25%</th>\n",
       "      <td>1.405000</td>\n",
       "      <td>0.000000</td>\n",
       "      <td>3.200000</td>\n",
       "      <td>2019.000000</td>\n",
       "    </tr>\n",
       "    <tr>\n",
       "      <th>50%</th>\n",
       "      <td>2.710000</td>\n",
       "      <td>1.000000</td>\n",
       "      <td>3.800000</td>\n",
       "      <td>2020.000000</td>\n",
       "    </tr>\n",
       "    <tr>\n",
       "      <th>75%</th>\n",
       "      <td>3.822500</td>\n",
       "      <td>3.000000</td>\n",
       "      <td>4.400000</td>\n",
       "      <td>2022.000000</td>\n",
       "    </tr>\n",
       "    <tr>\n",
       "      <th>max</th>\n",
       "      <td>4.980000</td>\n",
       "      <td>3.000000</td>\n",
       "      <td>5.000000</td>\n",
       "      <td>2023.000000</td>\n",
       "    </tr>\n",
       "  </tbody>\n",
       "</table>\n",
       "</div>"
      ],
      "text/plain": [
       "       Weight(kg)  Warranty(years)  ProductRating   LaunchYear\n",
       "count  500.000000       500.000000     500.000000   500.000000\n",
       "mean     2.624920         1.478000       3.802753  2020.502000\n",
       "std      1.391958         1.145487       0.718118     1.745879\n",
       "min      0.200000         0.000000       2.500000  2018.000000\n",
       "25%      1.405000         0.000000       3.200000  2019.000000\n",
       "50%      2.710000         1.000000       3.800000  2020.000000\n",
       "75%      3.822500         3.000000       4.400000  2022.000000\n",
       "max      4.980000         3.000000       5.000000  2023.000000"
      ]
     },
     "execution_count": 14,
     "metadata": {},
     "output_type": "execute_result"
    }
   ],
   "source": [
    "df.describe()"
   ]
  },
  {
   "cell_type": "code",
   "execution_count": 15,
   "id": "a6b3f723",
   "metadata": {},
   "outputs": [
    {
     "data": {
      "text/html": [
       "<div>\n",
       "<style scoped>\n",
       "    .dataframe tbody tr th:only-of-type {\n",
       "        vertical-align: middle;\n",
       "    }\n",
       "\n",
       "    .dataframe tbody tr th {\n",
       "        vertical-align: top;\n",
       "    }\n",
       "\n",
       "    .dataframe thead th {\n",
       "        text-align: right;\n",
       "    }\n",
       "</style>\n",
       "<table border=\"1\" class=\"dataframe\">\n",
       "  <thead>\n",
       "    <tr style=\"text-align: right;\">\n",
       "      <th></th>\n",
       "      <th>ProductID</th>\n",
       "      <th>Category</th>\n",
       "      <th>Brand</th>\n",
       "      <th>Material</th>\n",
       "    </tr>\n",
       "  </thead>\n",
       "  <tbody>\n",
       "    <tr>\n",
       "      <th>count</th>\n",
       "      <td>500</td>\n",
       "      <td>500</td>\n",
       "      <td>500</td>\n",
       "      <td>500</td>\n",
       "    </tr>\n",
       "    <tr>\n",
       "      <th>unique</th>\n",
       "      <td>500</td>\n",
       "      <td>5</td>\n",
       "      <td>4</td>\n",
       "      <td>5</td>\n",
       "    </tr>\n",
       "    <tr>\n",
       "      <th>top</th>\n",
       "      <td>P0500</td>\n",
       "      <td>Beauty</td>\n",
       "      <td>BrandA</td>\n",
       "      <td>Metal</td>\n",
       "    </tr>\n",
       "    <tr>\n",
       "      <th>freq</th>\n",
       "      <td>1</td>\n",
       "      <td>112</td>\n",
       "      <td>143</td>\n",
       "      <td>108</td>\n",
       "    </tr>\n",
       "  </tbody>\n",
       "</table>\n",
       "</div>"
      ],
      "text/plain": [
       "       ProductID Category   Brand Material\n",
       "count        500      500     500      500\n",
       "unique       500        5       4        5\n",
       "top        P0500   Beauty  BrandA    Metal\n",
       "freq           1      112     143      108"
      ]
     },
     "execution_count": 15,
     "metadata": {},
     "output_type": "execute_result"
    }
   ],
   "source": [
    "df.describe(include='object')"
   ]
  },
  {
   "cell_type": "code",
   "execution_count": 16,
   "id": "b78bae7f",
   "metadata": {},
   "outputs": [
    {
     "data": {
      "text/plain": [
       "ProductID          500\n",
       "Category             5\n",
       "Brand                4\n",
       "Material             5\n",
       "Weight(kg)         309\n",
       "Warranty(years)      4\n",
       "ProductRating       44\n",
       "LaunchYear           6\n",
       "dtype: int64"
      ]
     },
     "execution_count": 16,
     "metadata": {},
     "output_type": "execute_result"
    }
   ],
   "source": [
    "df.nunique()"
   ]
  },
  {
   "cell_type": "code",
   "execution_count": 17,
   "id": "ca97f958",
   "metadata": {},
   "outputs": [
    {
     "name": "stdout",
     "output_type": "stream",
     "text": [
      "No Negative Values Found\n",
      "No Negative Values Found\n",
      "No Negative Values Found\n",
      "No Negative Values Found\n"
     ]
    }
   ],
   "source": [
    "# Checking fr Negative Values\n",
    "for col in df.select_dtypes(include=['int64', 'float64']).columns:\n",
    "    neg_rows = df[df[col] < 0]\n",
    "    if not neg_rows.empty:\n",
    "        print(f\"Negative values found in '{col}':\")\n",
    "        print(neg_rows)\n",
    "    else:\n",
    "        print(\"No Negative Values Found\")    \n"
   ]
  },
  {
   "cell_type": "code",
   "execution_count": 18,
   "id": "7cf4eb5f",
   "metadata": {},
   "outputs": [
    {
     "name": "stdout",
     "output_type": "stream",
     "text": [
      " There is no Invalid Entry\n"
     ]
    }
   ],
   "source": [
    "# Invalid Warranty\n",
    "count=df[df['Warranty(years)']>5].shape[0]\n",
    "if count>0:\n",
    "    print(\"There are Invalid Warranty\")\n",
    "else:\n",
    "    print(\" There is no Invalid Entry\")    "
   ]
  },
  {
   "cell_type": "markdown",
   "id": "679d7d9d",
   "metadata": {},
   "source": [
    "# Outlier Detection"
   ]
  },
  {
   "cell_type": "code",
   "execution_count": 19,
   "id": "68cd9de3",
   "metadata": {},
   "outputs": [
    {
     "data": {
      "text/plain": [
       "count    500.000000\n",
       "mean       2.624920\n",
       "std        1.391958\n",
       "min        0.200000\n",
       "25%        1.405000\n",
       "50%        2.710000\n",
       "75%        3.822500\n",
       "max        4.980000\n",
       "Name: Weight(kg), dtype: float64"
      ]
     },
     "execution_count": 19,
     "metadata": {},
     "output_type": "execute_result"
    }
   ],
   "source": [
    "df['Weight(kg)'].describe()\n"
   ]
  },
  {
   "cell_type": "code",
   "execution_count": 20,
   "id": "837c6867",
   "metadata": {},
   "outputs": [
    {
     "name": "stdout",
     "output_type": "stream",
     "text": [
      "Empty DataFrame\n",
      "Columns: [ProductID, Category, Brand, Material, Weight(kg), Warranty(years), ProductRating, LaunchYear]\n",
      "Index: []\n"
     ]
    }
   ],
   "source": [
    "Q1 = df['Weight(kg)'].quantile(0.25)\n",
    "Q3 = df['Weight(kg)'].quantile(0.75)\n",
    "IQR = Q3 - Q1\n",
    "outliers = df[(df['Weight(kg)'] < Q1 - 1.5*IQR) | (df['Weight(kg)'] > Q3 + 1.5*IQR)]\n",
    "print(outliers)\n"
   ]
  },
  {
   "cell_type": "code",
   "execution_count": 21,
   "id": "f1b69d73",
   "metadata": {},
   "outputs": [],
   "source": [
    "# Convert to 'category' dtype to save memory\n",
    "df['Category'] = df['Category'].astype('category')\n",
    "df['Brand'] = df['Brand'].astype('category')\n",
    "df['Material'] = df['Material'].astype('category')\n",
    "df['Warranty(years)'] = df['Warranty(years)'].astype('category')  # optional\n",
    "\n",
    "# Convert LaunchYear to integer (if no NaN left)\n",
    "df['LaunchYear'] = df['LaunchYear'].astype(int)\n"
   ]
  },
  {
   "cell_type": "code",
   "execution_count": 22,
   "id": "bc3b2543",
   "metadata": {},
   "outputs": [
    {
     "data": {
      "text/plain": [
       "ProductID            object\n",
       "Category           category\n",
       "Brand              category\n",
       "Material           category\n",
       "Weight(kg)          float64\n",
       "Warranty(years)    category\n",
       "ProductRating       float64\n",
       "LaunchYear            int64\n",
       "dtype: object"
      ]
     },
     "execution_count": 22,
     "metadata": {},
     "output_type": "execute_result"
    }
   ],
   "source": [
    "df.dtypes"
   ]
  },
  {
   "cell_type": "code",
   "execution_count": 23,
   "id": "63c76ad8",
   "metadata": {},
   "outputs": [
    {
     "name": "stdout",
     "output_type": "stream",
     "text": [
      "<class 'pandas.core.frame.DataFrame'>\n",
      "RangeIndex: 500 entries, 0 to 499\n",
      "Data columns (total 8 columns):\n",
      " #   Column           Non-Null Count  Dtype   \n",
      "---  ------           --------------  -----   \n",
      " 0   ProductID        500 non-null    object  \n",
      " 1   Category         500 non-null    category\n",
      " 2   Brand            500 non-null    category\n",
      " 3   Material         500 non-null    category\n",
      " 4   Weight(kg)       500 non-null    float64 \n",
      " 5   Warranty(years)  500 non-null    category\n",
      " 6   ProductRating    500 non-null    float64 \n",
      " 7   LaunchYear       500 non-null    int64   \n",
      "dtypes: category(4), float64(2), int64(1), object(1)\n",
      "memory usage: 18.5+ KB\n"
     ]
    }
   ],
   "source": [
    "df.info()"
   ]
  },
  {
   "cell_type": "code",
   "execution_count": 24,
   "id": "9123749b",
   "metadata": {},
   "outputs": [],
   "source": [
    "df.to_csv(r'C:\\Users\\sachi\\OneDrive\\Product Demand Forecasting\\CLEANED DATA\\product_info_cleaned.csv', index=False)"
   ]
  }
 ],
 "metadata": {
  "kernelspec": {
   "display_name": "Python 3",
   "language": "python",
   "name": "python3"
  },
  "language_info": {
   "codemirror_mode": {
    "name": "ipython",
    "version": 3
   },
   "file_extension": ".py",
   "mimetype": "text/x-python",
   "name": "python",
   "nbconvert_exporter": "python",
   "pygments_lexer": "ipython3",
   "version": "3.13.5"
  }
 },
 "nbformat": 4,
 "nbformat_minor": 5
}
