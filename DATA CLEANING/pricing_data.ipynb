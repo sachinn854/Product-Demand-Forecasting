{
 "cells": [
  {
   "cell_type": "code",
   "execution_count": 1,
   "id": "b00b2e70",
   "metadata": {},
   "outputs": [],
   "source": [
    "import pandas as pd "
   ]
  },
  {
   "cell_type": "code",
   "execution_count": 2,
   "id": "aef2307f",
   "metadata": {},
   "outputs": [],
   "source": [
    "df = pd.read_csv(r\"C:\\Users\\sachi\\OneDrive\\Product Demand Forecasting\\DATA\\pricing_data_2024.csv\")"
   ]
  },
  {
   "cell_type": "code",
   "execution_count": 3,
   "id": "67ad0131",
   "metadata": {},
   "outputs": [
    {
     "data": {
      "text/html": [
       "<div>\n",
       "<style scoped>\n",
       "    .dataframe tbody tr th:only-of-type {\n",
       "        vertical-align: middle;\n",
       "    }\n",
       "\n",
       "    .dataframe tbody tr th {\n",
       "        vertical-align: top;\n",
       "    }\n",
       "\n",
       "    .dataframe thead th {\n",
       "        text-align: right;\n",
       "    }\n",
       "</style>\n",
       "<table border=\"1\" class=\"dataframe\">\n",
       "  <thead>\n",
       "    <tr style=\"text-align: right;\">\n",
       "      <th></th>\n",
       "      <th>ProductID</th>\n",
       "      <th>Location</th>\n",
       "      <th>Date</th>\n",
       "      <th>Price</th>\n",
       "      <th>Discount(%)</th>\n",
       "      <th>CompetitorPrice</th>\n",
       "      <th>AdCampaign</th>\n",
       "    </tr>\n",
       "  </thead>\n",
       "  <tbody>\n",
       "    <tr>\n",
       "      <th>23777</th>\n",
       "      <td>P0451</td>\n",
       "      <td>L02</td>\n",
       "      <td>2024-04-21</td>\n",
       "      <td>353.16</td>\n",
       "      <td>10</td>\n",
       "      <td>383.66</td>\n",
       "      <td>NaN</td>\n",
       "    </tr>\n",
       "    <tr>\n",
       "      <th>469708</th>\n",
       "      <td>P0264</td>\n",
       "      <td>L01</td>\n",
       "      <td>2024-06-26</td>\n",
       "      <td>353.08</td>\n",
       "      <td>20</td>\n",
       "      <td>415.48</td>\n",
       "      <td>TV</td>\n",
       "    </tr>\n",
       "    <tr>\n",
       "      <th>352624</th>\n",
       "      <td>P0424</td>\n",
       "      <td>L09</td>\n",
       "      <td>2024-06-08</td>\n",
       "      <td>353.04</td>\n",
       "      <td>5</td>\n",
       "      <td>417.68</td>\n",
       "      <td>TV</td>\n",
       "    </tr>\n",
       "    <tr>\n",
       "      <th>337777</th>\n",
       "      <td>P0435</td>\n",
       "      <td>L07</td>\n",
       "      <td>2024-02-12</td>\n",
       "      <td>492.29</td>\n",
       "      <td>0</td>\n",
       "      <td>517.02</td>\n",
       "      <td>NaN</td>\n",
       "    </tr>\n",
       "    <tr>\n",
       "      <th>458014</th>\n",
       "      <td>P0424</td>\n",
       "      <td>L03</td>\n",
       "      <td>2024-01-25</td>\n",
       "      <td>189.89</td>\n",
       "      <td>20</td>\n",
       "      <td>222.21</td>\n",
       "      <td>Online</td>\n",
       "    </tr>\n",
       "    <tr>\n",
       "      <th>342006</th>\n",
       "      <td>P0058</td>\n",
       "      <td>L03</td>\n",
       "      <td>2024-03-08</td>\n",
       "      <td>386.80</td>\n",
       "      <td>10</td>\n",
       "      <td>394.55</td>\n",
       "      <td>NaN</td>\n",
       "    </tr>\n",
       "    <tr>\n",
       "      <th>243172</th>\n",
       "      <td>P0262</td>\n",
       "      <td>L06</td>\n",
       "      <td>2024-12-26</td>\n",
       "      <td>408.58</td>\n",
       "      <td>15</td>\n",
       "      <td>387.06</td>\n",
       "      <td>Online</td>\n",
       "    </tr>\n",
       "    <tr>\n",
       "      <th>54876</th>\n",
       "      <td>P0259</td>\n",
       "      <td>L09</td>\n",
       "      <td>2024-08-24</td>\n",
       "      <td>216.40</td>\n",
       "      <td>20</td>\n",
       "      <td>250.99</td>\n",
       "      <td>NaN</td>\n",
       "    </tr>\n",
       "    <tr>\n",
       "      <th>214501</th>\n",
       "      <td>P0067</td>\n",
       "      <td>L07</td>\n",
       "      <td>2024-02-09</td>\n",
       "      <td>130.05</td>\n",
       "      <td>0</td>\n",
       "      <td>152.81</td>\n",
       "      <td>TV</td>\n",
       "    </tr>\n",
       "    <tr>\n",
       "      <th>402842</th>\n",
       "      <td>P0033</td>\n",
       "      <td>L07</td>\n",
       "      <td>2024-02-06</td>\n",
       "      <td>113.56</td>\n",
       "      <td>5</td>\n",
       "      <td>116.41</td>\n",
       "      <td>Online</td>\n",
       "    </tr>\n",
       "  </tbody>\n",
       "</table>\n",
       "</div>"
      ],
      "text/plain": [
       "       ProductID Location        Date   Price  Discount(%)  CompetitorPrice  \\\n",
       "23777      P0451      L02  2024-04-21  353.16           10           383.66   \n",
       "469708     P0264      L01  2024-06-26  353.08           20           415.48   \n",
       "352624     P0424      L09  2024-06-08  353.04            5           417.68   \n",
       "337777     P0435      L07  2024-02-12  492.29            0           517.02   \n",
       "458014     P0424      L03  2024-01-25  189.89           20           222.21   \n",
       "342006     P0058      L03  2024-03-08  386.80           10           394.55   \n",
       "243172     P0262      L06  2024-12-26  408.58           15           387.06   \n",
       "54876      P0259      L09  2024-08-24  216.40           20           250.99   \n",
       "214501     P0067      L07  2024-02-09  130.05            0           152.81   \n",
       "402842     P0033      L07  2024-02-06  113.56            5           116.41   \n",
       "\n",
       "       AdCampaign  \n",
       "23777         NaN  \n",
       "469708         TV  \n",
       "352624         TV  \n",
       "337777        NaN  \n",
       "458014     Online  \n",
       "342006        NaN  \n",
       "243172     Online  \n",
       "54876         NaN  \n",
       "214501         TV  \n",
       "402842     Online  "
      ]
     },
     "execution_count": 3,
     "metadata": {},
     "output_type": "execute_result"
    }
   ],
   "source": [
    "df.sample(10)"
   ]
  },
  {
   "cell_type": "code",
   "execution_count": 4,
   "id": "610b06e4",
   "metadata": {},
   "outputs": [
    {
     "name": "stdout",
     "output_type": "stream",
     "text": [
      "<class 'pandas.core.frame.DataFrame'>\n",
      "RangeIndex: 500000 entries, 0 to 499999\n",
      "Data columns (total 7 columns):\n",
      " #   Column           Non-Null Count   Dtype  \n",
      "---  ------           --------------   -----  \n",
      " 0   ProductID        500000 non-null  object \n",
      " 1   Location         500000 non-null  object \n",
      " 2   Date             500000 non-null  object \n",
      " 3   Price            500000 non-null  float64\n",
      " 4   Discount(%)      500000 non-null  int64  \n",
      " 5   CompetitorPrice  500000 non-null  float64\n",
      " 6   AdCampaign       300034 non-null  object \n",
      "dtypes: float64(2), int64(1), object(4)\n",
      "memory usage: 26.7+ MB\n"
     ]
    }
   ],
   "source": [
    "df.info()"
   ]
  },
  {
   "cell_type": "code",
   "execution_count": 5,
   "id": "c966ee3d",
   "metadata": {},
   "outputs": [
    {
     "data": {
      "text/plain": [
       "ProductID               0\n",
       "Location                0\n",
       "Date                    0\n",
       "Price                   0\n",
       "Discount(%)             0\n",
       "CompetitorPrice         0\n",
       "AdCampaign         199966\n",
       "dtype: int64"
      ]
     },
     "execution_count": 5,
     "metadata": {},
     "output_type": "execute_result"
    }
   ],
   "source": [
    "df.isnull().sum()"
   ]
  },
  {
   "cell_type": "code",
   "execution_count": 6,
   "id": "3775f7cb",
   "metadata": {},
   "outputs": [
    {
     "data": {
      "text/plain": [
       "(500000, 7)"
      ]
     },
     "execution_count": 6,
     "metadata": {},
     "output_type": "execute_result"
    }
   ],
   "source": [
    "df.shape"
   ]
  },
  {
   "cell_type": "markdown",
   "id": "6bb80705",
   "metadata": {},
   "source": [
    "# filling missing values in AdCampaign"
   ]
  },
  {
   "cell_type": "code",
   "execution_count": 7,
   "id": "fab6f3d8",
   "metadata": {},
   "outputs": [],
   "source": [
    "\n",
    "# Step 1: Replace blank strings with NaN\n",
    "df['AdCampaign'] = df['AdCampaign'].replace('', pd.NA)\n",
    "\n",
    "# Step 2: Get the most frequent AdCampaign per (ProductID, Location)\n",
    "mode_dict = (\n",
    "    df[df['AdCampaign'].notna()]\n",
    "    .groupby(['ProductID', 'Location'])['AdCampaign']\n",
    "    .agg(lambda x: x.mode().iloc[0] if not x.mode().empty else pd.NA)\n",
    ")\n",
    "\n",
    "# Step 3: Create key tuple for lookup\n",
    "df['_key'] = list(zip(df['ProductID'], df['Location']))\n",
    "\n",
    "# Step 4: Fill missing AdCampaigns using the mode_dict\n",
    "df['AdCampaign'] = df.apply(\n",
    "    lambda row: mode_dict.get(row['_key']) if pd.isna(row['AdCampaign']) else row['AdCampaign'],\n",
    "    axis=1\n",
    ")\n",
    "\n",
    "# Step 5: Drop temporary key column\n",
    "df.drop(columns=['_key'], inplace=True)\n"
   ]
  },
  {
   "cell_type": "code",
   "execution_count": 8,
   "id": "9d91b415",
   "metadata": {},
   "outputs": [
    {
     "data": {
      "text/plain": [
       "ProductID          0\n",
       "Location           0\n",
       "Date               0\n",
       "Price              0\n",
       "Discount(%)        0\n",
       "CompetitorPrice    0\n",
       "AdCampaign         0\n",
       "dtype: int64"
      ]
     },
     "execution_count": 8,
     "metadata": {},
     "output_type": "execute_result"
    }
   ],
   "source": [
    "df.isnull().sum()"
   ]
  },
  {
   "cell_type": "code",
   "execution_count": 9,
   "id": "148324ff",
   "metadata": {},
   "outputs": [
    {
     "data": {
      "text/html": [
       "<div>\n",
       "<style scoped>\n",
       "    .dataframe tbody tr th:only-of-type {\n",
       "        vertical-align: middle;\n",
       "    }\n",
       "\n",
       "    .dataframe tbody tr th {\n",
       "        vertical-align: top;\n",
       "    }\n",
       "\n",
       "    .dataframe thead th {\n",
       "        text-align: right;\n",
       "    }\n",
       "</style>\n",
       "<table border=\"1\" class=\"dataframe\">\n",
       "  <thead>\n",
       "    <tr style=\"text-align: right;\">\n",
       "      <th></th>\n",
       "      <th>ProductID</th>\n",
       "      <th>Location</th>\n",
       "      <th>Date</th>\n",
       "      <th>Price</th>\n",
       "      <th>Discount(%)</th>\n",
       "      <th>CompetitorPrice</th>\n",
       "      <th>AdCampaign</th>\n",
       "    </tr>\n",
       "  </thead>\n",
       "  <tbody>\n",
       "    <tr>\n",
       "      <th>306834</th>\n",
       "      <td>P0323</td>\n",
       "      <td>L04</td>\n",
       "      <td>2024-12-02</td>\n",
       "      <td>128.00</td>\n",
       "      <td>5</td>\n",
       "      <td>149.42</td>\n",
       "      <td>TV</td>\n",
       "    </tr>\n",
       "    <tr>\n",
       "      <th>381308</th>\n",
       "      <td>P0092</td>\n",
       "      <td>L07</td>\n",
       "      <td>2024-11-20</td>\n",
       "      <td>259.47</td>\n",
       "      <td>10</td>\n",
       "      <td>296.67</td>\n",
       "      <td>Online</td>\n",
       "    </tr>\n",
       "    <tr>\n",
       "      <th>184995</th>\n",
       "      <td>P0220</td>\n",
       "      <td>L05</td>\n",
       "      <td>2024-08-22</td>\n",
       "      <td>110.74</td>\n",
       "      <td>10</td>\n",
       "      <td>106.30</td>\n",
       "      <td>TV</td>\n",
       "    </tr>\n",
       "    <tr>\n",
       "      <th>343587</th>\n",
       "      <td>P0143</td>\n",
       "      <td>L01</td>\n",
       "      <td>2024-05-14</td>\n",
       "      <td>373.80</td>\n",
       "      <td>10</td>\n",
       "      <td>361.93</td>\n",
       "      <td>TV</td>\n",
       "    </tr>\n",
       "    <tr>\n",
       "      <th>214759</th>\n",
       "      <td>P0318</td>\n",
       "      <td>L03</td>\n",
       "      <td>2024-11-24</td>\n",
       "      <td>156.16</td>\n",
       "      <td>15</td>\n",
       "      <td>149.65</td>\n",
       "      <td>TV</td>\n",
       "    </tr>\n",
       "    <tr>\n",
       "      <th>405030</th>\n",
       "      <td>P0466</td>\n",
       "      <td>L04</td>\n",
       "      <td>2024-03-02</td>\n",
       "      <td>144.56</td>\n",
       "      <td>10</td>\n",
       "      <td>132.15</td>\n",
       "      <td>TV</td>\n",
       "    </tr>\n",
       "    <tr>\n",
       "      <th>319768</th>\n",
       "      <td>P0319</td>\n",
       "      <td>L07</td>\n",
       "      <td>2024-08-04</td>\n",
       "      <td>460.46</td>\n",
       "      <td>15</td>\n",
       "      <td>449.40</td>\n",
       "      <td>TV</td>\n",
       "    </tr>\n",
       "    <tr>\n",
       "      <th>136167</th>\n",
       "      <td>P0485</td>\n",
       "      <td>L01</td>\n",
       "      <td>2024-03-25</td>\n",
       "      <td>130.18</td>\n",
       "      <td>0</td>\n",
       "      <td>118.72</td>\n",
       "      <td>TV</td>\n",
       "    </tr>\n",
       "    <tr>\n",
       "      <th>206886</th>\n",
       "      <td>P0289</td>\n",
       "      <td>L04</td>\n",
       "      <td>2024-07-18</td>\n",
       "      <td>444.07</td>\n",
       "      <td>15</td>\n",
       "      <td>421.94</td>\n",
       "      <td>TV</td>\n",
       "    </tr>\n",
       "    <tr>\n",
       "      <th>376139</th>\n",
       "      <td>P0064</td>\n",
       "      <td>L04</td>\n",
       "      <td>2024-01-19</td>\n",
       "      <td>383.64</td>\n",
       "      <td>10</td>\n",
       "      <td>440.90</td>\n",
       "      <td>TV</td>\n",
       "    </tr>\n",
       "  </tbody>\n",
       "</table>\n",
       "</div>"
      ],
      "text/plain": [
       "       ProductID Location        Date   Price  Discount(%)  CompetitorPrice  \\\n",
       "306834     P0323      L04  2024-12-02  128.00            5           149.42   \n",
       "381308     P0092      L07  2024-11-20  259.47           10           296.67   \n",
       "184995     P0220      L05  2024-08-22  110.74           10           106.30   \n",
       "343587     P0143      L01  2024-05-14  373.80           10           361.93   \n",
       "214759     P0318      L03  2024-11-24  156.16           15           149.65   \n",
       "405030     P0466      L04  2024-03-02  144.56           10           132.15   \n",
       "319768     P0319      L07  2024-08-04  460.46           15           449.40   \n",
       "136167     P0485      L01  2024-03-25  130.18            0           118.72   \n",
       "206886     P0289      L04  2024-07-18  444.07           15           421.94   \n",
       "376139     P0064      L04  2024-01-19  383.64           10           440.90   \n",
       "\n",
       "       AdCampaign  \n",
       "306834         TV  \n",
       "381308     Online  \n",
       "184995         TV  \n",
       "343587         TV  \n",
       "214759         TV  \n",
       "405030         TV  \n",
       "319768         TV  \n",
       "136167         TV  \n",
       "206886         TV  \n",
       "376139         TV  "
      ]
     },
     "execution_count": 9,
     "metadata": {},
     "output_type": "execute_result"
    }
   ],
   "source": [
    "df.sample(10)"
   ]
  },
  {
   "cell_type": "code",
   "execution_count": 10,
   "id": "5bad3508",
   "metadata": {},
   "outputs": [
    {
     "data": {
      "text/plain": [
       "ProductID           object\n",
       "Location            object\n",
       "Date                object\n",
       "Price              float64\n",
       "Discount(%)          int64\n",
       "CompetitorPrice    float64\n",
       "AdCampaign          object\n",
       "dtype: object"
      ]
     },
     "execution_count": 10,
     "metadata": {},
     "output_type": "execute_result"
    }
   ],
   "source": [
    "df.dtypes"
   ]
  },
  {
   "cell_type": "markdown",
   "id": "504a9ad3",
   "metadata": {},
   "source": [
    "# converting data types"
   ]
  },
  {
   "cell_type": "code",
   "execution_count": 11,
   "id": "8fca6942",
   "metadata": {},
   "outputs": [],
   "source": [
    "# Convert 'Date' column to datetime\n",
    "df['Date'] = pd.to_datetime(df['Date'], errors='coerce')\n",
    "\n",
    "# Optional: convert 'ProductID' and 'Location' to string explicitly\n",
    "df['ProductID'] = df['ProductID'].astype(str)\n",
    "df['Location'] = df['Location'].astype(str)\n",
    "\n",
    "# Optional: convert 'AdCampaign' to category for memory optimization\n",
    "df['AdCampaign'] = df['AdCampaign'].astype('category')\n"
   ]
  },
  {
   "cell_type": "code",
   "execution_count": 12,
   "id": "613e66be",
   "metadata": {},
   "outputs": [
    {
     "data": {
      "text/plain": [
       "ProductID                  object\n",
       "Location                   object\n",
       "Date               datetime64[ns]\n",
       "Price                     float64\n",
       "Discount(%)                 int64\n",
       "CompetitorPrice           float64\n",
       "AdCampaign               category\n",
       "dtype: object"
      ]
     },
     "execution_count": 12,
     "metadata": {},
     "output_type": "execute_result"
    }
   ],
   "source": [
    "df.dtypes"
   ]
  },
  {
   "cell_type": "markdown",
   "id": "868892ba",
   "metadata": {},
   "source": [
    "# Removing whitespace from the data or column"
   ]
  },
  {
   "cell_type": "code",
   "execution_count": 13,
   "id": "298d69b4",
   "metadata": {},
   "outputs": [],
   "source": [
    "str_cols = df.select_dtypes(include='object').columns\n",
    "df[str_cols] = df[str_cols].apply(lambda x: x.str.strip())\n"
   ]
  },
  {
   "cell_type": "markdown",
   "id": "a80c130d",
   "metadata": {},
   "source": [
    "# changing column name"
   ]
  },
  {
   "cell_type": "code",
   "execution_count": 14,
   "id": "514eac57",
   "metadata": {},
   "outputs": [],
   "source": [
    "df.columns = df.columns.str.strip().str.lower().str.replace(' ', '_').str.replace('%', 'percent')\n"
   ]
  },
  {
   "cell_type": "code",
   "execution_count": 118,
   "id": "4179a47a",
   "metadata": {},
   "outputs": [
    {
     "data": {
      "text/html": [
       "<div>\n",
       "<style scoped>\n",
       "    .dataframe tbody tr th:only-of-type {\n",
       "        vertical-align: middle;\n",
       "    }\n",
       "\n",
       "    .dataframe tbody tr th {\n",
       "        vertical-align: top;\n",
       "    }\n",
       "\n",
       "    .dataframe thead th {\n",
       "        text-align: right;\n",
       "    }\n",
       "</style>\n",
       "<table border=\"1\" class=\"dataframe\">\n",
       "  <thead>\n",
       "    <tr style=\"text-align: right;\">\n",
       "      <th></th>\n",
       "      <th>productid</th>\n",
       "      <th>location</th>\n",
       "      <th>date</th>\n",
       "      <th>price</th>\n",
       "      <th>discount(percent)</th>\n",
       "      <th>competitorprice</th>\n",
       "      <th>adcampaign</th>\n",
       "    </tr>\n",
       "  </thead>\n",
       "  <tbody>\n",
       "    <tr>\n",
       "      <th>0</th>\n",
       "      <td>P0001</td>\n",
       "      <td>L01</td>\n",
       "      <td>2024-01-01</td>\n",
       "      <td>362.83</td>\n",
       "      <td>15</td>\n",
       "      <td>401.74</td>\n",
       "      <td>TV</td>\n",
       "    </tr>\n",
       "    <tr>\n",
       "      <th>1</th>\n",
       "      <td>P0001</td>\n",
       "      <td>L01</td>\n",
       "      <td>2024-01-02</td>\n",
       "      <td>426.86</td>\n",
       "      <td>0</td>\n",
       "      <td>417.01</td>\n",
       "      <td>Online</td>\n",
       "    </tr>\n",
       "    <tr>\n",
       "      <th>2</th>\n",
       "      <td>P0001</td>\n",
       "      <td>L01</td>\n",
       "      <td>2024-01-03</td>\n",
       "      <td>384.17</td>\n",
       "      <td>10</td>\n",
       "      <td>415.22</td>\n",
       "      <td>Online</td>\n",
       "    </tr>\n",
       "    <tr>\n",
       "      <th>3</th>\n",
       "      <td>P0001</td>\n",
       "      <td>L01</td>\n",
       "      <td>2024-01-04</td>\n",
       "      <td>362.83</td>\n",
       "      <td>15</td>\n",
       "      <td>413.71</td>\n",
       "      <td>Online</td>\n",
       "    </tr>\n",
       "    <tr>\n",
       "      <th>4</th>\n",
       "      <td>P0001</td>\n",
       "      <td>L01</td>\n",
       "      <td>2024-01-05</td>\n",
       "      <td>341.49</td>\n",
       "      <td>20</td>\n",
       "      <td>414.10</td>\n",
       "      <td>TV</td>\n",
       "    </tr>\n",
       "  </tbody>\n",
       "</table>\n",
       "</div>"
      ],
      "text/plain": [
       "  productid location       date   price  discount(percent)  competitorprice  \\\n",
       "0     P0001      L01 2024-01-01  362.83                 15           401.74   \n",
       "1     P0001      L01 2024-01-02  426.86                  0           417.01   \n",
       "2     P0001      L01 2024-01-03  384.17                 10           415.22   \n",
       "3     P0001      L01 2024-01-04  362.83                 15           413.71   \n",
       "4     P0001      L01 2024-01-05  341.49                 20           414.10   \n",
       "\n",
       "  adcampaign  \n",
       "0         TV  \n",
       "1     Online  \n",
       "2     Online  \n",
       "3     Online  \n",
       "4         TV  "
      ]
     },
     "execution_count": 118,
     "metadata": {},
     "output_type": "execute_result"
    }
   ],
   "source": [
    "df.head()"
   ]
  },
  {
   "cell_type": "code",
   "execution_count": 15,
   "id": "b9ad23c6",
   "metadata": {},
   "outputs": [
    {
     "name": "stdout",
     "output_type": "stream",
     "text": [
      "productid            0\n",
      "location             0\n",
      "date                 0\n",
      "price                0\n",
      "discount(percent)    0\n",
      "competitorprice      0\n",
      "adcampaign           0\n",
      "dtype: int64\n"
     ]
    }
   ],
   "source": [
    "print(df.isna().sum())\n"
   ]
  },
  {
   "cell_type": "code",
   "execution_count": 16,
   "id": "01e43f52",
   "metadata": {},
   "outputs": [
    {
     "data": {
      "text/plain": [
       "np.int64(0)"
      ]
     },
     "execution_count": 16,
     "metadata": {},
     "output_type": "execute_result"
    }
   ],
   "source": [
    "df.duplicated().sum()"
   ]
  },
  {
   "cell_type": "markdown",
   "id": "cfb1f8e7",
   "metadata": {},
   "source": [
    "# Checking for outliers"
   ]
  },
  {
   "cell_type": "code",
   "execution_count": 17,
   "id": "a6e7d544",
   "metadata": {},
   "outputs": [
    {
     "data": {
      "image/png": "[encoded data removed]",
      "text/plain": [
       "<Figure size 640x480 with 1 Axes>"
      ]
     },
     "metadata": {},
     "output_type": "display_data"
    },
    {
     "data": {
      "image/png": "[encoded data removed]",
      "text/plain": [
       "<Figure size 640x480 with 1 Axes>"
      ]
     },
     "metadata": {},
     "output_type": "display_data"
    }
   ],
   "source": [
    "import seaborn as sns\n",
    "import matplotlib.pyplot as plt\n",
    "\n",
    "sns.boxplot(x=df['price']); plt.show()\n",
    "sns.boxplot(x=df['discount(percent)']); plt.show()\n"
   ]
  },
  {
   "cell_type": "code",
   "execution_count": 18,
   "id": "69babdfc",
   "metadata": {},
   "outputs": [
    {
     "data": {
      "text/html": [
       "<div>\n",
       "<style scoped>\n",
       "    .dataframe tbody tr th:only-of-type {\n",
       "        vertical-align: middle;\n",
       "    }\n",
       "\n",
       "    .dataframe tbody tr th {\n",
       "        vertical-align: top;\n",
       "    }\n",
       "\n",
       "    .dataframe thead th {\n",
       "        text-align: right;\n",
       "    }\n",
       "</style>\n",
       "<table border=\"1\" class=\"dataframe\">\n",
       "  <thead>\n",
       "    <tr style=\"text-align: right;\">\n",
       "      <th></th>\n",
       "      <th>price</th>\n",
       "      <th>competitorprice</th>\n",
       "    </tr>\n",
       "  </thead>\n",
       "  <tbody>\n",
       "    <tr>\n",
       "      <th>count</th>\n",
       "      <td>500000.000000</td>\n",
       "      <td>500000.000000</td>\n",
       "    </tr>\n",
       "    <tr>\n",
       "      <th>mean</th>\n",
       "      <td>299.979836</td>\n",
       "      <td>314.974805</td>\n",
       "    </tr>\n",
       "    <tr>\n",
       "      <th>std</th>\n",
       "      <td>115.526177</td>\n",
       "      <td>124.494327</td>\n",
       "    </tr>\n",
       "    <tr>\n",
       "      <th>min</th>\n",
       "      <td>100.000000</td>\n",
       "      <td>90.240000</td>\n",
       "    </tr>\n",
       "    <tr>\n",
       "      <th>25%</th>\n",
       "      <td>199.770000</td>\n",
       "      <td>208.350000</td>\n",
       "    </tr>\n",
       "    <tr>\n",
       "      <th>50%</th>\n",
       "      <td>300.170000</td>\n",
       "      <td>312.810000</td>\n",
       "    </tr>\n",
       "    <tr>\n",
       "      <th>75%</th>\n",
       "      <td>400.080000</td>\n",
       "      <td>417.460000</td>\n",
       "    </tr>\n",
       "    <tr>\n",
       "      <th>max</th>\n",
       "      <td>500.000000</td>\n",
       "      <td>599.500000</td>\n",
       "    </tr>\n",
       "  </tbody>\n",
       "</table>\n",
       "</div>"
      ],
      "text/plain": [
       "               price  competitorprice\n",
       "count  500000.000000    500000.000000\n",
       "mean      299.979836       314.974805\n",
       "std       115.526177       124.494327\n",
       "min       100.000000        90.240000\n",
       "25%       199.770000       208.350000\n",
       "50%       300.170000       312.810000\n",
       "75%       400.080000       417.460000\n",
       "max       500.000000       599.500000"
      ]
     },
     "execution_count": 18,
     "metadata": {},
     "output_type": "execute_result"
    }
   ],
   "source": [
    "df[['price','competitorprice']].describe()\n"
   ]
  },
  {
   "cell_type": "code",
   "execution_count": 19,
   "id": "235404fa",
   "metadata": {},
   "outputs": [],
   "source": [
    "Q1 = df['price'].quantile(0.25)\n",
    "Q3 = df['price'].quantile(0.75)\n",
    "IQR = Q3 - Q1\n",
    "\n",
    "lower_bound_price = Q1 - 1.5 * IQR\n",
    "upper_bound_price = Q3 + 1.5 * IQR\n",
    "\n",
    "outliers_price = df[(df['price'] < lower_bound_price) | (df['price'] > upper_bound_price)]\n"
   ]
  },
  {
   "cell_type": "code",
   "execution_count": 20,
   "id": "20c6003d",
   "metadata": {},
   "outputs": [
    {
     "name": "stdout",
     "output_type": "stream",
     "text": [
      "Total outliers in Price: 0\n"
     ]
    }
   ],
   "source": [
    "print(\"Total outliers in Price:\", outliers_price.shape[0])\n"
   ]
  },
  {
   "cell_type": "code",
   "execution_count": 21,
   "id": "2de72be7",
   "metadata": {},
   "outputs": [
    {
     "data": {
      "text/plain": [
       "<Axes: xlabel='price'>"
      ]
     },
     "execution_count": 21,
     "metadata": {},
     "output_type": "execute_result"
    },
    {
     "data": {
      "image/png": "[encoded data removed]",
      "text/plain": [
       "<Figure size 640x480 with 1 Axes>"
      ]
     },
     "metadata": {},
     "output_type": "display_data"
    }
   ],
   "source": [
    "import seaborn as sns\n",
    "sns.boxplot(x=df['price'])"
   ]
  },
  {
   "cell_type": "code",
   "execution_count": 22,
   "id": "37cadcfa",
   "metadata": {},
   "outputs": [],
   "source": [
    "Q1 = df['competitorprice'].quantile(0.25)\n",
    "Q3 = df['competitorprice'].quantile(0.75)\n",
    "IQR = Q3 - Q1\n",
    "\n",
    "lower_bound_comp = Q1 - 1.5 * IQR\n",
    "upper_bound_comp = Q3 + 1.5 * IQR\n",
    "\n",
    "outliers_comp = df[(df['competitorprice'] < lower_bound_comp) | (df['competitorprice'] > upper_bound_comp)]\n"
   ]
  },
  {
   "cell_type": "code",
   "execution_count": 23,
   "id": "d6c95b25",
   "metadata": {},
   "outputs": [
    {
     "name": "stdout",
     "output_type": "stream",
     "text": [
      "Total outliers in Price: 0\n"
     ]
    }
   ],
   "source": [
    "print(\"Total outliers in Price:\", outliers_comp.shape[0])\n"
   ]
  },
  {
   "cell_type": "markdown",
   "id": "01f81543",
   "metadata": {},
   "source": [
    "# Standardize AdCampaign values (optional)"
   ]
  },
  {
   "cell_type": "code",
   "execution_count": 24,
   "id": "e023d9a4",
   "metadata": {},
   "outputs": [],
   "source": [
    "df['adcampaign'] = df['adcampaign'].str.lower().str.title()\n",
    "# For example: \"tv\", \"TV\" → \"Tv\"\n"
   ]
  },
  {
   "cell_type": "code",
   "execution_count": 129,
   "id": "a4d080b3",
   "metadata": {},
   "outputs": [
    {
     "data": {
      "text/html": [
       "<div>\n",
       "<style scoped>\n",
       "    .dataframe tbody tr th:only-of-type {\n",
       "        vertical-align: middle;\n",
       "    }\n",
       "\n",
       "    .dataframe tbody tr th {\n",
       "        vertical-align: top;\n",
       "    }\n",
       "\n",
       "    .dataframe thead th {\n",
       "        text-align: right;\n",
       "    }\n",
       "</style>\n",
       "<table border=\"1\" class=\"dataframe\">\n",
       "  <thead>\n",
       "    <tr style=\"text-align: right;\">\n",
       "      <th></th>\n",
       "      <th>productid</th>\n",
       "      <th>location</th>\n",
       "      <th>date</th>\n",
       "      <th>price</th>\n",
       "      <th>discount(percent)</th>\n",
       "      <th>competitorprice</th>\n",
       "      <th>adcampaign</th>\n",
       "    </tr>\n",
       "  </thead>\n",
       "  <tbody>\n",
       "    <tr>\n",
       "      <th>0</th>\n",
       "      <td>P0001</td>\n",
       "      <td>L01</td>\n",
       "      <td>2024-01-01</td>\n",
       "      <td>362.83</td>\n",
       "      <td>15</td>\n",
       "      <td>401.74</td>\n",
       "      <td>Tv</td>\n",
       "    </tr>\n",
       "    <tr>\n",
       "      <th>1</th>\n",
       "      <td>P0001</td>\n",
       "      <td>L01</td>\n",
       "      <td>2024-01-02</td>\n",
       "      <td>426.86</td>\n",
       "      <td>0</td>\n",
       "      <td>417.01</td>\n",
       "      <td>Online</td>\n",
       "    </tr>\n",
       "    <tr>\n",
       "      <th>2</th>\n",
       "      <td>P0001</td>\n",
       "      <td>L01</td>\n",
       "      <td>2024-01-03</td>\n",
       "      <td>384.17</td>\n",
       "      <td>10</td>\n",
       "      <td>415.22</td>\n",
       "      <td>Online</td>\n",
       "    </tr>\n",
       "    <tr>\n",
       "      <th>3</th>\n",
       "      <td>P0001</td>\n",
       "      <td>L01</td>\n",
       "      <td>2024-01-04</td>\n",
       "      <td>362.83</td>\n",
       "      <td>15</td>\n",
       "      <td>413.71</td>\n",
       "      <td>Online</td>\n",
       "    </tr>\n",
       "    <tr>\n",
       "      <th>4</th>\n",
       "      <td>P0001</td>\n",
       "      <td>L01</td>\n",
       "      <td>2024-01-05</td>\n",
       "      <td>341.49</td>\n",
       "      <td>20</td>\n",
       "      <td>414.10</td>\n",
       "      <td>Tv</td>\n",
       "    </tr>\n",
       "  </tbody>\n",
       "</table>\n",
       "</div>"
      ],
      "text/plain": [
       "  productid location       date   price  discount(percent)  competitorprice  \\\n",
       "0     P0001      L01 2024-01-01  362.83                 15           401.74   \n",
       "1     P0001      L01 2024-01-02  426.86                  0           417.01   \n",
       "2     P0001      L01 2024-01-03  384.17                 10           415.22   \n",
       "3     P0001      L01 2024-01-04  362.83                 15           413.71   \n",
       "4     P0001      L01 2024-01-05  341.49                 20           414.10   \n",
       "\n",
       "  adcampaign  \n",
       "0         Tv  \n",
       "1     Online  \n",
       "2     Online  \n",
       "3     Online  \n",
       "4         Tv  "
      ]
     },
     "execution_count": 129,
     "metadata": {},
     "output_type": "execute_result"
    }
   ],
   "source": [
    "df.head()"
   ]
  },
  {
   "cell_type": "code",
   "execution_count": 25,
   "id": "b2449c37",
   "metadata": {},
   "outputs": [],
   "source": [
    "df.rename(columns={'discount(percent)': 'discount_percent'}, inplace=True)\n"
   ]
  },
  {
   "cell_type": "code",
   "execution_count": 26,
   "id": "ba66ca31",
   "metadata": {},
   "outputs": [
    {
     "data": {
      "text/plain": [
       "np.int64(0)"
      ]
     },
     "execution_count": 26,
     "metadata": {},
     "output_type": "execute_result"
    }
   ],
   "source": [
    "(df['price'] < 0).sum()"
   ]
  },
  {
   "cell_type": "code",
   "execution_count": 27,
   "id": "d2e4740f",
   "metadata": {},
   "outputs": [
    {
     "data": {
      "text/plain": [
       "np.int64(0)"
      ]
     },
     "execution_count": 27,
     "metadata": {},
     "output_type": "execute_result"
    }
   ],
   "source": [
    "(df['discount_percent'] < 0).sum()"
   ]
  },
  {
   "cell_type": "code",
   "execution_count": 28,
   "id": "d2453ea7",
   "metadata": {},
   "outputs": [
    {
     "data": {
      "text/plain": [
       "np.int64(0)"
      ]
     },
     "execution_count": 28,
     "metadata": {},
     "output_type": "execute_result"
    }
   ],
   "source": [
    "(df['competitorprice'] < 0).sum()\n"
   ]
  },
  {
   "cell_type": "code",
   "execution_count": 29,
   "id": "ab43c55d",
   "metadata": {},
   "outputs": [
    {
     "data": {
      "text/html": [
       "<div>\n",
       "<style scoped>\n",
       "    .dataframe tbody tr th:only-of-type {\n",
       "        vertical-align: middle;\n",
       "    }\n",
       "\n",
       "    .dataframe tbody tr th {\n",
       "        vertical-align: top;\n",
       "    }\n",
       "\n",
       "    .dataframe thead th {\n",
       "        text-align: right;\n",
       "    }\n",
       "</style>\n",
       "<table border=\"1\" class=\"dataframe\">\n",
       "  <thead>\n",
       "    <tr style=\"text-align: right;\">\n",
       "      <th></th>\n",
       "      <th>productid</th>\n",
       "      <th>location</th>\n",
       "      <th>price</th>\n",
       "      <th>competitorprice</th>\n",
       "    </tr>\n",
       "  </thead>\n",
       "  <tbody>\n",
       "  </tbody>\n",
       "</table>\n",
       "</div>"
      ],
      "text/plain": [
       "Empty DataFrame\n",
       "Columns: [productid, location, price, competitorprice]\n",
       "Index: []"
      ]
     },
     "execution_count": 29,
     "metadata": {},
     "output_type": "execute_result"
    }
   ],
   "source": [
    "df[df['competitorprice'] < 0][['productid', 'location', 'price', 'competitorprice']]\n"
   ]
  },
  {
   "cell_type": "code",
   "execution_count": 30,
   "id": "b716dd91",
   "metadata": {},
   "outputs": [
    {
     "data": {
      "text/plain": [
       "count    500000.000000\n",
       "mean        314.974805\n",
       "std         124.494327\n",
       "min          90.240000\n",
       "25%         208.350000\n",
       "50%         312.810000\n",
       "75%         417.460000\n",
       "max         599.500000\n",
       "Name: competitorprice, dtype: float64"
      ]
     },
     "execution_count": 30,
     "metadata": {},
     "output_type": "execute_result"
    }
   ],
   "source": [
    "df['competitorprice'].describe()\n"
   ]
  },
  {
   "cell_type": "code",
   "execution_count": 31,
   "id": "3bac8897",
   "metadata": {},
   "outputs": [
    {
     "data": {
      "text/plain": [
       "array([555.19, 459.64, 456.95, ..., 586.73, 585.17, 583.06],\n",
       "      shape=(49336,))"
      ]
     },
     "execution_count": 31,
     "metadata": {},
     "output_type": "execute_result"
    }
   ],
   "source": [
    "df['competitorprice'].unique()\n"
   ]
  },
  {
   "cell_type": "code",
   "execution_count": 32,
   "id": "635107bb",
   "metadata": {},
   "outputs": [],
   "source": [
    "filtered_rows = df[(df['competitorprice'] < 20)]\n"
   ]
  },
  {
   "cell_type": "code",
   "execution_count": 33,
   "id": "3a092113",
   "metadata": {},
   "outputs": [
    {
     "data": {
      "text/html": [
       "<div>\n",
       "<style scoped>\n",
       "    .dataframe tbody tr th:only-of-type {\n",
       "        vertical-align: middle;\n",
       "    }\n",
       "\n",
       "    .dataframe tbody tr th {\n",
       "        vertical-align: top;\n",
       "    }\n",
       "\n",
       "    .dataframe thead th {\n",
       "        text-align: right;\n",
       "    }\n",
       "</style>\n",
       "<table border=\"1\" class=\"dataframe\">\n",
       "  <thead>\n",
       "    <tr style=\"text-align: right;\">\n",
       "      <th></th>\n",
       "      <th>productid</th>\n",
       "      <th>location</th>\n",
       "      <th>date</th>\n",
       "      <th>price</th>\n",
       "      <th>discount_percent</th>\n",
       "      <th>competitorprice</th>\n",
       "      <th>adcampaign</th>\n",
       "    </tr>\n",
       "  </thead>\n",
       "  <tbody>\n",
       "  </tbody>\n",
       "</table>\n",
       "</div>"
      ],
      "text/plain": [
       "Empty DataFrame\n",
       "Columns: [productid, location, date, price, discount_percent, competitorprice, adcampaign]\n",
       "Index: []"
      ]
     },
     "execution_count": 33,
     "metadata": {},
     "output_type": "execute_result"
    }
   ],
   "source": [
    "filtered_rows"
   ]
  },
  {
   "cell_type": "code",
   "execution_count": 34,
   "id": "2a7a1c99",
   "metadata": {},
   "outputs": [],
   "source": [
    "filtered_rows1 = df[(df['productid'] == 'P0253') & (df['location'] == 'L03')]\n",
    "\n"
   ]
  },
  {
   "cell_type": "code",
   "execution_count": 35,
   "id": "efb340d8",
   "metadata": {},
   "outputs": [
    {
     "data": {
      "text/html": [
       "<div>\n",
       "<style scoped>\n",
       "    .dataframe tbody tr th:only-of-type {\n",
       "        vertical-align: middle;\n",
       "    }\n",
       "\n",
       "    .dataframe tbody tr th {\n",
       "        vertical-align: top;\n",
       "    }\n",
       "\n",
       "    .dataframe thead th {\n",
       "        text-align: right;\n",
       "    }\n",
       "</style>\n",
       "<table border=\"1\" class=\"dataframe\">\n",
       "  <thead>\n",
       "    <tr style=\"text-align: right;\">\n",
       "      <th></th>\n",
       "      <th>productid</th>\n",
       "      <th>location</th>\n",
       "      <th>date</th>\n",
       "      <th>price</th>\n",
       "      <th>discount_percent</th>\n",
       "      <th>competitorprice</th>\n",
       "      <th>adcampaign</th>\n",
       "    </tr>\n",
       "  </thead>\n",
       "  <tbody>\n",
       "    <tr>\n",
       "      <th>14</th>\n",
       "      <td>P0253</td>\n",
       "      <td>L03</td>\n",
       "      <td>2024-01-14</td>\n",
       "      <td>126.47</td>\n",
       "      <td>0</td>\n",
       "      <td>145.01</td>\n",
       "      <td>Online</td>\n",
       "    </tr>\n",
       "    <tr>\n",
       "      <th>10056</th>\n",
       "      <td>P0253</td>\n",
       "      <td>L03</td>\n",
       "      <td>2024-12-28</td>\n",
       "      <td>301.15</td>\n",
       "      <td>10</td>\n",
       "      <td>333.49</td>\n",
       "      <td>Online</td>\n",
       "    </tr>\n",
       "    <tr>\n",
       "      <th>11529</th>\n",
       "      <td>P0253</td>\n",
       "      <td>L03</td>\n",
       "      <td>2024-09-07</td>\n",
       "      <td>116.01</td>\n",
       "      <td>5</td>\n",
       "      <td>130.91</td>\n",
       "      <td>Online</td>\n",
       "    </tr>\n",
       "    <tr>\n",
       "      <th>19389</th>\n",
       "      <td>P0253</td>\n",
       "      <td>L03</td>\n",
       "      <td>2024-01-16</td>\n",
       "      <td>289.57</td>\n",
       "      <td>5</td>\n",
       "      <td>332.60</td>\n",
       "      <td>Tv</td>\n",
       "    </tr>\n",
       "    <tr>\n",
       "      <th>23842</th>\n",
       "      <td>P0253</td>\n",
       "      <td>L03</td>\n",
       "      <td>2024-09-21</td>\n",
       "      <td>176.19</td>\n",
       "      <td>15</td>\n",
       "      <td>208.04</td>\n",
       "      <td>Online</td>\n",
       "    </tr>\n",
       "    <tr>\n",
       "      <th>...</th>\n",
       "      <td>...</td>\n",
       "      <td>...</td>\n",
       "      <td>...</td>\n",
       "      <td>...</td>\n",
       "      <td>...</td>\n",
       "      <td>...</td>\n",
       "      <td>...</td>\n",
       "    </tr>\n",
       "    <tr>\n",
       "      <th>462927</th>\n",
       "      <td>P0253</td>\n",
       "      <td>L03</td>\n",
       "      <td>2024-11-23</td>\n",
       "      <td>412.62</td>\n",
       "      <td>10</td>\n",
       "      <td>424.38</td>\n",
       "      <td>Tv</td>\n",
       "    </tr>\n",
       "    <tr>\n",
       "      <th>462982</th>\n",
       "      <td>P0253</td>\n",
       "      <td>L03</td>\n",
       "      <td>2024-04-03</td>\n",
       "      <td>479.96</td>\n",
       "      <td>10</td>\n",
       "      <td>499.10</td>\n",
       "      <td>Tv</td>\n",
       "    </tr>\n",
       "    <tr>\n",
       "      <th>486892</th>\n",
       "      <td>P0253</td>\n",
       "      <td>L03</td>\n",
       "      <td>2024-04-09</td>\n",
       "      <td>232.65</td>\n",
       "      <td>15</td>\n",
       "      <td>219.27</td>\n",
       "      <td>Tv</td>\n",
       "    </tr>\n",
       "    <tr>\n",
       "      <th>489362</th>\n",
       "      <td>P0253</td>\n",
       "      <td>L03</td>\n",
       "      <td>2024-02-22</td>\n",
       "      <td>355.15</td>\n",
       "      <td>5</td>\n",
       "      <td>394.50</td>\n",
       "      <td>Tv</td>\n",
       "    </tr>\n",
       "    <tr>\n",
       "      <th>497978</th>\n",
       "      <td>P0253</td>\n",
       "      <td>L03</td>\n",
       "      <td>2024-05-23</td>\n",
       "      <td>240.02</td>\n",
       "      <td>10</td>\n",
       "      <td>283.61</td>\n",
       "      <td>Tv</td>\n",
       "    </tr>\n",
       "  </tbody>\n",
       "</table>\n",
       "<p>102 rows × 7 columns</p>\n",
       "</div>"
      ],
      "text/plain": [
       "       productid location       date   price  discount_percent  \\\n",
       "14         P0253      L03 2024-01-14  126.47                 0   \n",
       "10056      P0253      L03 2024-12-28  301.15                10   \n",
       "11529      P0253      L03 2024-09-07  116.01                 5   \n",
       "19389      P0253      L03 2024-01-16  289.57                 5   \n",
       "23842      P0253      L03 2024-09-21  176.19                15   \n",
       "...          ...      ...        ...     ...               ...   \n",
       "462927     P0253      L03 2024-11-23  412.62                10   \n",
       "462982     P0253      L03 2024-04-03  479.96                10   \n",
       "486892     P0253      L03 2024-04-09  232.65                15   \n",
       "489362     P0253      L03 2024-02-22  355.15                 5   \n",
       "497978     P0253      L03 2024-05-23  240.02                10   \n",
       "\n",
       "        competitorprice adcampaign  \n",
       "14               145.01     Online  \n",
       "10056            333.49     Online  \n",
       "11529            130.91     Online  \n",
       "19389            332.60         Tv  \n",
       "23842            208.04     Online  \n",
       "...                 ...        ...  \n",
       "462927           424.38         Tv  \n",
       "462982           499.10         Tv  \n",
       "486892           219.27         Tv  \n",
       "489362           394.50         Tv  \n",
       "497978           283.61         Tv  \n",
       "\n",
       "[102 rows x 7 columns]"
      ]
     },
     "execution_count": 35,
     "metadata": {},
     "output_type": "execute_result"
    }
   ],
   "source": [
    "filtered_rows1"
   ]
  },
  {
   "cell_type": "markdown",
   "id": "0621d7ec",
   "metadata": {},
   "source": [
    "# filling values in CompetitorPrice which doesnt make any sense"
   ]
  },
  {
   "cell_type": "code",
   "execution_count": 36,
   "id": "ee07a219",
   "metadata": {},
   "outputs": [],
   "source": [
    "# Step 1: Filter those rows\n",
    "mask = (df['productid'] == 'P0253') & (df['location'] == 'L03')\n",
    "\n",
    "# Step 2: Calculate mean of CompetitorPrice for that group\n",
    "mean_value = df.loc[mask, 'competitorprice'].mean()\n",
    "\n",
    "# Step 3: Replace values less than 60 with mean\n",
    "df.loc[mask & (df['competitorprice'] < 60), 'competitorprice'] = mean_value\n"
   ]
  },
  {
   "cell_type": "code",
   "execution_count": 37,
   "id": "29326345",
   "metadata": {},
   "outputs": [],
   "source": [
    "filtered_rows3 = df[(df['productid'] == 'P0458') & (df['location'] == 'L06')]"
   ]
  },
  {
   "cell_type": "code",
   "execution_count": 38,
   "id": "ea9ddf4f",
   "metadata": {},
   "outputs": [
    {
     "data": {
      "text/plain": [
       "np.float64(316.8834782608696)"
      ]
     },
     "execution_count": 38,
     "metadata": {},
     "output_type": "execute_result"
    }
   ],
   "source": [
    "filtered_rows3['competitorprice'].mean()"
   ]
  },
  {
   "cell_type": "code",
   "execution_count": 39,
   "id": "8cc2a296",
   "metadata": {},
   "outputs": [
    {
     "data": {
      "text/html": [
       "<div>\n",
       "<style scoped>\n",
       "    .dataframe tbody tr th:only-of-type {\n",
       "        vertical-align: middle;\n",
       "    }\n",
       "\n",
       "    .dataframe tbody tr th {\n",
       "        vertical-align: top;\n",
       "    }\n",
       "\n",
       "    .dataframe thead th {\n",
       "        text-align: right;\n",
       "    }\n",
       "</style>\n",
       "<table border=\"1\" class=\"dataframe\">\n",
       "  <thead>\n",
       "    <tr style=\"text-align: right;\">\n",
       "      <th></th>\n",
       "      <th>productid</th>\n",
       "      <th>location</th>\n",
       "      <th>date</th>\n",
       "      <th>price</th>\n",
       "      <th>discount_percent</th>\n",
       "      <th>competitorprice</th>\n",
       "      <th>adcampaign</th>\n",
       "    </tr>\n",
       "  </thead>\n",
       "  <tbody>\n",
       "    <tr>\n",
       "      <th>24679</th>\n",
       "      <td>P0458</td>\n",
       "      <td>L06</td>\n",
       "      <td>2024-08-29</td>\n",
       "      <td>379.48</td>\n",
       "      <td>10</td>\n",
       "      <td>397.66</td>\n",
       "      <td>Tv</td>\n",
       "    </tr>\n",
       "    <tr>\n",
       "      <th>26057</th>\n",
       "      <td>P0458</td>\n",
       "      <td>L06</td>\n",
       "      <td>2024-12-28</td>\n",
       "      <td>124.13</td>\n",
       "      <td>10</td>\n",
       "      <td>129.32</td>\n",
       "      <td>Tv</td>\n",
       "    </tr>\n",
       "    <tr>\n",
       "      <th>28615</th>\n",
       "      <td>P0458</td>\n",
       "      <td>L06</td>\n",
       "      <td>2024-12-28</td>\n",
       "      <td>357.22</td>\n",
       "      <td>0</td>\n",
       "      <td>324.80</td>\n",
       "      <td>Tv</td>\n",
       "    </tr>\n",
       "    <tr>\n",
       "      <th>40273</th>\n",
       "      <td>P0458</td>\n",
       "      <td>L06</td>\n",
       "      <td>2024-10-21</td>\n",
       "      <td>173.96</td>\n",
       "      <td>10</td>\n",
       "      <td>163.59</td>\n",
       "      <td>Tv</td>\n",
       "    </tr>\n",
       "    <tr>\n",
       "      <th>49123</th>\n",
       "      <td>P0458</td>\n",
       "      <td>L06</td>\n",
       "      <td>2024-02-07</td>\n",
       "      <td>244.50</td>\n",
       "      <td>20</td>\n",
       "      <td>241.18</td>\n",
       "      <td>Tv</td>\n",
       "    </tr>\n",
       "    <tr>\n",
       "      <th>...</th>\n",
       "      <td>...</td>\n",
       "      <td>...</td>\n",
       "      <td>...</td>\n",
       "      <td>...</td>\n",
       "      <td>...</td>\n",
       "      <td>...</td>\n",
       "      <td>...</td>\n",
       "    </tr>\n",
       "    <tr>\n",
       "      <th>476092</th>\n",
       "      <td>P0458</td>\n",
       "      <td>L06</td>\n",
       "      <td>2024-10-27</td>\n",
       "      <td>210.18</td>\n",
       "      <td>10</td>\n",
       "      <td>250.32</td>\n",
       "      <td>Online</td>\n",
       "    </tr>\n",
       "    <tr>\n",
       "      <th>480122</th>\n",
       "      <td>P0458</td>\n",
       "      <td>L06</td>\n",
       "      <td>2024-01-29</td>\n",
       "      <td>321.12</td>\n",
       "      <td>15</td>\n",
       "      <td>358.25</td>\n",
       "      <td>Online</td>\n",
       "    </tr>\n",
       "    <tr>\n",
       "      <th>482101</th>\n",
       "      <td>P0458</td>\n",
       "      <td>L06</td>\n",
       "      <td>2024-12-29</td>\n",
       "      <td>418.72</td>\n",
       "      <td>10</td>\n",
       "      <td>448.61</td>\n",
       "      <td>Tv</td>\n",
       "    </tr>\n",
       "    <tr>\n",
       "      <th>482244</th>\n",
       "      <td>P0458</td>\n",
       "      <td>L06</td>\n",
       "      <td>2024-07-22</td>\n",
       "      <td>286.42</td>\n",
       "      <td>20</td>\n",
       "      <td>297.68</td>\n",
       "      <td>Online</td>\n",
       "    </tr>\n",
       "    <tr>\n",
       "      <th>493152</th>\n",
       "      <td>P0458</td>\n",
       "      <td>L06</td>\n",
       "      <td>2024-03-17</td>\n",
       "      <td>176.05</td>\n",
       "      <td>10</td>\n",
       "      <td>180.29</td>\n",
       "      <td>Tv</td>\n",
       "    </tr>\n",
       "  </tbody>\n",
       "</table>\n",
       "<p>115 rows × 7 columns</p>\n",
       "</div>"
      ],
      "text/plain": [
       "       productid location       date   price  discount_percent  \\\n",
       "24679      P0458      L06 2024-08-29  379.48                10   \n",
       "26057      P0458      L06 2024-12-28  124.13                10   \n",
       "28615      P0458      L06 2024-12-28  357.22                 0   \n",
       "40273      P0458      L06 2024-10-21  173.96                10   \n",
       "49123      P0458      L06 2024-02-07  244.50                20   \n",
       "...          ...      ...        ...     ...               ...   \n",
       "476092     P0458      L06 2024-10-27  210.18                10   \n",
       "480122     P0458      L06 2024-01-29  321.12                15   \n",
       "482101     P0458      L06 2024-12-29  418.72                10   \n",
       "482244     P0458      L06 2024-07-22  286.42                20   \n",
       "493152     P0458      L06 2024-03-17  176.05                10   \n",
       "\n",
       "        competitorprice adcampaign  \n",
       "24679            397.66         Tv  \n",
       "26057            129.32         Tv  \n",
       "28615            324.80         Tv  \n",
       "40273            163.59         Tv  \n",
       "49123            241.18         Tv  \n",
       "...                 ...        ...  \n",
       "476092           250.32     Online  \n",
       "480122           358.25     Online  \n",
       "482101           448.61         Tv  \n",
       "482244           297.68     Online  \n",
       "493152           180.29         Tv  \n",
       "\n",
       "[115 rows x 7 columns]"
      ]
     },
     "execution_count": 39,
     "metadata": {},
     "output_type": "execute_result"
    }
   ],
   "source": [
    "filtered_rows3"
   ]
  },
  {
   "cell_type": "code",
   "execution_count": 40,
   "id": "a1f5de7a",
   "metadata": {},
   "outputs": [],
   "source": [
    "# Step 1: Filter those rows\n",
    "mask = (df['productid'] == 'P0458') & (df['location'] == 'L06')\n",
    "\n",
    "# Step 2: Calculate mean of CompetitorPrice for that group\n",
    "mean_value = df.loc[mask, 'competitorprice'].mean()\n",
    "\n",
    "# Step 3: Replace values less than 60 with mean\n",
    "df.loc[mask & (df['competitorprice'] < 30), 'competitorprice'] = mean_value\n"
   ]
  },
  {
   "cell_type": "code",
   "execution_count": 41,
   "id": "15f409f6",
   "metadata": {},
   "outputs": [],
   "source": [
    "df['competitorprice'] = df['competitorprice'].apply(lambda x: round(x, 2) if pd.notnull(x) else x)\n"
   ]
  },
  {
   "cell_type": "code",
   "execution_count": 42,
   "id": "65a9e470",
   "metadata": {},
   "outputs": [
    {
     "data": {
      "text/html": [
       "<div>\n",
       "<style scoped>\n",
       "    .dataframe tbody tr th:only-of-type {\n",
       "        vertical-align: middle;\n",
       "    }\n",
       "\n",
       "    .dataframe tbody tr th {\n",
       "        vertical-align: top;\n",
       "    }\n",
       "\n",
       "    .dataframe thead th {\n",
       "        text-align: right;\n",
       "    }\n",
       "</style>\n",
       "<table border=\"1\" class=\"dataframe\">\n",
       "  <thead>\n",
       "    <tr style=\"text-align: right;\">\n",
       "      <th></th>\n",
       "      <th>productid</th>\n",
       "      <th>location</th>\n",
       "      <th>date</th>\n",
       "      <th>price</th>\n",
       "      <th>discount_percent</th>\n",
       "      <th>competitorprice</th>\n",
       "      <th>adcampaign</th>\n",
       "    </tr>\n",
       "  </thead>\n",
       "  <tbody>\n",
       "    <tr>\n",
       "      <th>424906</th>\n",
       "      <td>P0227</td>\n",
       "      <td>L05</td>\n",
       "      <td>2024-12-06</td>\n",
       "      <td>264.49</td>\n",
       "      <td>0</td>\n",
       "      <td>284.64</td>\n",
       "      <td>Tv</td>\n",
       "    </tr>\n",
       "    <tr>\n",
       "      <th>253973</th>\n",
       "      <td>P0339</td>\n",
       "      <td>L08</td>\n",
       "      <td>2024-06-25</td>\n",
       "      <td>132.61</td>\n",
       "      <td>10</td>\n",
       "      <td>123.10</td>\n",
       "      <td>Tv</td>\n",
       "    </tr>\n",
       "    <tr>\n",
       "      <th>243050</th>\n",
       "      <td>P0055</td>\n",
       "      <td>L03</td>\n",
       "      <td>2024-09-28</td>\n",
       "      <td>333.37</td>\n",
       "      <td>10</td>\n",
       "      <td>381.57</td>\n",
       "      <td>Online</td>\n",
       "    </tr>\n",
       "    <tr>\n",
       "      <th>427142</th>\n",
       "      <td>P0495</td>\n",
       "      <td>L01</td>\n",
       "      <td>2024-09-15</td>\n",
       "      <td>498.94</td>\n",
       "      <td>15</td>\n",
       "      <td>562.96</td>\n",
       "      <td>Tv</td>\n",
       "    </tr>\n",
       "    <tr>\n",
       "      <th>39697</th>\n",
       "      <td>P0038</td>\n",
       "      <td>L03</td>\n",
       "      <td>2024-11-16</td>\n",
       "      <td>218.10</td>\n",
       "      <td>0</td>\n",
       "      <td>197.67</td>\n",
       "      <td>Online</td>\n",
       "    </tr>\n",
       "    <tr>\n",
       "      <th>308149</th>\n",
       "      <td>P0423</td>\n",
       "      <td>L02</td>\n",
       "      <td>2024-06-05</td>\n",
       "      <td>330.81</td>\n",
       "      <td>0</td>\n",
       "      <td>375.54</td>\n",
       "      <td>Tv</td>\n",
       "    </tr>\n",
       "    <tr>\n",
       "      <th>106804</th>\n",
       "      <td>P0440</td>\n",
       "      <td>L06</td>\n",
       "      <td>2024-06-29</td>\n",
       "      <td>231.77</td>\n",
       "      <td>10</td>\n",
       "      <td>277.02</td>\n",
       "      <td>Tv</td>\n",
       "    </tr>\n",
       "    <tr>\n",
       "      <th>273870</th>\n",
       "      <td>P0321</td>\n",
       "      <td>L06</td>\n",
       "      <td>2024-06-07</td>\n",
       "      <td>412.31</td>\n",
       "      <td>10</td>\n",
       "      <td>472.69</td>\n",
       "      <td>Online</td>\n",
       "    </tr>\n",
       "    <tr>\n",
       "      <th>85605</th>\n",
       "      <td>P0124</td>\n",
       "      <td>L10</td>\n",
       "      <td>2024-02-29</td>\n",
       "      <td>414.14</td>\n",
       "      <td>20</td>\n",
       "      <td>489.24</td>\n",
       "      <td>Tv</td>\n",
       "    </tr>\n",
       "    <tr>\n",
       "      <th>337956</th>\n",
       "      <td>P0357</td>\n",
       "      <td>L07</td>\n",
       "      <td>2024-04-21</td>\n",
       "      <td>437.68</td>\n",
       "      <td>20</td>\n",
       "      <td>517.76</td>\n",
       "      <td>Tv</td>\n",
       "    </tr>\n",
       "  </tbody>\n",
       "</table>\n",
       "</div>"
      ],
      "text/plain": [
       "       productid location       date   price  discount_percent  \\\n",
       "424906     P0227      L05 2024-12-06  264.49                 0   \n",
       "253973     P0339      L08 2024-06-25  132.61                10   \n",
       "243050     P0055      L03 2024-09-28  333.37                10   \n",
       "427142     P0495      L01 2024-09-15  498.94                15   \n",
       "39697      P0038      L03 2024-11-16  218.10                 0   \n",
       "308149     P0423      L02 2024-06-05  330.81                 0   \n",
       "106804     P0440      L06 2024-06-29  231.77                10   \n",
       "273870     P0321      L06 2024-06-07  412.31                10   \n",
       "85605      P0124      L10 2024-02-29  414.14                20   \n",
       "337956     P0357      L07 2024-04-21  437.68                20   \n",
       "\n",
       "        competitorprice adcampaign  \n",
       "424906           284.64         Tv  \n",
       "253973           123.10         Tv  \n",
       "243050           381.57     Online  \n",
       "427142           562.96         Tv  \n",
       "39697            197.67     Online  \n",
       "308149           375.54         Tv  \n",
       "106804           277.02         Tv  \n",
       "273870           472.69     Online  \n",
       "85605            489.24         Tv  \n",
       "337956           517.76         Tv  "
      ]
     },
     "execution_count": 42,
     "metadata": {},
     "output_type": "execute_result"
    }
   ],
   "source": [
    "df.sample(10)"
   ]
  },
  {
   "cell_type": "code",
   "execution_count": 43,
   "id": "4fd33af7",
   "metadata": {},
   "outputs": [
    {
     "data": {
      "text/html": [
       "<div>\n",
       "<style scoped>\n",
       "    .dataframe tbody tr th:only-of-type {\n",
       "        vertical-align: middle;\n",
       "    }\n",
       "\n",
       "    .dataframe tbody tr th {\n",
       "        vertical-align: top;\n",
       "    }\n",
       "\n",
       "    .dataframe thead th {\n",
       "        text-align: right;\n",
       "    }\n",
       "</style>\n",
       "<table border=\"1\" class=\"dataframe\">\n",
       "  <thead>\n",
       "    <tr style=\"text-align: right;\">\n",
       "      <th></th>\n",
       "      <th>productid</th>\n",
       "      <th>location</th>\n",
       "      <th>date</th>\n",
       "      <th>price</th>\n",
       "      <th>discount_percent</th>\n",
       "      <th>competitorprice</th>\n",
       "      <th>adcampaign</th>\n",
       "    </tr>\n",
       "  </thead>\n",
       "  <tbody>\n",
       "    <tr>\n",
       "      <th>24679</th>\n",
       "      <td>P0458</td>\n",
       "      <td>L06</td>\n",
       "      <td>2024-08-29</td>\n",
       "      <td>379.48</td>\n",
       "      <td>10</td>\n",
       "      <td>397.66</td>\n",
       "      <td>Tv</td>\n",
       "    </tr>\n",
       "    <tr>\n",
       "      <th>26057</th>\n",
       "      <td>P0458</td>\n",
       "      <td>L06</td>\n",
       "      <td>2024-12-28</td>\n",
       "      <td>124.13</td>\n",
       "      <td>10</td>\n",
       "      <td>129.32</td>\n",
       "      <td>Tv</td>\n",
       "    </tr>\n",
       "    <tr>\n",
       "      <th>28615</th>\n",
       "      <td>P0458</td>\n",
       "      <td>L06</td>\n",
       "      <td>2024-12-28</td>\n",
       "      <td>357.22</td>\n",
       "      <td>0</td>\n",
       "      <td>324.80</td>\n",
       "      <td>Tv</td>\n",
       "    </tr>\n",
       "    <tr>\n",
       "      <th>40273</th>\n",
       "      <td>P0458</td>\n",
       "      <td>L06</td>\n",
       "      <td>2024-10-21</td>\n",
       "      <td>173.96</td>\n",
       "      <td>10</td>\n",
       "      <td>163.59</td>\n",
       "      <td>Tv</td>\n",
       "    </tr>\n",
       "    <tr>\n",
       "      <th>49123</th>\n",
       "      <td>P0458</td>\n",
       "      <td>L06</td>\n",
       "      <td>2024-02-07</td>\n",
       "      <td>244.50</td>\n",
       "      <td>20</td>\n",
       "      <td>241.18</td>\n",
       "      <td>Tv</td>\n",
       "    </tr>\n",
       "    <tr>\n",
       "      <th>...</th>\n",
       "      <td>...</td>\n",
       "      <td>...</td>\n",
       "      <td>...</td>\n",
       "      <td>...</td>\n",
       "      <td>...</td>\n",
       "      <td>...</td>\n",
       "      <td>...</td>\n",
       "    </tr>\n",
       "    <tr>\n",
       "      <th>476092</th>\n",
       "      <td>P0458</td>\n",
       "      <td>L06</td>\n",
       "      <td>2024-10-27</td>\n",
       "      <td>210.18</td>\n",
       "      <td>10</td>\n",
       "      <td>250.32</td>\n",
       "      <td>Online</td>\n",
       "    </tr>\n",
       "    <tr>\n",
       "      <th>480122</th>\n",
       "      <td>P0458</td>\n",
       "      <td>L06</td>\n",
       "      <td>2024-01-29</td>\n",
       "      <td>321.12</td>\n",
       "      <td>15</td>\n",
       "      <td>358.25</td>\n",
       "      <td>Online</td>\n",
       "    </tr>\n",
       "    <tr>\n",
       "      <th>482101</th>\n",
       "      <td>P0458</td>\n",
       "      <td>L06</td>\n",
       "      <td>2024-12-29</td>\n",
       "      <td>418.72</td>\n",
       "      <td>10</td>\n",
       "      <td>448.61</td>\n",
       "      <td>Tv</td>\n",
       "    </tr>\n",
       "    <tr>\n",
       "      <th>482244</th>\n",
       "      <td>P0458</td>\n",
       "      <td>L06</td>\n",
       "      <td>2024-07-22</td>\n",
       "      <td>286.42</td>\n",
       "      <td>20</td>\n",
       "      <td>297.68</td>\n",
       "      <td>Online</td>\n",
       "    </tr>\n",
       "    <tr>\n",
       "      <th>493152</th>\n",
       "      <td>P0458</td>\n",
       "      <td>L06</td>\n",
       "      <td>2024-03-17</td>\n",
       "      <td>176.05</td>\n",
       "      <td>10</td>\n",
       "      <td>180.29</td>\n",
       "      <td>Tv</td>\n",
       "    </tr>\n",
       "  </tbody>\n",
       "</table>\n",
       "<p>115 rows × 7 columns</p>\n",
       "</div>"
      ],
      "text/plain": [
       "       productid location       date   price  discount_percent  \\\n",
       "24679      P0458      L06 2024-08-29  379.48                10   \n",
       "26057      P0458      L06 2024-12-28  124.13                10   \n",
       "28615      P0458      L06 2024-12-28  357.22                 0   \n",
       "40273      P0458      L06 2024-10-21  173.96                10   \n",
       "49123      P0458      L06 2024-02-07  244.50                20   \n",
       "...          ...      ...        ...     ...               ...   \n",
       "476092     P0458      L06 2024-10-27  210.18                10   \n",
       "480122     P0458      L06 2024-01-29  321.12                15   \n",
       "482101     P0458      L06 2024-12-29  418.72                10   \n",
       "482244     P0458      L06 2024-07-22  286.42                20   \n",
       "493152     P0458      L06 2024-03-17  176.05                10   \n",
       "\n",
       "        competitorprice adcampaign  \n",
       "24679            397.66         Tv  \n",
       "26057            129.32         Tv  \n",
       "28615            324.80         Tv  \n",
       "40273            163.59         Tv  \n",
       "49123            241.18         Tv  \n",
       "...                 ...        ...  \n",
       "476092           250.32     Online  \n",
       "480122           358.25     Online  \n",
       "482101           448.61         Tv  \n",
       "482244           297.68     Online  \n",
       "493152           180.29         Tv  \n",
       "\n",
       "[115 rows x 7 columns]"
      ]
     },
     "execution_count": 43,
     "metadata": {},
     "output_type": "execute_result"
    }
   ],
   "source": [
    "df[(df['productid']=='P0458') & (df['location']==\"L06\")]"
   ]
  },
  {
   "cell_type": "code",
   "execution_count": 44,
   "id": "597103b8",
   "metadata": {},
   "outputs": [
    {
     "name": "stdout",
     "output_type": "stream",
     "text": [
      "Invalid Discount Rows: 0\n"
     ]
    }
   ],
   "source": [
    "# Find invalid discounts\n",
    "invalid_discounts = df[(df['discount_percent'] < 0) | (df['discount_percent'] > 100)]\n",
    "print(f\"Invalid Discount Rows: {len(invalid_discounts)}\")\n",
    "\n",
    "# Optional: View them\n",
    "# print(invalid_discounts)\n"
   ]
  },
  {
   "cell_type": "code",
   "execution_count": 45,
   "id": "aadc95b9",
   "metadata": {},
   "outputs": [],
   "source": [
    "df['finalprice'] = df['price'] * (1 - df['discount_percent'] / 100)\n",
    "df['finalprice'] = df['finalprice'].round(2)\n"
   ]
  },
  {
   "cell_type": "code",
   "execution_count": 46,
   "id": "2f1274bb",
   "metadata": {},
   "outputs": [
    {
     "data": {
      "text/html": [
       "<div>\n",
       "<style scoped>\n",
       "    .dataframe tbody tr th:only-of-type {\n",
       "        vertical-align: middle;\n",
       "    }\n",
       "\n",
       "    .dataframe tbody tr th {\n",
       "        vertical-align: top;\n",
       "    }\n",
       "\n",
       "    .dataframe thead th {\n",
       "        text-align: right;\n",
       "    }\n",
       "</style>\n",
       "<table border=\"1\" class=\"dataframe\">\n",
       "  <thead>\n",
       "    <tr style=\"text-align: right;\">\n",
       "      <th></th>\n",
       "      <th>productid</th>\n",
       "      <th>location</th>\n",
       "      <th>date</th>\n",
       "      <th>price</th>\n",
       "      <th>discount_percent</th>\n",
       "      <th>competitorprice</th>\n",
       "      <th>adcampaign</th>\n",
       "      <th>finalprice</th>\n",
       "    </tr>\n",
       "  </thead>\n",
       "  <tbody>\n",
       "    <tr>\n",
       "      <th>0</th>\n",
       "      <td>P0047</td>\n",
       "      <td>L06</td>\n",
       "      <td>2024-08-28</td>\n",
       "      <td>469.01</td>\n",
       "      <td>10</td>\n",
       "      <td>555.19</td>\n",
       "      <td>Online</td>\n",
       "      <td>422.11</td>\n",
       "    </tr>\n",
       "    <tr>\n",
       "      <th>1</th>\n",
       "      <td>P0225</td>\n",
       "      <td>L06</td>\n",
       "      <td>2024-06-07</td>\n",
       "      <td>438.49</td>\n",
       "      <td>15</td>\n",
       "      <td>459.64</td>\n",
       "      <td>Tv</td>\n",
       "      <td>372.72</td>\n",
       "    </tr>\n",
       "    <tr>\n",
       "      <th>2</th>\n",
       "      <td>P0172</td>\n",
       "      <td>L10</td>\n",
       "      <td>2024-06-26</td>\n",
       "      <td>403.58</td>\n",
       "      <td>15</td>\n",
       "      <td>456.95</td>\n",
       "      <td>Tv</td>\n",
       "      <td>343.04</td>\n",
       "    </tr>\n",
       "    <tr>\n",
       "      <th>3</th>\n",
       "      <td>P0238</td>\n",
       "      <td>L04</td>\n",
       "      <td>2024-04-30</td>\n",
       "      <td>156.80</td>\n",
       "      <td>10</td>\n",
       "      <td>170.50</td>\n",
       "      <td>Online</td>\n",
       "      <td>141.12</td>\n",
       "    </tr>\n",
       "    <tr>\n",
       "      <th>4</th>\n",
       "      <td>P0052</td>\n",
       "      <td>L04</td>\n",
       "      <td>2024-01-21</td>\n",
       "      <td>288.91</td>\n",
       "      <td>15</td>\n",
       "      <td>284.99</td>\n",
       "      <td>Tv</td>\n",
       "      <td>245.57</td>\n",
       "    </tr>\n",
       "  </tbody>\n",
       "</table>\n",
       "</div>"
      ],
      "text/plain": [
       "  productid location       date   price  discount_percent  competitorprice  \\\n",
       "0     P0047      L06 2024-08-28  469.01                10           555.19   \n",
       "1     P0225      L06 2024-06-07  438.49                15           459.64   \n",
       "2     P0172      L10 2024-06-26  403.58                15           456.95   \n",
       "3     P0238      L04 2024-04-30  156.80                10           170.50   \n",
       "4     P0052      L04 2024-01-21  288.91                15           284.99   \n",
       "\n",
       "  adcampaign  finalprice  \n",
       "0     Online      422.11  \n",
       "1         Tv      372.72  \n",
       "2         Tv      343.04  \n",
       "3     Online      141.12  \n",
       "4         Tv      245.57  "
      ]
     },
     "execution_count": 46,
     "metadata": {},
     "output_type": "execute_result"
    }
   ],
   "source": [
    "df.head()"
   ]
  },
  {
   "cell_type": "code",
   "execution_count": 47,
   "id": "85d854ed",
   "metadata": {},
   "outputs": [
    {
     "data": {
      "text/plain": [
       "productid                   object\n",
       "location                    object\n",
       "date                datetime64[ns]\n",
       "price                      float64\n",
       "discount_percent             int64\n",
       "competitorprice            float64\n",
       "adcampaign                  object\n",
       "finalprice                 float64\n",
       "dtype: object"
      ]
     },
     "execution_count": 47,
     "metadata": {},
     "output_type": "execute_result"
    }
   ],
   "source": [
    "df.dtypes"
   ]
  },
  {
   "cell_type": "code",
   "execution_count": 49,
   "id": "13808fb6",
   "metadata": {},
   "outputs": [
    {
     "name": "stdout",
     "output_type": "stream",
     "text": [
      "<class 'pandas.core.frame.DataFrame'>\n",
      "RangeIndex: 500000 entries, 0 to 499999\n",
      "Data columns (total 8 columns):\n",
      " #   Column            Non-Null Count   Dtype         \n",
      "---  ------            --------------   -----         \n",
      " 0   productid         500000 non-null  object        \n",
      " 1   location          500000 non-null  object        \n",
      " 2   date              500000 non-null  datetime64[ns]\n",
      " 3   price             500000 non-null  float64       \n",
      " 4   discount_percent  500000 non-null  int64         \n",
      " 5   competitorprice   500000 non-null  float64       \n",
      " 6   adcampaign        500000 non-null  object        \n",
      " 7   finalprice        500000 non-null  float64       \n",
      "dtypes: datetime64[ns](1), float64(3), int64(1), object(3)\n",
      "memory usage: 30.5+ MB\n"
     ]
    }
   ],
   "source": [
    "df.info()"
   ]
  },
  {
   "cell_type": "code",
   "execution_count": 50,
   "id": "dd923602",
   "metadata": {},
   "outputs": [],
   "source": [
    "df.to_csv(r\"C:\\Users\\sachi\\OneDrive\\Product Demand Forecasting\\CLEANED DATA\\pricing_data_Cleaned.csv.csv\",index=False)"
   ]
  }
 ],
 "metadata": {
  "kernelspec": {
   "display_name": "Python 3",
   "language": "python",
   "name": "python3"
  },
  "language_info": {
   "codemirror_mode": {
    "name": "ipython",
    "version": 3
   },
   "file_extension": ".py",
   "mimetype": "text/x-python",
   "name": "python",
   "nbconvert_exporter": "python",
   "pygments_lexer": "ipython3",
   "version": "3.13.5"
  }
 },
 "nbformat": 4,
 "nbformat_minor": 5
}
