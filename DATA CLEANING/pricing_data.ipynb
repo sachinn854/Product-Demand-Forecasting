{
 "cells": [
  {
   "cell_type": "code",
   "execution_count": 1,
   "id": "b00b2e70",
   "metadata": {},
   "outputs": [],
   "source": [
    "import pandas as pd "
   ]
  },
  {
   "cell_type": "code",
   "execution_count": 2,
   "id": "aef2307f",
   "metadata": {},
   "outputs": [],
   "source": [
    "df = pd.read_csv(r\"C:\\Users\\sachi\\OneDrive\\Product Demand Forecasting\\DATA\\pricing_data_2024.csv\")"
   ]
  },
  {
   "cell_type": "code",
   "execution_count": 3,
   "id": "67ad0131",
   "metadata": {},
   "outputs": [
    {
     "data": {
      "text/html": [
       "<div>\n",
       "<style scoped>\n",
       "    .dataframe tbody tr th:only-of-type {\n",
       "        vertical-align: middle;\n",
       "    }\n",
       "\n",
       "    .dataframe tbody tr th {\n",
       "        vertical-align: top;\n",
       "    }\n",
       "\n",
       "    .dataframe thead th {\n",
       "        text-align: right;\n",
       "    }\n",
       "</style>\n",
       "<table border=\"1\" class=\"dataframe\">\n",
       "  <thead>\n",
       "    <tr style=\"text-align: right;\">\n",
       "      <th></th>\n",
       "      <th>ProductID</th>\n",
       "      <th>Location</th>\n",
       "      <th>Date</th>\n",
       "      <th>Price</th>\n",
       "      <th>Discount(%)</th>\n",
       "      <th>CompetitorPrice</th>\n",
       "      <th>AdCampaign</th>\n",
       "    </tr>\n",
       "  </thead>\n",
       "  <tbody>\n",
       "    <tr>\n",
       "      <th>91404</th>\n",
       "      <td>P0460</td>\n",
       "      <td>L08</td>\n",
       "      <td>2024-07-07</td>\n",
       "      <td>322.16</td>\n",
       "      <td>0</td>\n",
       "      <td>320.27</td>\n",
       "      <td>Online</td>\n",
       "    </tr>\n",
       "    <tr>\n",
       "      <th>352460</th>\n",
       "      <td>P0230</td>\n",
       "      <td>L08</td>\n",
       "      <td>2024-06-02</td>\n",
       "      <td>241.20</td>\n",
       "      <td>0</td>\n",
       "      <td>287.85</td>\n",
       "      <td>Online</td>\n",
       "    </tr>\n",
       "    <tr>\n",
       "      <th>392123</th>\n",
       "      <td>P0221</td>\n",
       "      <td>L10</td>\n",
       "      <td>2024-02-10</td>\n",
       "      <td>222.69</td>\n",
       "      <td>0</td>\n",
       "      <td>256.66</td>\n",
       "      <td>NaN</td>\n",
       "    </tr>\n",
       "    <tr>\n",
       "      <th>197177</th>\n",
       "      <td>P0468</td>\n",
       "      <td>L06</td>\n",
       "      <td>2024-03-31</td>\n",
       "      <td>215.86</td>\n",
       "      <td>20</td>\n",
       "      <td>251.60</td>\n",
       "      <td>NaN</td>\n",
       "    </tr>\n",
       "    <tr>\n",
       "      <th>474792</th>\n",
       "      <td>P0179</td>\n",
       "      <td>L08</td>\n",
       "      <td>2024-08-10</td>\n",
       "      <td>177.37</td>\n",
       "      <td>0</td>\n",
       "      <td>187.91</td>\n",
       "      <td>NaN</td>\n",
       "    </tr>\n",
       "    <tr>\n",
       "      <th>50165</th>\n",
       "      <td>P0005</td>\n",
       "      <td>L08</td>\n",
       "      <td>2024-01-19</td>\n",
       "      <td>160.80</td>\n",
       "      <td>0</td>\n",
       "      <td>168.91</td>\n",
       "      <td>NaN</td>\n",
       "    </tr>\n",
       "    <tr>\n",
       "      <th>121899</th>\n",
       "      <td>P0072</td>\n",
       "      <td>L06</td>\n",
       "      <td>2024-11-26</td>\n",
       "      <td>329.70</td>\n",
       "      <td>0</td>\n",
       "      <td>384.17</td>\n",
       "      <td>Online</td>\n",
       "    </tr>\n",
       "    <tr>\n",
       "      <th>445774</th>\n",
       "      <td>P0432</td>\n",
       "      <td>L01</td>\n",
       "      <td>2024-12-13</td>\n",
       "      <td>219.70</td>\n",
       "      <td>15</td>\n",
       "      <td>263.24</td>\n",
       "      <td>TV</td>\n",
       "    </tr>\n",
       "    <tr>\n",
       "      <th>141715</th>\n",
       "      <td>P0271</td>\n",
       "      <td>L05</td>\n",
       "      <td>2024-01-07</td>\n",
       "      <td>360.04</td>\n",
       "      <td>15</td>\n",
       "      <td>363.82</td>\n",
       "      <td>TV</td>\n",
       "    </tr>\n",
       "    <tr>\n",
       "      <th>133893</th>\n",
       "      <td>P0036</td>\n",
       "      <td>L03</td>\n",
       "      <td>2024-07-27</td>\n",
       "      <td>286.50</td>\n",
       "      <td>10</td>\n",
       "      <td>299.00</td>\n",
       "      <td>TV</td>\n",
       "    </tr>\n",
       "  </tbody>\n",
       "</table>\n",
       "</div>"
      ],
      "text/plain": [
       "       ProductID Location        Date   Price  Discount(%)  CompetitorPrice  \\\n",
       "91404      P0460      L08  2024-07-07  322.16            0           320.27   \n",
       "352460     P0230      L08  2024-06-02  241.20            0           287.85   \n",
       "392123     P0221      L10  2024-02-10  222.69            0           256.66   \n",
       "197177     P0468      L06  2024-03-31  215.86           20           251.60   \n",
       "474792     P0179      L08  2024-08-10  177.37            0           187.91   \n",
       "50165      P0005      L08  2024-01-19  160.80            0           168.91   \n",
       "121899     P0072      L06  2024-11-26  329.70            0           384.17   \n",
       "445774     P0432      L01  2024-12-13  219.70           15           263.24   \n",
       "141715     P0271      L05  2024-01-07  360.04           15           363.82   \n",
       "133893     P0036      L03  2024-07-27  286.50           10           299.00   \n",
       "\n",
       "       AdCampaign  \n",
       "91404      Online  \n",
       "352460     Online  \n",
       "392123        NaN  \n",
       "197177        NaN  \n",
       "474792        NaN  \n",
       "50165         NaN  \n",
       "121899     Online  \n",
       "445774         TV  \n",
       "141715         TV  \n",
       "133893         TV  "
      ]
     },
     "execution_count": 3,
     "metadata": {},
     "output_type": "execute_result"
    }
   ],
   "source": [
    "df.sample(10)"
   ]
  },
  {
   "cell_type": "code",
   "execution_count": 4,
   "id": "610b06e4",
   "metadata": {},
   "outputs": [
    {
     "name": "stdout",
     "output_type": "stream",
     "text": [
      "<class 'pandas.core.frame.DataFrame'>\n",
      "RangeIndex: 500000 entries, 0 to 499999\n",
      "Data columns (total 7 columns):\n",
      " #   Column           Non-Null Count   Dtype  \n",
      "---  ------           --------------   -----  \n",
      " 0   ProductID        500000 non-null  object \n",
      " 1   Location         500000 non-null  object \n",
      " 2   Date             500000 non-null  object \n",
      " 3   Price            500000 non-null  float64\n",
      " 4   Discount(%)      500000 non-null  int64  \n",
      " 5   CompetitorPrice  500000 non-null  float64\n",
      " 6   AdCampaign       300034 non-null  object \n",
      "dtypes: float64(2), int64(1), object(4)\n",
      "memory usage: 26.7+ MB\n"
     ]
    }
   ],
   "source": [
    "df.info()"
   ]
  },
  {
   "cell_type": "code",
   "execution_count": 5,
   "id": "c966ee3d",
   "metadata": {},
   "outputs": [
    {
     "data": {
      "text/plain": [
       "ProductID               0\n",
       "Location                0\n",
       "Date                    0\n",
       "Price                   0\n",
       "Discount(%)             0\n",
       "CompetitorPrice         0\n",
       "AdCampaign         199966\n",
       "dtype: int64"
      ]
     },
     "execution_count": 5,
     "metadata": {},
     "output_type": "execute_result"
    }
   ],
   "source": [
    "df.isnull().sum()"
   ]
  },
  {
   "cell_type": "code",
   "execution_count": 6,
   "id": "3775f7cb",
   "metadata": {},
   "outputs": [
    {
     "data": {
      "text/plain": [
       "(500000, 7)"
      ]
     },
     "execution_count": 6,
     "metadata": {},
     "output_type": "execute_result"
    }
   ],
   "source": [
    "df.shape"
   ]
  },
  {
   "cell_type": "code",
   "execution_count": 6,
   "id": "84f5e4dc",
   "metadata": {},
   "outputs": [],
   "source": [
    "import numpy as np"
   ]
  },
  {
   "cell_type": "markdown",
   "id": "6bb80705",
   "metadata": {},
   "source": [
    "# filling missing values in AdCampaign"
   ]
  },
  {
   "cell_type": "code",
   "execution_count": 7,
   "id": "fab6f3d8",
   "metadata": {},
   "outputs": [],
   "source": [
    "# Step 1: Replace blank strings with NaN\n",
    "df['AdCampaign'] = df['AdCampaign'].replace('', pd.NA)\n",
    "\n",
    "# Step 2: Get original distribution of AdCampaign (excluding nulls)\n",
    "value_counts = df['AdCampaign'].dropna().value_counts(normalize=True)\n",
    "\n",
    "# Example output:\n",
    "# TV       0.45\n",
    "# Online   0.35\n",
    "# None     0.20\n",
    "\n",
    "# Step 3: Number of missing values\n",
    "num_missing = df['AdCampaign'].isna().sum()\n",
    "\n",
    "# Step 4: Randomly sample missing values based on original distribution\n",
    "fill_values = np.random.choice(value_counts.index, size=num_missing, p=value_counts.values)\n",
    "\n",
    "# Step 5: Replace missing values with sampled values\n",
    "df.loc[df['AdCampaign'].isna(), 'AdCampaign'] = fill_values"
   ]
  },
  {
   "cell_type": "code",
   "execution_count": 8,
   "id": "9d91b415",
   "metadata": {},
   "outputs": [
    {
     "data": {
      "text/plain": [
       "ProductID          0\n",
       "Location           0\n",
       "Date               0\n",
       "Price              0\n",
       "Discount(%)        0\n",
       "CompetitorPrice    0\n",
       "AdCampaign         0\n",
       "dtype: int64"
      ]
     },
     "execution_count": 8,
     "metadata": {},
     "output_type": "execute_result"
    }
   ],
   "source": [
    "df.isnull().sum()"
   ]
  },
  {
   "cell_type": "code",
   "execution_count": 9,
   "id": "148324ff",
   "metadata": {},
   "outputs": [
    {
     "data": {
      "text/html": [
       "<div>\n",
       "<style scoped>\n",
       "    .dataframe tbody tr th:only-of-type {\n",
       "        vertical-align: middle;\n",
       "    }\n",
       "\n",
       "    .dataframe tbody tr th {\n",
       "        vertical-align: top;\n",
       "    }\n",
       "\n",
       "    .dataframe thead th {\n",
       "        text-align: right;\n",
       "    }\n",
       "</style>\n",
       "<table border=\"1\" class=\"dataframe\">\n",
       "  <thead>\n",
       "    <tr style=\"text-align: right;\">\n",
       "      <th></th>\n",
       "      <th>ProductID</th>\n",
       "      <th>Location</th>\n",
       "      <th>Date</th>\n",
       "      <th>Price</th>\n",
       "      <th>Discount(%)</th>\n",
       "      <th>CompetitorPrice</th>\n",
       "      <th>AdCampaign</th>\n",
       "    </tr>\n",
       "  </thead>\n",
       "  <tbody>\n",
       "    <tr>\n",
       "      <th>428536</th>\n",
       "      <td>P0022</td>\n",
       "      <td>L08</td>\n",
       "      <td>2024-02-20</td>\n",
       "      <td>358.94</td>\n",
       "      <td>20</td>\n",
       "      <td>388.10</td>\n",
       "      <td>TV</td>\n",
       "    </tr>\n",
       "    <tr>\n",
       "      <th>349422</th>\n",
       "      <td>P0210</td>\n",
       "      <td>L04</td>\n",
       "      <td>2024-07-18</td>\n",
       "      <td>499.68</td>\n",
       "      <td>10</td>\n",
       "      <td>513.44</td>\n",
       "      <td>Online</td>\n",
       "    </tr>\n",
       "    <tr>\n",
       "      <th>387357</th>\n",
       "      <td>P0433</td>\n",
       "      <td>L01</td>\n",
       "      <td>2024-04-15</td>\n",
       "      <td>154.76</td>\n",
       "      <td>10</td>\n",
       "      <td>182.45</td>\n",
       "      <td>Online</td>\n",
       "    </tr>\n",
       "    <tr>\n",
       "      <th>204253</th>\n",
       "      <td>P0225</td>\n",
       "      <td>L05</td>\n",
       "      <td>2024-10-25</td>\n",
       "      <td>163.20</td>\n",
       "      <td>5</td>\n",
       "      <td>179.15</td>\n",
       "      <td>TV</td>\n",
       "    </tr>\n",
       "    <tr>\n",
       "      <th>276143</th>\n",
       "      <td>P0285</td>\n",
       "      <td>L04</td>\n",
       "      <td>2024-01-30</td>\n",
       "      <td>463.18</td>\n",
       "      <td>0</td>\n",
       "      <td>467.05</td>\n",
       "      <td>Online</td>\n",
       "    </tr>\n",
       "    <tr>\n",
       "      <th>226783</th>\n",
       "      <td>P0022</td>\n",
       "      <td>L02</td>\n",
       "      <td>2024-08-16</td>\n",
       "      <td>296.68</td>\n",
       "      <td>5</td>\n",
       "      <td>269.92</td>\n",
       "      <td>Online</td>\n",
       "    </tr>\n",
       "    <tr>\n",
       "      <th>82822</th>\n",
       "      <td>P0016</td>\n",
       "      <td>L07</td>\n",
       "      <td>2024-04-24</td>\n",
       "      <td>218.62</td>\n",
       "      <td>20</td>\n",
       "      <td>253.49</td>\n",
       "      <td>Online</td>\n",
       "    </tr>\n",
       "    <tr>\n",
       "      <th>498939</th>\n",
       "      <td>P0405</td>\n",
       "      <td>L03</td>\n",
       "      <td>2024-01-22</td>\n",
       "      <td>161.29</td>\n",
       "      <td>15</td>\n",
       "      <td>183.13</td>\n",
       "      <td>Online</td>\n",
       "    </tr>\n",
       "    <tr>\n",
       "      <th>303362</th>\n",
       "      <td>P0342</td>\n",
       "      <td>L03</td>\n",
       "      <td>2024-10-09</td>\n",
       "      <td>251.53</td>\n",
       "      <td>15</td>\n",
       "      <td>254.52</td>\n",
       "      <td>Online</td>\n",
       "    </tr>\n",
       "    <tr>\n",
       "      <th>379789</th>\n",
       "      <td>P0039</td>\n",
       "      <td>L08</td>\n",
       "      <td>2024-05-20</td>\n",
       "      <td>361.76</td>\n",
       "      <td>15</td>\n",
       "      <td>377.41</td>\n",
       "      <td>TV</td>\n",
       "    </tr>\n",
       "  </tbody>\n",
       "</table>\n",
       "</div>"
      ],
      "text/plain": [
       "       ProductID Location        Date   Price  Discount(%)  CompetitorPrice  \\\n",
       "428536     P0022      L08  2024-02-20  358.94           20           388.10   \n",
       "349422     P0210      L04  2024-07-18  499.68           10           513.44   \n",
       "387357     P0433      L01  2024-04-15  154.76           10           182.45   \n",
       "204253     P0225      L05  2024-10-25  163.20            5           179.15   \n",
       "276143     P0285      L04  2024-01-30  463.18            0           467.05   \n",
       "226783     P0022      L02  2024-08-16  296.68            5           269.92   \n",
       "82822      P0016      L07  2024-04-24  218.62           20           253.49   \n",
       "498939     P0405      L03  2024-01-22  161.29           15           183.13   \n",
       "303362     P0342      L03  2024-10-09  251.53           15           254.52   \n",
       "379789     P0039      L08  2024-05-20  361.76           15           377.41   \n",
       "\n",
       "       AdCampaign  \n",
       "428536         TV  \n",
       "349422     Online  \n",
       "387357     Online  \n",
       "204253         TV  \n",
       "276143     Online  \n",
       "226783     Online  \n",
       "82822      Online  \n",
       "498939     Online  \n",
       "303362     Online  \n",
       "379789         TV  "
      ]
     },
     "execution_count": 9,
     "metadata": {},
     "output_type": "execute_result"
    }
   ],
   "source": [
    "df.sample(10)"
   ]
  },
  {
   "cell_type": "code",
   "execution_count": 10,
   "id": "5bad3508",
   "metadata": {},
   "outputs": [
    {
     "data": {
      "text/plain": [
       "ProductID           object\n",
       "Location            object\n",
       "Date                object\n",
       "Price              float64\n",
       "Discount(%)          int64\n",
       "CompetitorPrice    float64\n",
       "AdCampaign          object\n",
       "dtype: object"
      ]
     },
     "execution_count": 10,
     "metadata": {},
     "output_type": "execute_result"
    }
   ],
   "source": [
    "df.dtypes"
   ]
  },
  {
   "cell_type": "markdown",
   "id": "504a9ad3",
   "metadata": {},
   "source": [
    "# converting data types"
   ]
  },
  {
   "cell_type": "code",
   "execution_count": 11,
   "id": "8fca6942",
   "metadata": {},
   "outputs": [],
   "source": [
    "# Convert 'Date' column to datetime\n",
    "df['Date'] = pd.to_datetime(df['Date'], errors='coerce')\n",
    "\n",
    "# Optional: convert 'ProductID' and 'Location' to string explicitly\n",
    "df['ProductID'] = df['ProductID'].astype(str)\n",
    "df['Location'] = df['Location'].astype(str)\n",
    "\n",
    "# Optional: convert 'AdCampaign' to category for memory optimization\n",
    "df['AdCampaign'] = df['AdCampaign'].astype('category')\n"
   ]
  },
  {
   "cell_type": "code",
   "execution_count": 12,
   "id": "613e66be",
   "metadata": {},
   "outputs": [
    {
     "data": {
      "text/plain": [
       "ProductID                  object\n",
       "Location                   object\n",
       "Date               datetime64[ns]\n",
       "Price                     float64\n",
       "Discount(%)                 int64\n",
       "CompetitorPrice           float64\n",
       "AdCampaign               category\n",
       "dtype: object"
      ]
     },
     "execution_count": 12,
     "metadata": {},
     "output_type": "execute_result"
    }
   ],
   "source": [
    "df.dtypes"
   ]
  },
  {
   "cell_type": "markdown",
   "id": "868892ba",
   "metadata": {},
   "source": [
    "# Removing whitespace from the data or column"
   ]
  },
  {
   "cell_type": "code",
   "execution_count": 13,
   "id": "298d69b4",
   "metadata": {},
   "outputs": [],
   "source": [
    "str_cols = df.select_dtypes(include='object').columns\n",
    "df[str_cols] = df[str_cols].apply(lambda x: x.str.strip())\n"
   ]
  },
  {
   "cell_type": "markdown",
   "id": "a80c130d",
   "metadata": {},
   "source": [
    "# changing column name"
   ]
  },
  {
   "cell_type": "code",
   "execution_count": 14,
   "id": "514eac57",
   "metadata": {},
   "outputs": [],
   "source": [
    "df.columns = df.columns.str.strip().str.lower().str.replace(' ', '_').str.replace('%', 'percent')\n"
   ]
  },
  {
   "cell_type": "code",
   "execution_count": 15,
   "id": "4179a47a",
   "metadata": {},
   "outputs": [
    {
     "data": {
      "text/html": [
       "<div>\n",
       "<style scoped>\n",
       "    .dataframe tbody tr th:only-of-type {\n",
       "        vertical-align: middle;\n",
       "    }\n",
       "\n",
       "    .dataframe tbody tr th {\n",
       "        vertical-align: top;\n",
       "    }\n",
       "\n",
       "    .dataframe thead th {\n",
       "        text-align: right;\n",
       "    }\n",
       "</style>\n",
       "<table border=\"1\" class=\"dataframe\">\n",
       "  <thead>\n",
       "    <tr style=\"text-align: right;\">\n",
       "      <th></th>\n",
       "      <th>productid</th>\n",
       "      <th>location</th>\n",
       "      <th>date</th>\n",
       "      <th>price</th>\n",
       "      <th>discount(percent)</th>\n",
       "      <th>competitorprice</th>\n",
       "      <th>adcampaign</th>\n",
       "    </tr>\n",
       "  </thead>\n",
       "  <tbody>\n",
       "    <tr>\n",
       "      <th>0</th>\n",
       "      <td>P0047</td>\n",
       "      <td>L06</td>\n",
       "      <td>2024-08-28</td>\n",
       "      <td>469.01</td>\n",
       "      <td>10</td>\n",
       "      <td>555.19</td>\n",
       "      <td>Online</td>\n",
       "    </tr>\n",
       "    <tr>\n",
       "      <th>1</th>\n",
       "      <td>P0225</td>\n",
       "      <td>L06</td>\n",
       "      <td>2024-06-07</td>\n",
       "      <td>438.49</td>\n",
       "      <td>15</td>\n",
       "      <td>459.64</td>\n",
       "      <td>Online</td>\n",
       "    </tr>\n",
       "    <tr>\n",
       "      <th>2</th>\n",
       "      <td>P0172</td>\n",
       "      <td>L10</td>\n",
       "      <td>2024-06-26</td>\n",
       "      <td>403.58</td>\n",
       "      <td>15</td>\n",
       "      <td>456.95</td>\n",
       "      <td>Online</td>\n",
       "    </tr>\n",
       "    <tr>\n",
       "      <th>3</th>\n",
       "      <td>P0238</td>\n",
       "      <td>L04</td>\n",
       "      <td>2024-04-30</td>\n",
       "      <td>156.80</td>\n",
       "      <td>10</td>\n",
       "      <td>170.50</td>\n",
       "      <td>Online</td>\n",
       "    </tr>\n",
       "    <tr>\n",
       "      <th>4</th>\n",
       "      <td>P0052</td>\n",
       "      <td>L04</td>\n",
       "      <td>2024-01-21</td>\n",
       "      <td>288.91</td>\n",
       "      <td>15</td>\n",
       "      <td>284.99</td>\n",
       "      <td>TV</td>\n",
       "    </tr>\n",
       "  </tbody>\n",
       "</table>\n",
       "</div>"
      ],
      "text/plain": [
       "  productid location       date   price  discount(percent)  competitorprice  \\\n",
       "0     P0047      L06 2024-08-28  469.01                 10           555.19   \n",
       "1     P0225      L06 2024-06-07  438.49                 15           459.64   \n",
       "2     P0172      L10 2024-06-26  403.58                 15           456.95   \n",
       "3     P0238      L04 2024-04-30  156.80                 10           170.50   \n",
       "4     P0052      L04 2024-01-21  288.91                 15           284.99   \n",
       "\n",
       "  adcampaign  \n",
       "0     Online  \n",
       "1     Online  \n",
       "2     Online  \n",
       "3     Online  \n",
       "4         TV  "
      ]
     },
     "execution_count": 15,
     "metadata": {},
     "output_type": "execute_result"
    }
   ],
   "source": [
    "df.head()"
   ]
  },
  {
   "cell_type": "code",
   "execution_count": 16,
   "id": "b9ad23c6",
   "metadata": {},
   "outputs": [
    {
     "name": "stdout",
     "output_type": "stream",
     "text": [
      "productid            0\n",
      "location             0\n",
      "date                 0\n",
      "price                0\n",
      "discount(percent)    0\n",
      "competitorprice      0\n",
      "adcampaign           0\n",
      "dtype: int64\n"
     ]
    }
   ],
   "source": [
    "print(df.isna().sum())\n"
   ]
  },
  {
   "cell_type": "code",
   "execution_count": 17,
   "id": "01e43f52",
   "metadata": {},
   "outputs": [
    {
     "data": {
      "text/plain": [
       "np.int64(0)"
      ]
     },
     "execution_count": 17,
     "metadata": {},
     "output_type": "execute_result"
    }
   ],
   "source": [
    "df.duplicated().sum()"
   ]
  },
  {
   "cell_type": "markdown",
   "id": "cfb1f8e7",
   "metadata": {},
   "source": [
    "# Checking for outliers"
   ]
  },
  {
   "cell_type": "code",
   "execution_count": 18,
   "id": "a6e7d544",
   "metadata": {},
   "outputs": [
    {
     "data": {
      "image/png": "[encoded data removed]",
      "text/plain": [
       "<Figure size 640x480 with 1 Axes>"
      ]
     },
     "metadata": {},
     "output_type": "display_data"
    },
    {
     "data": {
      "image/png": "[encoded data removed]",
      "text/plain": [
       "<Figure size 640x480 with 1 Axes>"
      ]
     },
     "metadata": {},
     "output_type": "display_data"
    }
   ],
   "source": [
    "import seaborn as sns\n",
    "import matplotlib.pyplot as plt\n",
    "\n",
    "sns.boxplot(x=df['price']); plt.show()\n",
    "sns.boxplot(x=df['discount(percent)']); plt.show()\n"
   ]
  },
  {
   "cell_type": "code",
   "execution_count": 19,
   "id": "69babdfc",
   "metadata": {},
   "outputs": [
    {
     "data": {
      "text/html": [
       "<div>\n",
       "<style scoped>\n",
       "    .dataframe tbody tr th:only-of-type {\n",
       "        vertical-align: middle;\n",
       "    }\n",
       "\n",
       "    .dataframe tbody tr th {\n",
       "        vertical-align: top;\n",
       "    }\n",
       "\n",
       "    .dataframe thead th {\n",
       "        text-align: right;\n",
       "    }\n",
       "</style>\n",
       "<table border=\"1\" class=\"dataframe\">\n",
       "  <thead>\n",
       "    <tr style=\"text-align: right;\">\n",
       "      <th></th>\n",
       "      <th>price</th>\n",
       "      <th>competitorprice</th>\n",
       "    </tr>\n",
       "  </thead>\n",
       "  <tbody>\n",
       "    <tr>\n",
       "      <th>count</th>\n",
       "      <td>500000.000000</td>\n",
       "      <td>500000.000000</td>\n",
       "    </tr>\n",
       "    <tr>\n",
       "      <th>mean</th>\n",
       "      <td>299.979836</td>\n",
       "      <td>314.974805</td>\n",
       "    </tr>\n",
       "    <tr>\n",
       "      <th>std</th>\n",
       "      <td>115.526177</td>\n",
       "      <td>124.494327</td>\n",
       "    </tr>\n",
       "    <tr>\n",
       "      <th>min</th>\n",
       "      <td>100.000000</td>\n",
       "      <td>90.240000</td>\n",
       "    </tr>\n",
       "    <tr>\n",
       "      <th>25%</th>\n",
       "      <td>199.770000</td>\n",
       "      <td>208.350000</td>\n",
       "    </tr>\n",
       "    <tr>\n",
       "      <th>50%</th>\n",
       "      <td>300.170000</td>\n",
       "      <td>312.810000</td>\n",
       "    </tr>\n",
       "    <tr>\n",
       "      <th>75%</th>\n",
       "      <td>400.080000</td>\n",
       "      <td>417.460000</td>\n",
       "    </tr>\n",
       "    <tr>\n",
       "      <th>max</th>\n",
       "      <td>500.000000</td>\n",
       "      <td>599.500000</td>\n",
       "    </tr>\n",
       "  </tbody>\n",
       "</table>\n",
       "</div>"
      ],
      "text/plain": [
       "               price  competitorprice\n",
       "count  500000.000000    500000.000000\n",
       "mean      299.979836       314.974805\n",
       "std       115.526177       124.494327\n",
       "min       100.000000        90.240000\n",
       "25%       199.770000       208.350000\n",
       "50%       300.170000       312.810000\n",
       "75%       400.080000       417.460000\n",
       "max       500.000000       599.500000"
      ]
     },
     "execution_count": 19,
     "metadata": {},
     "output_type": "execute_result"
    }
   ],
   "source": [
    "df[['price','competitorprice']].describe()\n"
   ]
  },
  {
   "cell_type": "code",
   "execution_count": 20,
   "id": "235404fa",
   "metadata": {},
   "outputs": [],
   "source": [
    "Q1 = df['price'].quantile(0.25)\n",
    "Q3 = df['price'].quantile(0.75)\n",
    "IQR = Q3 - Q1\n",
    "\n",
    "lower_bound_price = Q1 - 1.5 * IQR\n",
    "upper_bound_price = Q3 + 1.5 * IQR\n",
    "\n",
    "outliers_price = df[(df['price'] < lower_bound_price) | (df['price'] > upper_bound_price)]\n"
   ]
  },
  {
   "cell_type": "code",
   "execution_count": 21,
   "id": "20c6003d",
   "metadata": {},
   "outputs": [
    {
     "name": "stdout",
     "output_type": "stream",
     "text": [
      "Total outliers in Price: 0\n"
     ]
    }
   ],
   "source": [
    "print(\"Total outliers in Price:\", outliers_price.shape[0])\n"
   ]
  },
  {
   "cell_type": "code",
   "execution_count": 22,
   "id": "2de72be7",
   "metadata": {},
   "outputs": [
    {
     "data": {
      "text/plain": [
       "<Axes: xlabel='price'>"
      ]
     },
     "execution_count": 22,
     "metadata": {},
     "output_type": "execute_result"
    },
    {
     "data": {
      "image/png": "[encoded data removed]",
      "text/plain": [
       "<Figure size 640x480 with 1 Axes>"
      ]
     },
     "metadata": {},
     "output_type": "display_data"
    }
   ],
   "source": [
    "import seaborn as sns\n",
    "sns.boxplot(x=df['price'])"
   ]
  },
  {
   "cell_type": "code",
   "execution_count": 23,
   "id": "37cadcfa",
   "metadata": {},
   "outputs": [],
   "source": [
    "Q1 = df['competitorprice'].quantile(0.25)\n",
    "Q3 = df['competitorprice'].quantile(0.75)\n",
    "IQR = Q3 - Q1\n",
    "\n",
    "lower_bound_comp = Q1 - 1.5 * IQR\n",
    "upper_bound_comp = Q3 + 1.5 * IQR\n",
    "\n",
    "outliers_comp = df[(df['competitorprice'] < lower_bound_comp) | (df['competitorprice'] > upper_bound_comp)]\n"
   ]
  },
  {
   "cell_type": "code",
   "execution_count": 24,
   "id": "d6c95b25",
   "metadata": {},
   "outputs": [
    {
     "name": "stdout",
     "output_type": "stream",
     "text": [
      "Total outliers in Price: 0\n"
     ]
    }
   ],
   "source": [
    "print(\"Total outliers in Price:\", outliers_comp.shape[0])\n"
   ]
  },
  {
   "cell_type": "markdown",
   "id": "01f81543",
   "metadata": {},
   "source": [
    "# Standardize AdCampaign values (optional)"
   ]
  },
  {
   "cell_type": "code",
   "execution_count": 25,
   "id": "e023d9a4",
   "metadata": {},
   "outputs": [],
   "source": [
    "df['adcampaign'] = df['adcampaign'].str.lower().str.title()\n",
    "# For example: \"tv\", \"TV\" → \"Tv\"\n"
   ]
  },
  {
   "cell_type": "code",
   "execution_count": 26,
   "id": "a4d080b3",
   "metadata": {},
   "outputs": [
    {
     "data": {
      "text/html": [
       "<div>\n",
       "<style scoped>\n",
       "    .dataframe tbody tr th:only-of-type {\n",
       "        vertical-align: middle;\n",
       "    }\n",
       "\n",
       "    .dataframe tbody tr th {\n",
       "        vertical-align: top;\n",
       "    }\n",
       "\n",
       "    .dataframe thead th {\n",
       "        text-align: right;\n",
       "    }\n",
       "</style>\n",
       "<table border=\"1\" class=\"dataframe\">\n",
       "  <thead>\n",
       "    <tr style=\"text-align: right;\">\n",
       "      <th></th>\n",
       "      <th>productid</th>\n",
       "      <th>location</th>\n",
       "      <th>date</th>\n",
       "      <th>price</th>\n",
       "      <th>discount(percent)</th>\n",
       "      <th>competitorprice</th>\n",
       "      <th>adcampaign</th>\n",
       "    </tr>\n",
       "  </thead>\n",
       "  <tbody>\n",
       "    <tr>\n",
       "      <th>0</th>\n",
       "      <td>P0047</td>\n",
       "      <td>L06</td>\n",
       "      <td>2024-08-28</td>\n",
       "      <td>469.01</td>\n",
       "      <td>10</td>\n",
       "      <td>555.19</td>\n",
       "      <td>Online</td>\n",
       "    </tr>\n",
       "    <tr>\n",
       "      <th>1</th>\n",
       "      <td>P0225</td>\n",
       "      <td>L06</td>\n",
       "      <td>2024-06-07</td>\n",
       "      <td>438.49</td>\n",
       "      <td>15</td>\n",
       "      <td>459.64</td>\n",
       "      <td>Online</td>\n",
       "    </tr>\n",
       "    <tr>\n",
       "      <th>2</th>\n",
       "      <td>P0172</td>\n",
       "      <td>L10</td>\n",
       "      <td>2024-06-26</td>\n",
       "      <td>403.58</td>\n",
       "      <td>15</td>\n",
       "      <td>456.95</td>\n",
       "      <td>Online</td>\n",
       "    </tr>\n",
       "    <tr>\n",
       "      <th>3</th>\n",
       "      <td>P0238</td>\n",
       "      <td>L04</td>\n",
       "      <td>2024-04-30</td>\n",
       "      <td>156.80</td>\n",
       "      <td>10</td>\n",
       "      <td>170.50</td>\n",
       "      <td>Online</td>\n",
       "    </tr>\n",
       "    <tr>\n",
       "      <th>4</th>\n",
       "      <td>P0052</td>\n",
       "      <td>L04</td>\n",
       "      <td>2024-01-21</td>\n",
       "      <td>288.91</td>\n",
       "      <td>15</td>\n",
       "      <td>284.99</td>\n",
       "      <td>Tv</td>\n",
       "    </tr>\n",
       "  </tbody>\n",
       "</table>\n",
       "</div>"
      ],
      "text/plain": [
       "  productid location       date   price  discount(percent)  competitorprice  \\\n",
       "0     P0047      L06 2024-08-28  469.01                 10           555.19   \n",
       "1     P0225      L06 2024-06-07  438.49                 15           459.64   \n",
       "2     P0172      L10 2024-06-26  403.58                 15           456.95   \n",
       "3     P0238      L04 2024-04-30  156.80                 10           170.50   \n",
       "4     P0052      L04 2024-01-21  288.91                 15           284.99   \n",
       "\n",
       "  adcampaign  \n",
       "0     Online  \n",
       "1     Online  \n",
       "2     Online  \n",
       "3     Online  \n",
       "4         Tv  "
      ]
     },
     "execution_count": 26,
     "metadata": {},
     "output_type": "execute_result"
    }
   ],
   "source": [
    "df.head()"
   ]
  },
  {
   "cell_type": "code",
   "execution_count": 27,
   "id": "b2449c37",
   "metadata": {},
   "outputs": [],
   "source": [
    "df.rename(columns={'discount(percent)': 'discount_percent'}, inplace=True)\n"
   ]
  },
  {
   "cell_type": "code",
   "execution_count": 28,
   "id": "ba66ca31",
   "metadata": {},
   "outputs": [
    {
     "data": {
      "text/plain": [
       "np.int64(0)"
      ]
     },
     "execution_count": 28,
     "metadata": {},
     "output_type": "execute_result"
    }
   ],
   "source": [
    "(df['price'] < 0).sum()"
   ]
  },
  {
   "cell_type": "code",
   "execution_count": 29,
   "id": "d2e4740f",
   "metadata": {},
   "outputs": [
    {
     "data": {
      "text/plain": [
       "np.int64(0)"
      ]
     },
     "execution_count": 29,
     "metadata": {},
     "output_type": "execute_result"
    }
   ],
   "source": [
    "(df['discount_percent'] < 0).sum()"
   ]
  },
  {
   "cell_type": "code",
   "execution_count": 30,
   "id": "d2453ea7",
   "metadata": {},
   "outputs": [
    {
     "data": {
      "text/plain": [
       "np.int64(0)"
      ]
     },
     "execution_count": 30,
     "metadata": {},
     "output_type": "execute_result"
    }
   ],
   "source": [
    "(df['competitorprice'] < 0).sum()\n"
   ]
  },
  {
   "cell_type": "code",
   "execution_count": 31,
   "id": "ab43c55d",
   "metadata": {},
   "outputs": [
    {
     "data": {
      "text/html": [
       "<div>\n",
       "<style scoped>\n",
       "    .dataframe tbody tr th:only-of-type {\n",
       "        vertical-align: middle;\n",
       "    }\n",
       "\n",
       "    .dataframe tbody tr th {\n",
       "        vertical-align: top;\n",
       "    }\n",
       "\n",
       "    .dataframe thead th {\n",
       "        text-align: right;\n",
       "    }\n",
       "</style>\n",
       "<table border=\"1\" class=\"dataframe\">\n",
       "  <thead>\n",
       "    <tr style=\"text-align: right;\">\n",
       "      <th></th>\n",
       "      <th>productid</th>\n",
       "      <th>location</th>\n",
       "      <th>price</th>\n",
       "      <th>competitorprice</th>\n",
       "    </tr>\n",
       "  </thead>\n",
       "  <tbody>\n",
       "  </tbody>\n",
       "</table>\n",
       "</div>"
      ],
      "text/plain": [
       "Empty DataFrame\n",
       "Columns: [productid, location, price, competitorprice]\n",
       "Index: []"
      ]
     },
     "execution_count": 31,
     "metadata": {},
     "output_type": "execute_result"
    }
   ],
   "source": [
    "df[df['competitorprice'] < 0][['productid', 'location', 'price', 'competitorprice']]\n"
   ]
  },
  {
   "cell_type": "code",
   "execution_count": 32,
   "id": "b716dd91",
   "metadata": {},
   "outputs": [
    {
     "data": {
      "text/plain": [
       "count    500000.000000\n",
       "mean        314.974805\n",
       "std         124.494327\n",
       "min          90.240000\n",
       "25%         208.350000\n",
       "50%         312.810000\n",
       "75%         417.460000\n",
       "max         599.500000\n",
       "Name: competitorprice, dtype: float64"
      ]
     },
     "execution_count": 32,
     "metadata": {},
     "output_type": "execute_result"
    }
   ],
   "source": [
    "df['competitorprice'].describe()\n"
   ]
  },
  {
   "cell_type": "code",
   "execution_count": 33,
   "id": "3bac8897",
   "metadata": {},
   "outputs": [
    {
     "data": {
      "text/plain": [
       "array([555.19, 459.64, 456.95, ..., 586.73, 585.17, 583.06],\n",
       "      shape=(49336,))"
      ]
     },
     "execution_count": 33,
     "metadata": {},
     "output_type": "execute_result"
    }
   ],
   "source": [
    "df['competitorprice'].unique()\n"
   ]
  },
  {
   "cell_type": "code",
   "execution_count": 34,
   "id": "635107bb",
   "metadata": {},
   "outputs": [],
   "source": [
    "filtered_rows = df[(df['competitorprice'] < 20)]\n"
   ]
  },
  {
   "cell_type": "code",
   "execution_count": 35,
   "id": "3a092113",
   "metadata": {},
   "outputs": [
    {
     "data": {
      "text/html": [
       "<div>\n",
       "<style scoped>\n",
       "    .dataframe tbody tr th:only-of-type {\n",
       "        vertical-align: middle;\n",
       "    }\n",
       "\n",
       "    .dataframe tbody tr th {\n",
       "        vertical-align: top;\n",
       "    }\n",
       "\n",
       "    .dataframe thead th {\n",
       "        text-align: right;\n",
       "    }\n",
       "</style>\n",
       "<table border=\"1\" class=\"dataframe\">\n",
       "  <thead>\n",
       "    <tr style=\"text-align: right;\">\n",
       "      <th></th>\n",
       "      <th>productid</th>\n",
       "      <th>location</th>\n",
       "      <th>date</th>\n",
       "      <th>price</th>\n",
       "      <th>discount_percent</th>\n",
       "      <th>competitorprice</th>\n",
       "      <th>adcampaign</th>\n",
       "    </tr>\n",
       "  </thead>\n",
       "  <tbody>\n",
       "  </tbody>\n",
       "</table>\n",
       "</div>"
      ],
      "text/plain": [
       "Empty DataFrame\n",
       "Columns: [productid, location, date, price, discount_percent, competitorprice, adcampaign]\n",
       "Index: []"
      ]
     },
     "execution_count": 35,
     "metadata": {},
     "output_type": "execute_result"
    }
   ],
   "source": [
    "filtered_rows"
   ]
  },
  {
   "cell_type": "code",
   "execution_count": 36,
   "id": "2a7a1c99",
   "metadata": {},
   "outputs": [],
   "source": [
    "filtered_rows1 = df[(df['productid'] == 'P0253') & (df['location'] == 'L03')]\n",
    "\n"
   ]
  },
  {
   "cell_type": "code",
   "execution_count": 37,
   "id": "efb340d8",
   "metadata": {},
   "outputs": [
    {
     "data": {
      "text/html": [
       "<div>\n",
       "<style scoped>\n",
       "    .dataframe tbody tr th:only-of-type {\n",
       "        vertical-align: middle;\n",
       "    }\n",
       "\n",
       "    .dataframe tbody tr th {\n",
       "        vertical-align: top;\n",
       "    }\n",
       "\n",
       "    .dataframe thead th {\n",
       "        text-align: right;\n",
       "    }\n",
       "</style>\n",
       "<table border=\"1\" class=\"dataframe\">\n",
       "  <thead>\n",
       "    <tr style=\"text-align: right;\">\n",
       "      <th></th>\n",
       "      <th>productid</th>\n",
       "      <th>location</th>\n",
       "      <th>date</th>\n",
       "      <th>price</th>\n",
       "      <th>discount_percent</th>\n",
       "      <th>competitorprice</th>\n",
       "      <th>adcampaign</th>\n",
       "    </tr>\n",
       "  </thead>\n",
       "  <tbody>\n",
       "    <tr>\n",
       "      <th>14</th>\n",
       "      <td>P0253</td>\n",
       "      <td>L03</td>\n",
       "      <td>2024-01-14</td>\n",
       "      <td>126.47</td>\n",
       "      <td>0</td>\n",
       "      <td>145.01</td>\n",
       "      <td>Online</td>\n",
       "    </tr>\n",
       "    <tr>\n",
       "      <th>10056</th>\n",
       "      <td>P0253</td>\n",
       "      <td>L03</td>\n",
       "      <td>2024-12-28</td>\n",
       "      <td>301.15</td>\n",
       "      <td>10</td>\n",
       "      <td>333.49</td>\n",
       "      <td>Online</td>\n",
       "    </tr>\n",
       "    <tr>\n",
       "      <th>11529</th>\n",
       "      <td>P0253</td>\n",
       "      <td>L03</td>\n",
       "      <td>2024-09-07</td>\n",
       "      <td>116.01</td>\n",
       "      <td>5</td>\n",
       "      <td>130.91</td>\n",
       "      <td>Online</td>\n",
       "    </tr>\n",
       "    <tr>\n",
       "      <th>19389</th>\n",
       "      <td>P0253</td>\n",
       "      <td>L03</td>\n",
       "      <td>2024-01-16</td>\n",
       "      <td>289.57</td>\n",
       "      <td>5</td>\n",
       "      <td>332.60</td>\n",
       "      <td>Tv</td>\n",
       "    </tr>\n",
       "    <tr>\n",
       "      <th>23842</th>\n",
       "      <td>P0253</td>\n",
       "      <td>L03</td>\n",
       "      <td>2024-09-21</td>\n",
       "      <td>176.19</td>\n",
       "      <td>15</td>\n",
       "      <td>208.04</td>\n",
       "      <td>Online</td>\n",
       "    </tr>\n",
       "    <tr>\n",
       "      <th>...</th>\n",
       "      <td>...</td>\n",
       "      <td>...</td>\n",
       "      <td>...</td>\n",
       "      <td>...</td>\n",
       "      <td>...</td>\n",
       "      <td>...</td>\n",
       "      <td>...</td>\n",
       "    </tr>\n",
       "    <tr>\n",
       "      <th>462927</th>\n",
       "      <td>P0253</td>\n",
       "      <td>L03</td>\n",
       "      <td>2024-11-23</td>\n",
       "      <td>412.62</td>\n",
       "      <td>10</td>\n",
       "      <td>424.38</td>\n",
       "      <td>Online</td>\n",
       "    </tr>\n",
       "    <tr>\n",
       "      <th>462982</th>\n",
       "      <td>P0253</td>\n",
       "      <td>L03</td>\n",
       "      <td>2024-04-03</td>\n",
       "      <td>479.96</td>\n",
       "      <td>10</td>\n",
       "      <td>499.10</td>\n",
       "      <td>Online</td>\n",
       "    </tr>\n",
       "    <tr>\n",
       "      <th>486892</th>\n",
       "      <td>P0253</td>\n",
       "      <td>L03</td>\n",
       "      <td>2024-04-09</td>\n",
       "      <td>232.65</td>\n",
       "      <td>15</td>\n",
       "      <td>219.27</td>\n",
       "      <td>Online</td>\n",
       "    </tr>\n",
       "    <tr>\n",
       "      <th>489362</th>\n",
       "      <td>P0253</td>\n",
       "      <td>L03</td>\n",
       "      <td>2024-02-22</td>\n",
       "      <td>355.15</td>\n",
       "      <td>5</td>\n",
       "      <td>394.50</td>\n",
       "      <td>Tv</td>\n",
       "    </tr>\n",
       "    <tr>\n",
       "      <th>497978</th>\n",
       "      <td>P0253</td>\n",
       "      <td>L03</td>\n",
       "      <td>2024-05-23</td>\n",
       "      <td>240.02</td>\n",
       "      <td>10</td>\n",
       "      <td>283.61</td>\n",
       "      <td>Tv</td>\n",
       "    </tr>\n",
       "  </tbody>\n",
       "</table>\n",
       "<p>102 rows × 7 columns</p>\n",
       "</div>"
      ],
      "text/plain": [
       "       productid location       date   price  discount_percent  \\\n",
       "14         P0253      L03 2024-01-14  126.47                 0   \n",
       "10056      P0253      L03 2024-12-28  301.15                10   \n",
       "11529      P0253      L03 2024-09-07  116.01                 5   \n",
       "19389      P0253      L03 2024-01-16  289.57                 5   \n",
       "23842      P0253      L03 2024-09-21  176.19                15   \n",
       "...          ...      ...        ...     ...               ...   \n",
       "462927     P0253      L03 2024-11-23  412.62                10   \n",
       "462982     P0253      L03 2024-04-03  479.96                10   \n",
       "486892     P0253      L03 2024-04-09  232.65                15   \n",
       "489362     P0253      L03 2024-02-22  355.15                 5   \n",
       "497978     P0253      L03 2024-05-23  240.02                10   \n",
       "\n",
       "        competitorprice adcampaign  \n",
       "14               145.01     Online  \n",
       "10056            333.49     Online  \n",
       "11529            130.91     Online  \n",
       "19389            332.60         Tv  \n",
       "23842            208.04     Online  \n",
       "...                 ...        ...  \n",
       "462927           424.38     Online  \n",
       "462982           499.10     Online  \n",
       "486892           219.27     Online  \n",
       "489362           394.50         Tv  \n",
       "497978           283.61         Tv  \n",
       "\n",
       "[102 rows x 7 columns]"
      ]
     },
     "execution_count": 37,
     "metadata": {},
     "output_type": "execute_result"
    }
   ],
   "source": [
    "filtered_rows1"
   ]
  },
  {
   "cell_type": "markdown",
   "id": "0621d7ec",
   "metadata": {},
   "source": [
    "# filling values in CompetitorPrice which doesnt make any sense"
   ]
  },
  {
   "cell_type": "code",
   "execution_count": 38,
   "id": "ee07a219",
   "metadata": {},
   "outputs": [],
   "source": [
    "# Step 1: Filter those rows\n",
    "mask = (df['productid'] == 'P0253') & (df['location'] == 'L03')\n",
    "\n",
    "# Step 2: Calculate mean of CompetitorPrice for that group\n",
    "mean_value = df.loc[mask, 'competitorprice'].mean()\n",
    "\n",
    "# Step 3: Replace values less than 60 with mean\n",
    "df.loc[mask & (df['competitorprice'] < 60), 'competitorprice'] = mean_value\n"
   ]
  },
  {
   "cell_type": "code",
   "execution_count": 39,
   "id": "29326345",
   "metadata": {},
   "outputs": [],
   "source": [
    "filtered_rows3 = df[(df['productid'] == 'P0458') & (df['location'] == 'L06')]"
   ]
  },
  {
   "cell_type": "code",
   "execution_count": 40,
   "id": "ea9ddf4f",
   "metadata": {},
   "outputs": [
    {
     "data": {
      "text/plain": [
       "np.float64(316.8834782608696)"
      ]
     },
     "execution_count": 40,
     "metadata": {},
     "output_type": "execute_result"
    }
   ],
   "source": [
    "filtered_rows3['competitorprice'].mean()"
   ]
  },
  {
   "cell_type": "code",
   "execution_count": 41,
   "id": "8cc2a296",
   "metadata": {},
   "outputs": [
    {
     "data": {
      "text/html": [
       "<div>\n",
       "<style scoped>\n",
       "    .dataframe tbody tr th:only-of-type {\n",
       "        vertical-align: middle;\n",
       "    }\n",
       "\n",
       "    .dataframe tbody tr th {\n",
       "        vertical-align: top;\n",
       "    }\n",
       "\n",
       "    .dataframe thead th {\n",
       "        text-align: right;\n",
       "    }\n",
       "</style>\n",
       "<table border=\"1\" class=\"dataframe\">\n",
       "  <thead>\n",
       "    <tr style=\"text-align: right;\">\n",
       "      <th></th>\n",
       "      <th>productid</th>\n",
       "      <th>location</th>\n",
       "      <th>date</th>\n",
       "      <th>price</th>\n",
       "      <th>discount_percent</th>\n",
       "      <th>competitorprice</th>\n",
       "      <th>adcampaign</th>\n",
       "    </tr>\n",
       "  </thead>\n",
       "  <tbody>\n",
       "    <tr>\n",
       "      <th>24679</th>\n",
       "      <td>P0458</td>\n",
       "      <td>L06</td>\n",
       "      <td>2024-08-29</td>\n",
       "      <td>379.48</td>\n",
       "      <td>10</td>\n",
       "      <td>397.66</td>\n",
       "      <td>Online</td>\n",
       "    </tr>\n",
       "    <tr>\n",
       "      <th>26057</th>\n",
       "      <td>P0458</td>\n",
       "      <td>L06</td>\n",
       "      <td>2024-12-28</td>\n",
       "      <td>124.13</td>\n",
       "      <td>10</td>\n",
       "      <td>129.32</td>\n",
       "      <td>Tv</td>\n",
       "    </tr>\n",
       "    <tr>\n",
       "      <th>28615</th>\n",
       "      <td>P0458</td>\n",
       "      <td>L06</td>\n",
       "      <td>2024-12-28</td>\n",
       "      <td>357.22</td>\n",
       "      <td>0</td>\n",
       "      <td>324.80</td>\n",
       "      <td>Tv</td>\n",
       "    </tr>\n",
       "    <tr>\n",
       "      <th>40273</th>\n",
       "      <td>P0458</td>\n",
       "      <td>L06</td>\n",
       "      <td>2024-10-21</td>\n",
       "      <td>173.96</td>\n",
       "      <td>10</td>\n",
       "      <td>163.59</td>\n",
       "      <td>Tv</td>\n",
       "    </tr>\n",
       "    <tr>\n",
       "      <th>49123</th>\n",
       "      <td>P0458</td>\n",
       "      <td>L06</td>\n",
       "      <td>2024-02-07</td>\n",
       "      <td>244.50</td>\n",
       "      <td>20</td>\n",
       "      <td>241.18</td>\n",
       "      <td>Tv</td>\n",
       "    </tr>\n",
       "    <tr>\n",
       "      <th>...</th>\n",
       "      <td>...</td>\n",
       "      <td>...</td>\n",
       "      <td>...</td>\n",
       "      <td>...</td>\n",
       "      <td>...</td>\n",
       "      <td>...</td>\n",
       "      <td>...</td>\n",
       "    </tr>\n",
       "    <tr>\n",
       "      <th>476092</th>\n",
       "      <td>P0458</td>\n",
       "      <td>L06</td>\n",
       "      <td>2024-10-27</td>\n",
       "      <td>210.18</td>\n",
       "      <td>10</td>\n",
       "      <td>250.32</td>\n",
       "      <td>Online</td>\n",
       "    </tr>\n",
       "    <tr>\n",
       "      <th>480122</th>\n",
       "      <td>P0458</td>\n",
       "      <td>L06</td>\n",
       "      <td>2024-01-29</td>\n",
       "      <td>321.12</td>\n",
       "      <td>15</td>\n",
       "      <td>358.25</td>\n",
       "      <td>Online</td>\n",
       "    </tr>\n",
       "    <tr>\n",
       "      <th>482101</th>\n",
       "      <td>P0458</td>\n",
       "      <td>L06</td>\n",
       "      <td>2024-12-29</td>\n",
       "      <td>418.72</td>\n",
       "      <td>10</td>\n",
       "      <td>448.61</td>\n",
       "      <td>Tv</td>\n",
       "    </tr>\n",
       "    <tr>\n",
       "      <th>482244</th>\n",
       "      <td>P0458</td>\n",
       "      <td>L06</td>\n",
       "      <td>2024-07-22</td>\n",
       "      <td>286.42</td>\n",
       "      <td>20</td>\n",
       "      <td>297.68</td>\n",
       "      <td>Online</td>\n",
       "    </tr>\n",
       "    <tr>\n",
       "      <th>493152</th>\n",
       "      <td>P0458</td>\n",
       "      <td>L06</td>\n",
       "      <td>2024-03-17</td>\n",
       "      <td>176.05</td>\n",
       "      <td>10</td>\n",
       "      <td>180.29</td>\n",
       "      <td>Tv</td>\n",
       "    </tr>\n",
       "  </tbody>\n",
       "</table>\n",
       "<p>115 rows × 7 columns</p>\n",
       "</div>"
      ],
      "text/plain": [
       "       productid location       date   price  discount_percent  \\\n",
       "24679      P0458      L06 2024-08-29  379.48                10   \n",
       "26057      P0458      L06 2024-12-28  124.13                10   \n",
       "28615      P0458      L06 2024-12-28  357.22                 0   \n",
       "40273      P0458      L06 2024-10-21  173.96                10   \n",
       "49123      P0458      L06 2024-02-07  244.50                20   \n",
       "...          ...      ...        ...     ...               ...   \n",
       "476092     P0458      L06 2024-10-27  210.18                10   \n",
       "480122     P0458      L06 2024-01-29  321.12                15   \n",
       "482101     P0458      L06 2024-12-29  418.72                10   \n",
       "482244     P0458      L06 2024-07-22  286.42                20   \n",
       "493152     P0458      L06 2024-03-17  176.05                10   \n",
       "\n",
       "        competitorprice adcampaign  \n",
       "24679            397.66     Online  \n",
       "26057            129.32         Tv  \n",
       "28615            324.80         Tv  \n",
       "40273            163.59         Tv  \n",
       "49123            241.18         Tv  \n",
       "...                 ...        ...  \n",
       "476092           250.32     Online  \n",
       "480122           358.25     Online  \n",
       "482101           448.61         Tv  \n",
       "482244           297.68     Online  \n",
       "493152           180.29         Tv  \n",
       "\n",
       "[115 rows x 7 columns]"
      ]
     },
     "execution_count": 41,
     "metadata": {},
     "output_type": "execute_result"
    }
   ],
   "source": [
    "filtered_rows3"
   ]
  },
  {
   "cell_type": "code",
   "execution_count": 42,
   "id": "a1f5de7a",
   "metadata": {},
   "outputs": [],
   "source": [
    "# Step 1: Filter those rows\n",
    "mask = (df['productid'] == 'P0458') & (df['location'] == 'L06')\n",
    "\n",
    "# Step 2: Calculate mean of CompetitorPrice for that group\n",
    "mean_value = df.loc[mask, 'competitorprice'].mean()\n",
    "\n",
    "# Step 3: Replace values less than 60 with mean\n",
    "df.loc[mask & (df['competitorprice'] < 30), 'competitorprice'] = mean_value\n"
   ]
  },
  {
   "cell_type": "code",
   "execution_count": 43,
   "id": "15f409f6",
   "metadata": {},
   "outputs": [],
   "source": [
    "df['competitorprice'] = df['competitorprice'].apply(lambda x: round(x, 2) if pd.notnull(x) else x)\n"
   ]
  },
  {
   "cell_type": "code",
   "execution_count": 44,
   "id": "65a9e470",
   "metadata": {},
   "outputs": [
    {
     "data": {
      "text/html": [
       "<div>\n",
       "<style scoped>\n",
       "    .dataframe tbody tr th:only-of-type {\n",
       "        vertical-align: middle;\n",
       "    }\n",
       "\n",
       "    .dataframe tbody tr th {\n",
       "        vertical-align: top;\n",
       "    }\n",
       "\n",
       "    .dataframe thead th {\n",
       "        text-align: right;\n",
       "    }\n",
       "</style>\n",
       "<table border=\"1\" class=\"dataframe\">\n",
       "  <thead>\n",
       "    <tr style=\"text-align: right;\">\n",
       "      <th></th>\n",
       "      <th>productid</th>\n",
       "      <th>location</th>\n",
       "      <th>date</th>\n",
       "      <th>price</th>\n",
       "      <th>discount_percent</th>\n",
       "      <th>competitorprice</th>\n",
       "      <th>adcampaign</th>\n",
       "    </tr>\n",
       "  </thead>\n",
       "  <tbody>\n",
       "    <tr>\n",
       "      <th>94131</th>\n",
       "      <td>P0073</td>\n",
       "      <td>L03</td>\n",
       "      <td>2024-12-31</td>\n",
       "      <td>205.15</td>\n",
       "      <td>15</td>\n",
       "      <td>192.79</td>\n",
       "      <td>Tv</td>\n",
       "    </tr>\n",
       "    <tr>\n",
       "      <th>196007</th>\n",
       "      <td>P0285</td>\n",
       "      <td>L03</td>\n",
       "      <td>2024-07-01</td>\n",
       "      <td>168.96</td>\n",
       "      <td>20</td>\n",
       "      <td>192.43</td>\n",
       "      <td>Tv</td>\n",
       "    </tr>\n",
       "    <tr>\n",
       "      <th>120780</th>\n",
       "      <td>P0429</td>\n",
       "      <td>L04</td>\n",
       "      <td>2024-02-09</td>\n",
       "      <td>343.02</td>\n",
       "      <td>15</td>\n",
       "      <td>400.80</td>\n",
       "      <td>Tv</td>\n",
       "    </tr>\n",
       "    <tr>\n",
       "      <th>337502</th>\n",
       "      <td>P0399</td>\n",
       "      <td>L02</td>\n",
       "      <td>2024-02-01</td>\n",
       "      <td>407.59</td>\n",
       "      <td>15</td>\n",
       "      <td>423.74</td>\n",
       "      <td>Online</td>\n",
       "    </tr>\n",
       "    <tr>\n",
       "      <th>458461</th>\n",
       "      <td>P0157</td>\n",
       "      <td>L01</td>\n",
       "      <td>2024-01-04</td>\n",
       "      <td>176.84</td>\n",
       "      <td>20</td>\n",
       "      <td>175.44</td>\n",
       "      <td>Online</td>\n",
       "    </tr>\n",
       "    <tr>\n",
       "      <th>339133</th>\n",
       "      <td>P0291</td>\n",
       "      <td>L01</td>\n",
       "      <td>2024-06-16</td>\n",
       "      <td>369.41</td>\n",
       "      <td>10</td>\n",
       "      <td>414.03</td>\n",
       "      <td>Tv</td>\n",
       "    </tr>\n",
       "    <tr>\n",
       "      <th>31955</th>\n",
       "      <td>P0377</td>\n",
       "      <td>L09</td>\n",
       "      <td>2024-09-28</td>\n",
       "      <td>345.82</td>\n",
       "      <td>10</td>\n",
       "      <td>375.71</td>\n",
       "      <td>Tv</td>\n",
       "    </tr>\n",
       "    <tr>\n",
       "      <th>432321</th>\n",
       "      <td>P0380</td>\n",
       "      <td>L02</td>\n",
       "      <td>2024-05-19</td>\n",
       "      <td>114.97</td>\n",
       "      <td>20</td>\n",
       "      <td>135.12</td>\n",
       "      <td>Online</td>\n",
       "    </tr>\n",
       "    <tr>\n",
       "      <th>130277</th>\n",
       "      <td>P0415</td>\n",
       "      <td>L08</td>\n",
       "      <td>2024-04-07</td>\n",
       "      <td>286.80</td>\n",
       "      <td>0</td>\n",
       "      <td>344.09</td>\n",
       "      <td>Tv</td>\n",
       "    </tr>\n",
       "    <tr>\n",
       "      <th>43909</th>\n",
       "      <td>P0405</td>\n",
       "      <td>L08</td>\n",
       "      <td>2024-04-13</td>\n",
       "      <td>466.80</td>\n",
       "      <td>15</td>\n",
       "      <td>458.42</td>\n",
       "      <td>Tv</td>\n",
       "    </tr>\n",
       "  </tbody>\n",
       "</table>\n",
       "</div>"
      ],
      "text/plain": [
       "       productid location       date   price  discount_percent  \\\n",
       "94131      P0073      L03 2024-12-31  205.15                15   \n",
       "196007     P0285      L03 2024-07-01  168.96                20   \n",
       "120780     P0429      L04 2024-02-09  343.02                15   \n",
       "337502     P0399      L02 2024-02-01  407.59                15   \n",
       "458461     P0157      L01 2024-01-04  176.84                20   \n",
       "339133     P0291      L01 2024-06-16  369.41                10   \n",
       "31955      P0377      L09 2024-09-28  345.82                10   \n",
       "432321     P0380      L02 2024-05-19  114.97                20   \n",
       "130277     P0415      L08 2024-04-07  286.80                 0   \n",
       "43909      P0405      L08 2024-04-13  466.80                15   \n",
       "\n",
       "        competitorprice adcampaign  \n",
       "94131            192.79         Tv  \n",
       "196007           192.43         Tv  \n",
       "120780           400.80         Tv  \n",
       "337502           423.74     Online  \n",
       "458461           175.44     Online  \n",
       "339133           414.03         Tv  \n",
       "31955            375.71         Tv  \n",
       "432321           135.12     Online  \n",
       "130277           344.09         Tv  \n",
       "43909            458.42         Tv  "
      ]
     },
     "execution_count": 44,
     "metadata": {},
     "output_type": "execute_result"
    }
   ],
   "source": [
    "df.sample(10)"
   ]
  },
  {
   "cell_type": "code",
   "execution_count": 45,
   "id": "4fd33af7",
   "metadata": {},
   "outputs": [
    {
     "data": {
      "text/html": [
       "<div>\n",
       "<style scoped>\n",
       "    .dataframe tbody tr th:only-of-type {\n",
       "        vertical-align: middle;\n",
       "    }\n",
       "\n",
       "    .dataframe tbody tr th {\n",
       "        vertical-align: top;\n",
       "    }\n",
       "\n",
       "    .dataframe thead th {\n",
       "        text-align: right;\n",
       "    }\n",
       "</style>\n",
       "<table border=\"1\" class=\"dataframe\">\n",
       "  <thead>\n",
       "    <tr style=\"text-align: right;\">\n",
       "      <th></th>\n",
       "      <th>productid</th>\n",
       "      <th>location</th>\n",
       "      <th>date</th>\n",
       "      <th>price</th>\n",
       "      <th>discount_percent</th>\n",
       "      <th>competitorprice</th>\n",
       "      <th>adcampaign</th>\n",
       "    </tr>\n",
       "  </thead>\n",
       "  <tbody>\n",
       "    <tr>\n",
       "      <th>24679</th>\n",
       "      <td>P0458</td>\n",
       "      <td>L06</td>\n",
       "      <td>2024-08-29</td>\n",
       "      <td>379.48</td>\n",
       "      <td>10</td>\n",
       "      <td>397.66</td>\n",
       "      <td>Online</td>\n",
       "    </tr>\n",
       "    <tr>\n",
       "      <th>26057</th>\n",
       "      <td>P0458</td>\n",
       "      <td>L06</td>\n",
       "      <td>2024-12-28</td>\n",
       "      <td>124.13</td>\n",
       "      <td>10</td>\n",
       "      <td>129.32</td>\n",
       "      <td>Tv</td>\n",
       "    </tr>\n",
       "    <tr>\n",
       "      <th>28615</th>\n",
       "      <td>P0458</td>\n",
       "      <td>L06</td>\n",
       "      <td>2024-12-28</td>\n",
       "      <td>357.22</td>\n",
       "      <td>0</td>\n",
       "      <td>324.80</td>\n",
       "      <td>Tv</td>\n",
       "    </tr>\n",
       "    <tr>\n",
       "      <th>40273</th>\n",
       "      <td>P0458</td>\n",
       "      <td>L06</td>\n",
       "      <td>2024-10-21</td>\n",
       "      <td>173.96</td>\n",
       "      <td>10</td>\n",
       "      <td>163.59</td>\n",
       "      <td>Tv</td>\n",
       "    </tr>\n",
       "    <tr>\n",
       "      <th>49123</th>\n",
       "      <td>P0458</td>\n",
       "      <td>L06</td>\n",
       "      <td>2024-02-07</td>\n",
       "      <td>244.50</td>\n",
       "      <td>20</td>\n",
       "      <td>241.18</td>\n",
       "      <td>Tv</td>\n",
       "    </tr>\n",
       "    <tr>\n",
       "      <th>...</th>\n",
       "      <td>...</td>\n",
       "      <td>...</td>\n",
       "      <td>...</td>\n",
       "      <td>...</td>\n",
       "      <td>...</td>\n",
       "      <td>...</td>\n",
       "      <td>...</td>\n",
       "    </tr>\n",
       "    <tr>\n",
       "      <th>476092</th>\n",
       "      <td>P0458</td>\n",
       "      <td>L06</td>\n",
       "      <td>2024-10-27</td>\n",
       "      <td>210.18</td>\n",
       "      <td>10</td>\n",
       "      <td>250.32</td>\n",
       "      <td>Online</td>\n",
       "    </tr>\n",
       "    <tr>\n",
       "      <th>480122</th>\n",
       "      <td>P0458</td>\n",
       "      <td>L06</td>\n",
       "      <td>2024-01-29</td>\n",
       "      <td>321.12</td>\n",
       "      <td>15</td>\n",
       "      <td>358.25</td>\n",
       "      <td>Online</td>\n",
       "    </tr>\n",
       "    <tr>\n",
       "      <th>482101</th>\n",
       "      <td>P0458</td>\n",
       "      <td>L06</td>\n",
       "      <td>2024-12-29</td>\n",
       "      <td>418.72</td>\n",
       "      <td>10</td>\n",
       "      <td>448.61</td>\n",
       "      <td>Tv</td>\n",
       "    </tr>\n",
       "    <tr>\n",
       "      <th>482244</th>\n",
       "      <td>P0458</td>\n",
       "      <td>L06</td>\n",
       "      <td>2024-07-22</td>\n",
       "      <td>286.42</td>\n",
       "      <td>20</td>\n",
       "      <td>297.68</td>\n",
       "      <td>Online</td>\n",
       "    </tr>\n",
       "    <tr>\n",
       "      <th>493152</th>\n",
       "      <td>P0458</td>\n",
       "      <td>L06</td>\n",
       "      <td>2024-03-17</td>\n",
       "      <td>176.05</td>\n",
       "      <td>10</td>\n",
       "      <td>180.29</td>\n",
       "      <td>Tv</td>\n",
       "    </tr>\n",
       "  </tbody>\n",
       "</table>\n",
       "<p>115 rows × 7 columns</p>\n",
       "</div>"
      ],
      "text/plain": [
       "       productid location       date   price  discount_percent  \\\n",
       "24679      P0458      L06 2024-08-29  379.48                10   \n",
       "26057      P0458      L06 2024-12-28  124.13                10   \n",
       "28615      P0458      L06 2024-12-28  357.22                 0   \n",
       "40273      P0458      L06 2024-10-21  173.96                10   \n",
       "49123      P0458      L06 2024-02-07  244.50                20   \n",
       "...          ...      ...        ...     ...               ...   \n",
       "476092     P0458      L06 2024-10-27  210.18                10   \n",
       "480122     P0458      L06 2024-01-29  321.12                15   \n",
       "482101     P0458      L06 2024-12-29  418.72                10   \n",
       "482244     P0458      L06 2024-07-22  286.42                20   \n",
       "493152     P0458      L06 2024-03-17  176.05                10   \n",
       "\n",
       "        competitorprice adcampaign  \n",
       "24679            397.66     Online  \n",
       "26057            129.32         Tv  \n",
       "28615            324.80         Tv  \n",
       "40273            163.59         Tv  \n",
       "49123            241.18         Tv  \n",
       "...                 ...        ...  \n",
       "476092           250.32     Online  \n",
       "480122           358.25     Online  \n",
       "482101           448.61         Tv  \n",
       "482244           297.68     Online  \n",
       "493152           180.29         Tv  \n",
       "\n",
       "[115 rows x 7 columns]"
      ]
     },
     "execution_count": 45,
     "metadata": {},
     "output_type": "execute_result"
    }
   ],
   "source": [
    "df[(df['productid']=='P0458') & (df['location']==\"L06\")]"
   ]
  },
  {
   "cell_type": "code",
   "execution_count": 46,
   "id": "597103b8",
   "metadata": {},
   "outputs": [
    {
     "name": "stdout",
     "output_type": "stream",
     "text": [
      "Invalid Discount Rows: 0\n"
     ]
    }
   ],
   "source": [
    "# Find invalid discounts\n",
    "invalid_discounts = df[(df['discount_percent'] < 0) | (df['discount_percent'] > 100)]\n",
    "print(f\"Invalid Discount Rows: {len(invalid_discounts)}\")\n",
    "\n",
    "# Optional: View them\n",
    "# print(invalid_discounts)\n"
   ]
  },
  {
   "cell_type": "code",
   "execution_count": 47,
   "id": "aadc95b9",
   "metadata": {},
   "outputs": [],
   "source": [
    "df['finalprice'] = df['price'] * (1 - df['discount_percent'] / 100)\n",
    "df['finalprice'] = df['finalprice'].round(2)\n"
   ]
  },
  {
   "cell_type": "code",
   "execution_count": 48,
   "id": "2f1274bb",
   "metadata": {},
   "outputs": [
    {
     "data": {
      "text/html": [
       "<div>\n",
       "<style scoped>\n",
       "    .dataframe tbody tr th:only-of-type {\n",
       "        vertical-align: middle;\n",
       "    }\n",
       "\n",
       "    .dataframe tbody tr th {\n",
       "        vertical-align: top;\n",
       "    }\n",
       "\n",
       "    .dataframe thead th {\n",
       "        text-align: right;\n",
       "    }\n",
       "</style>\n",
       "<table border=\"1\" class=\"dataframe\">\n",
       "  <thead>\n",
       "    <tr style=\"text-align: right;\">\n",
       "      <th></th>\n",
       "      <th>productid</th>\n",
       "      <th>location</th>\n",
       "      <th>date</th>\n",
       "      <th>price</th>\n",
       "      <th>discount_percent</th>\n",
       "      <th>competitorprice</th>\n",
       "      <th>adcampaign</th>\n",
       "      <th>finalprice</th>\n",
       "    </tr>\n",
       "  </thead>\n",
       "  <tbody>\n",
       "    <tr>\n",
       "      <th>0</th>\n",
       "      <td>P0047</td>\n",
       "      <td>L06</td>\n",
       "      <td>2024-08-28</td>\n",
       "      <td>469.01</td>\n",
       "      <td>10</td>\n",
       "      <td>555.19</td>\n",
       "      <td>Online</td>\n",
       "      <td>422.11</td>\n",
       "    </tr>\n",
       "    <tr>\n",
       "      <th>1</th>\n",
       "      <td>P0225</td>\n",
       "      <td>L06</td>\n",
       "      <td>2024-06-07</td>\n",
       "      <td>438.49</td>\n",
       "      <td>15</td>\n",
       "      <td>459.64</td>\n",
       "      <td>Online</td>\n",
       "      <td>372.72</td>\n",
       "    </tr>\n",
       "    <tr>\n",
       "      <th>2</th>\n",
       "      <td>P0172</td>\n",
       "      <td>L10</td>\n",
       "      <td>2024-06-26</td>\n",
       "      <td>403.58</td>\n",
       "      <td>15</td>\n",
       "      <td>456.95</td>\n",
       "      <td>Online</td>\n",
       "      <td>343.04</td>\n",
       "    </tr>\n",
       "    <tr>\n",
       "      <th>3</th>\n",
       "      <td>P0238</td>\n",
       "      <td>L04</td>\n",
       "      <td>2024-04-30</td>\n",
       "      <td>156.80</td>\n",
       "      <td>10</td>\n",
       "      <td>170.50</td>\n",
       "      <td>Online</td>\n",
       "      <td>141.12</td>\n",
       "    </tr>\n",
       "    <tr>\n",
       "      <th>4</th>\n",
       "      <td>P0052</td>\n",
       "      <td>L04</td>\n",
       "      <td>2024-01-21</td>\n",
       "      <td>288.91</td>\n",
       "      <td>15</td>\n",
       "      <td>284.99</td>\n",
       "      <td>Tv</td>\n",
       "      <td>245.57</td>\n",
       "    </tr>\n",
       "  </tbody>\n",
       "</table>\n",
       "</div>"
      ],
      "text/plain": [
       "  productid location       date   price  discount_percent  competitorprice  \\\n",
       "0     P0047      L06 2024-08-28  469.01                10           555.19   \n",
       "1     P0225      L06 2024-06-07  438.49                15           459.64   \n",
       "2     P0172      L10 2024-06-26  403.58                15           456.95   \n",
       "3     P0238      L04 2024-04-30  156.80                10           170.50   \n",
       "4     P0052      L04 2024-01-21  288.91                15           284.99   \n",
       "\n",
       "  adcampaign  finalprice  \n",
       "0     Online      422.11  \n",
       "1     Online      372.72  \n",
       "2     Online      343.04  \n",
       "3     Online      141.12  \n",
       "4         Tv      245.57  "
      ]
     },
     "execution_count": 48,
     "metadata": {},
     "output_type": "execute_result"
    }
   ],
   "source": [
    "df.head()"
   ]
  },
  {
   "cell_type": "code",
   "execution_count": 49,
   "id": "85d854ed",
   "metadata": {},
   "outputs": [
    {
     "data": {
      "text/plain": [
       "productid                   object\n",
       "location                    object\n",
       "date                datetime64[ns]\n",
       "price                      float64\n",
       "discount_percent             int64\n",
       "competitorprice            float64\n",
       "adcampaign                  object\n",
       "finalprice                 float64\n",
       "dtype: object"
      ]
     },
     "execution_count": 49,
     "metadata": {},
     "output_type": "execute_result"
    }
   ],
   "source": [
    "df.dtypes"
   ]
  },
  {
   "cell_type": "code",
   "execution_count": 50,
   "id": "13808fb6",
   "metadata": {},
   "outputs": [
    {
     "name": "stdout",
     "output_type": "stream",
     "text": [
      "<class 'pandas.core.frame.DataFrame'>\n",
      "RangeIndex: 500000 entries, 0 to 499999\n",
      "Data columns (total 8 columns):\n",
      " #   Column            Non-Null Count   Dtype         \n",
      "---  ------            --------------   -----         \n",
      " 0   productid         500000 non-null  object        \n",
      " 1   location          500000 non-null  object        \n",
      " 2   date              500000 non-null  datetime64[ns]\n",
      " 3   price             500000 non-null  float64       \n",
      " 4   discount_percent  500000 non-null  int64         \n",
      " 5   competitorprice   500000 non-null  float64       \n",
      " 6   adcampaign        500000 non-null  object        \n",
      " 7   finalprice        500000 non-null  float64       \n",
      "dtypes: datetime64[ns](1), float64(3), int64(1), object(3)\n",
      "memory usage: 30.5+ MB\n"
     ]
    }
   ],
   "source": [
    "df.info()"
   ]
  },
  {
   "cell_type": "code",
   "execution_count": 51,
   "id": "dd923602",
   "metadata": {},
   "outputs": [],
   "source": [
    "df.to_csv(r\"C:\\Users\\sachi\\OneDrive\\Product Demand Forecasting\\CLEANED DATA\\pricing_data_Cleaned.csv.csv\",index=False)"
   ]
  }
 ],
 "metadata": {
  "kernelspec": {
   "display_name": "Python 3",
   "language": "python",
   "name": "python3"
  },
  "language_info": {
   "codemirror_mode": {
    "name": "ipython",
    "version": 3
   },
   "file_extension": ".py",
   "mimetype": "text/x-python",
   "name": "python",
   "nbconvert_exporter": "python",
   "pygments_lexer": "ipython3",
   "version": "3.13.5"
  }
 },
 "nbformat": 4,
 "nbformat_minor": 5
}
