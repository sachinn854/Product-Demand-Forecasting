{
 "cells": [
  {
   "cell_type": "code",
   "execution_count": 1,
   "id": "0e5b4fc3",
   "metadata": {},
   "outputs": [],
   "source": [
    "import pandas as pd\n"
   ]
  },
  {
   "cell_type": "code",
   "execution_count": 2,
   "id": "37968b38",
   "metadata": {},
   "outputs": [],
   "source": [
    "X_final=pd.read_csv(r\"C:\\Users\\sachi\\OneDrive\\Product Demand Forecasting\\8_Encoding\\Encoded_data_X.csv\")\n",
    "Y_final=pd.read_csv(r\"C:\\Users\\sachi\\OneDrive\\Product Demand Forecasting\\8_Encoding\\Encoded_data_Y.csv\")"
   ]
  },
  {
   "cell_type": "code",
   "execution_count": 3,
   "id": "c19b228d",
   "metadata": {},
   "outputs": [],
   "source": [
    "\n",
    "import numpy as np\n"
   ]
  },
  {
   "cell_type": "code",
   "execution_count": 12,
   "id": "7b152b9f",
   "metadata": {},
   "outputs": [
    {
     "data": {
      "text/html": [
       "<div>\n",
       "<style scoped>\n",
       "    .dataframe tbody tr th:only-of-type {\n",
       "        vertical-align: middle;\n",
       "    }\n",
       "\n",
       "    .dataframe tbody tr th {\n",
       "        vertical-align: top;\n",
       "    }\n",
       "\n",
       "    .dataframe thead th {\n",
       "        text-align: right;\n",
       "    }\n",
       "</style>\n",
       "<table border=\"1\" class=\"dataframe\">\n",
       "  <thead>\n",
       "    <tr style=\"text-align: right;\">\n",
       "      <th></th>\n",
       "      <th>price</th>\n",
       "      <th>discount_percent</th>\n",
       "      <th>temp(c)</th>\n",
       "      <th>rainfall(mm)</th>\n",
       "      <th>weight(kg)</th>\n",
       "      <th>warranty(years)</th>\n",
       "      <th>productrating</th>\n",
       "      <th>launchyear</th>\n",
       "      <th>stocklevel</th>\n",
       "      <th>supplierdelay(days)</th>\n",
       "      <th>...</th>\n",
       "      <th>inventorytype_Returned</th>\n",
       "      <th>season_spring</th>\n",
       "      <th>season_summer</th>\n",
       "      <th>season_winter</th>\n",
       "      <th>daytype_Weekday</th>\n",
       "      <th>daytype_Weekend</th>\n",
       "      <th>rating_category_low</th>\n",
       "      <th>rating_category_medium</th>\n",
       "      <th>isweekend</th>\n",
       "      <th>promocodeused</th>\n",
       "    </tr>\n",
       "  </thead>\n",
       "  <tbody>\n",
       "    <tr>\n",
       "      <th>0</th>\n",
       "      <td>0.162370</td>\n",
       "      <td>2.942124</td>\n",
       "      <td>-0.103262</td>\n",
       "      <td>-0.410981</td>\n",
       "      <td>1.341289</td>\n",
       "      <td>-0.419557</td>\n",
       "      <td>1.388913</td>\n",
       "      <td>-0.288686</td>\n",
       "      <td>-0.776885</td>\n",
       "      <td>-0.814236</td>\n",
       "      <td>...</td>\n",
       "      <td>0.0</td>\n",
       "      <td>1.0</td>\n",
       "      <td>0.0</td>\n",
       "      <td>0.0</td>\n",
       "      <td>1.0</td>\n",
       "      <td>0.0</td>\n",
       "      <td>0.0</td>\n",
       "      <td>0.0</td>\n",
       "      <td>0.0</td>\n",
       "      <td>0.0</td>\n",
       "    </tr>\n",
       "    <tr>\n",
       "      <th>1</th>\n",
       "      <td>0.002154</td>\n",
       "      <td>-0.498398</td>\n",
       "      <td>-0.091809</td>\n",
       "      <td>-0.625148</td>\n",
       "      <td>0.060577</td>\n",
       "      <td>1.327591</td>\n",
       "      <td>0.412855</td>\n",
       "      <td>-0.288686</td>\n",
       "      <td>-1.319685</td>\n",
       "      <td>-1.162852</td>\n",
       "      <td>...</td>\n",
       "      <td>1.0</td>\n",
       "      <td>0.0</td>\n",
       "      <td>0.0</td>\n",
       "      <td>1.0</td>\n",
       "      <td>0.0</td>\n",
       "      <td>1.0</td>\n",
       "      <td>0.0</td>\n",
       "      <td>0.0</td>\n",
       "      <td>1.0</td>\n",
       "      <td>1.0</td>\n",
       "    </tr>\n",
       "    <tr>\n",
       "      <th>2</th>\n",
       "      <td>0.002154</td>\n",
       "      <td>-0.498398</td>\n",
       "      <td>1.385551</td>\n",
       "      <td>-0.047545</td>\n",
       "      <td>-0.234418</td>\n",
       "      <td>1.327591</td>\n",
       "      <td>0.412855</td>\n",
       "      <td>0.858066</td>\n",
       "      <td>0.218248</td>\n",
       "      <td>-0.814236</td>\n",
       "      <td>...</td>\n",
       "      <td>1.0</td>\n",
       "      <td>0.0</td>\n",
       "      <td>0.0</td>\n",
       "      <td>0.0</td>\n",
       "      <td>1.0</td>\n",
       "      <td>0.0</td>\n",
       "      <td>0.0</td>\n",
       "      <td>0.0</td>\n",
       "      <td>0.0</td>\n",
       "      <td>0.0</td>\n",
       "    </tr>\n",
       "    <tr>\n",
       "      <th>3</th>\n",
       "      <td>0.002154</td>\n",
       "      <td>-0.498398</td>\n",
       "      <td>-0.847668</td>\n",
       "      <td>-0.631638</td>\n",
       "      <td>1.247754</td>\n",
       "      <td>1.327591</td>\n",
       "      <td>0.552292</td>\n",
       "      <td>0.858066</td>\n",
       "      <td>1.159101</td>\n",
       "      <td>-0.814236</td>\n",
       "      <td>...</td>\n",
       "      <td>0.0</td>\n",
       "      <td>1.0</td>\n",
       "      <td>0.0</td>\n",
       "      <td>0.0</td>\n",
       "      <td>1.0</td>\n",
       "      <td>0.0</td>\n",
       "      <td>0.0</td>\n",
       "      <td>0.0</td>\n",
       "      <td>0.0</td>\n",
       "      <td>0.0</td>\n",
       "    </tr>\n",
       "    <tr>\n",
       "      <th>4</th>\n",
       "      <td>0.002154</td>\n",
       "      <td>-0.498398</td>\n",
       "      <td>0.480811</td>\n",
       "      <td>-0.436940</td>\n",
       "      <td>1.089464</td>\n",
       "      <td>1.327591</td>\n",
       "      <td>-1.678697</td>\n",
       "      <td>-0.288686</td>\n",
       "      <td>-0.650232</td>\n",
       "      <td>0.580229</td>\n",
       "      <td>...</td>\n",
       "      <td>0.0</td>\n",
       "      <td>1.0</td>\n",
       "      <td>0.0</td>\n",
       "      <td>0.0</td>\n",
       "      <td>1.0</td>\n",
       "      <td>0.0</td>\n",
       "      <td>1.0</td>\n",
       "      <td>0.0</td>\n",
       "      <td>0.0</td>\n",
       "      <td>1.0</td>\n",
       "    </tr>\n",
       "  </tbody>\n",
       "</table>\n",
       "<p>5 rows × 52 columns</p>\n",
       "</div>"
      ],
      "text/plain": [
       "      price  discount_percent   temp(c)  rainfall(mm)  weight(kg)  \\\n",
       "0  0.162370          2.942124 -0.103262     -0.410981    1.341289   \n",
       "1  0.002154         -0.498398 -0.091809     -0.625148    0.060577   \n",
       "2  0.002154         -0.498398  1.385551     -0.047545   -0.234418   \n",
       "3  0.002154         -0.498398 -0.847668     -0.631638    1.247754   \n",
       "4  0.002154         -0.498398  0.480811     -0.436940    1.089464   \n",
       "\n",
       "   warranty(years)  productrating  launchyear  stocklevel  \\\n",
       "0        -0.419557       1.388913   -0.288686   -0.776885   \n",
       "1         1.327591       0.412855   -0.288686   -1.319685   \n",
       "2         1.327591       0.412855    0.858066    0.218248   \n",
       "3         1.327591       0.552292    0.858066    1.159101   \n",
       "4         1.327591      -1.678697   -0.288686   -0.650232   \n",
       "\n",
       "   supplierdelay(days)  ...  inventorytype_Returned  season_spring  \\\n",
       "0            -0.814236  ...                     0.0            1.0   \n",
       "1            -1.162852  ...                     1.0            0.0   \n",
       "2            -0.814236  ...                     1.0            0.0   \n",
       "3            -0.814236  ...                     0.0            1.0   \n",
       "4             0.580229  ...                     0.0            1.0   \n",
       "\n",
       "   season_summer  season_winter  daytype_Weekday  daytype_Weekend  \\\n",
       "0            0.0            0.0              1.0              0.0   \n",
       "1            0.0            1.0              0.0              1.0   \n",
       "2            0.0            0.0              1.0              0.0   \n",
       "3            0.0            0.0              1.0              0.0   \n",
       "4            0.0            0.0              1.0              0.0   \n",
       "\n",
       "   rating_category_low  rating_category_medium  isweekend  promocodeused  \n",
       "0                  0.0                     0.0        0.0            0.0  \n",
       "1                  0.0                     0.0        1.0            1.0  \n",
       "2                  0.0                     0.0        0.0            0.0  \n",
       "3                  0.0                     0.0        0.0            0.0  \n",
       "4                  1.0                     0.0        0.0            1.0  \n",
       "\n",
       "[5 rows x 52 columns]"
      ]
     },
     "execution_count": 12,
     "metadata": {},
     "output_type": "execute_result"
    }
   ],
   "source": [
    "X_final.head()"
   ]
  },
  {
   "cell_type": "code",
   "execution_count": 3,
   "id": "d09395c0",
   "metadata": {},
   "outputs": [
    {
     "data": {
      "text/plain": [
       "0    2\n",
       "1    2\n",
       "2    1\n",
       "3    1\n",
       "4    1\n",
       "Name: unit_bin, dtype: int64"
      ]
     },
     "execution_count": 3,
     "metadata": {},
     "output_type": "execute_result"
    }
   ],
   "source": [
    "Y_final['unit_bin'].head()"
   ]
  },
  {
   "cell_type": "code",
   "execution_count": 4,
   "id": "01c22659",
   "metadata": {},
   "outputs": [
    {
     "name": "stderr",
     "output_type": "stream",
     "text": [
      "C:\\Users\\sachi\\AppData\\Roaming\\Python\\Python313\\site-packages\\sklearn\\utils\\validation.py:1406: DataConversionWarning: A column-vector y was passed when a 1d array was expected. Please change the shape of y to (n_samples, ), for example using ravel().\n",
      "  y = column_or_1d(y, warn=True)\n"
     ]
    },
    {
     "name": "stdout",
     "output_type": "stream",
     "text": [
      "Accuracy: 0.7871475742951486\n",
      "Classification Report:\n",
      "               precision    recall  f1-score   support\n",
      "\n",
      "           0       0.81      0.63      0.71      5293\n",
      "           1       0.79      0.80      0.79     45366\n",
      "           2       0.79      0.79      0.79     51703\n",
      "\n",
      "    accuracy                           0.79    102362\n",
      "   macro avg       0.79      0.74      0.76    102362\n",
      "weighted avg       0.79      0.79      0.79    102362\n",
      "\n",
      "Confusion Matrix:\n",
      " [[ 3340     0  1953]\n",
      " [    0 36233  9133]\n",
      " [  808  9894 41001]]\n"
     ]
    }
   ],
   "source": [
    "# 📌 Logistic Regression Model\n",
    "\n",
    "from sklearn.linear_model import LogisticRegression\n",
    "from sklearn.model_selection import train_test_split\n",
    "from sklearn.metrics import accuracy_score, classification_report, confusion_matrix\n",
    "from sklearn.preprocessing import StandardScaler\n",
    "\n",
    "# If it's a regression task, you may need to binarize or categorize unitssold:\n",
    "# Example for binary classification (change as needed):\n",
    "# y = (df['unitssold'] > threshold_value).astype(int)\n",
    "\n",
    "# 💡 Convert categorical columns (if not already encoded)\n",
    "X=X_final\n",
    "y=Y_final\n",
    "\n",
    "# 🔄 Train-Test Split\n",
    "X_train, X_test, y_train, y_test = train_test_split(X, y, test_size=0.2, random_state=42)\n",
    "\n",
    "\n",
    "\n",
    "# 🚀 Train Logistic Regression\n",
    "logreg = LogisticRegression(max_iter=1000)\n",
    "logreg.fit(X_train, y_train)\n",
    "\n",
    "# 📊 Predictions\n",
    "y_pred = logreg.predict(X_test)\n",
    "\n",
    "# 📈 Evaluation\n",
    "print(\"Accuracy:\", accuracy_score(y_test, y_pred))\n",
    "print(\"Classification Report:\\n\", classification_report(y_test, y_pred))\n",
    "print(\"Confusion Matrix:\\n\", confusion_matrix(y_test, y_pred))\n"
   ]
  },
  {
   "cell_type": "code",
   "execution_count": 13,
   "id": "9eeddf36",
   "metadata": {},
   "outputs": [
    {
     "name": "stderr",
     "output_type": "stream",
     "text": [
      "C:\\Users\\sachi\\AppData\\Roaming\\Python\\Python313\\site-packages\\sklearn\\base.py:1363: DataConversionWarning: A column-vector y was passed when a 1d array was expected. Please change the shape of y to (n_samples,), for example using ravel().\n",
      "  return fit_method(estimator, *args, **kwargs)\n"
     ]
    },
    {
     "name": "stdout",
     "output_type": "stream",
     "text": [
      "Accuracy: 0.7903909653973155\n",
      "Accuracy: 0.8157324006955706\n",
      "\n",
      "Classification Report:\n",
      "               precision    recall  f1-score   support\n",
      "\n",
      "           0       0.79      0.62      0.69      5293\n",
      "           1       0.79      0.80      0.80     45366\n",
      "           2       0.79      0.80      0.79     51703\n",
      "\n",
      "    accuracy                           0.79    102362\n",
      "   macro avg       0.79      0.74      0.76    102362\n",
      "weighted avg       0.79      0.79      0.79    102362\n",
      "\n"
     ]
    }
   ],
   "source": [
    "from sklearn.model_selection import train_test_split\n",
    "from sklearn.ensemble import RandomForestClassifier\n",
    "from sklearn.metrics import accuracy_score, classification_report\n",
    "from xgboost import XGBClassifier\n",
    "\n",
    "x=X_final.drop(columns=['year'])\n",
    "y=Y_final\n",
    "# Step 0: Split the data\n",
    "X_train, X_test, y_train, y_test = train_test_split(\n",
    "    x, y, test_size=0.2, random_state=42\n",
    ")\n",
    "\n",
    "# Step 1: Initialize the model\n",
    "\n",
    "model_new = XGBClassifier()\n",
    "model = RandomForestClassifier(random_state=42)\n",
    "\n",
    "# Step 2: Train the model\n",
    "model.fit(X_train, y_train)\n",
    "model_new.fit(X_train,y_train)\n",
    "\n",
    "# Step 3: Predict\n",
    "y_pred = model.predict(X_test)\n",
    "y_new_pred=model_new.predict(X_test)\n",
    "\n",
    "# Step 4: Evaluation\n",
    "print(\"Accuracy:\", accuracy_score(y_test, y_pred))\n",
    "print(\"Accuracy:\", accuracy_score(y_test, y_new_pred))\n",
    "print(\"\\nClassification Report:\\n\", classification_report(y_test, y_pred))\n"
   ]
  },
  {
   "cell_type": "code",
   "execution_count": 19,
   "id": "0e41224f",
   "metadata": {},
   "outputs": [
    {
     "name": "stdout",
     "output_type": "stream",
     "text": [
      "Sorted Features (Least Important First):\n",
      "['daytype_Weekend', 'isweekend', 'rating_category_low', 'promocodeused', 'location_L08', 'location_L06', 'rating_category_medium', 'inventorytype_Returned', 'material_Glass', 'brand_BrandC', 'material_Wood', 'location_L04', 'warehouse_W2', 'category_Home', 'location_L03', 'launchyear', 'category_Electronics', 'location_L05', 'warranty(years)', 'warehouse_W3', 'supplierdelay(days)', 'rainfall(mm)', 'inventorytype_Repaired', 'location_L02', 'brand_BrandB', 'category_Toys', 'inventorytype_Fresh', 'brand_BrandD', 'material_Plastic', 'location_L07', 'location_L10', 'material_Metal', 'weight(kg)', 'location_L09', 'category_Clothing', 'stock_supplier_interaction', 'temp(c)', 'week', 'price', 'daytype_Weekday', 'price_discount_interaction', 'month', 'season_winter', 'productrating', 'adcampaign_tv', 'stocklevel', 'season_spring', 'dayofweek', 'price_diff', 'discount_percent', 'season_summer']\n"
     ]
    }
   ],
   "source": [
    "\n",
    "\n",
    "# Assuming model is already trained and called 'model'\n",
    "feature_importance = model_new.feature_importances_\n",
    "\n",
    "# Step 2: Create DataFrame with features and their importance\n",
    "importance_df = pd.DataFrame({\n",
    "    'feature': x.columns,\n",
    "    'importance': feature_importance\n",
    "})\n",
    "\n",
    "# Step 3: Sort by importance (ascending)\n",
    "importance_df_sorted = importance_df.sort_values(by='importance', ascending=True).reset_index(drop=True)\n",
    "\n",
    "# Step 4: Store all features in a list (already sorted by importance)\n",
    "sorted_features = importance_df_sorted['feature'].tolist()\n",
    "\n",
    "# Let's display the features with lowest importance\n",
    "print(\"Sorted Features (Least Important First):\")\n",
    "print(sorted_features)\n"
   ]
  },
  {
   "cell_type": "code",
   "execution_count": 21,
   "id": "90b81980",
   "metadata": {},
   "outputs": [
    {
     "name": "stdout",
     "output_type": "stream",
     "text": [
      "Accuracy after dropping 'daytype_Weekend': 0.8152927844317227\n"
     ]
    }
   ],
   "source": [
    "# Drop the least important feature\n",
    "X_reduced = x.drop(columns=['daytype_Weekend','isweekend','rating_category_low','promocodeused'])\n",
    "\n",
    "# Train-Test Split\n",
    "from sklearn.model_selection import train_test_split\n",
    "\n",
    "X_train, X_test, y_train, y_test = train_test_split(X_reduced, y, test_size=0.2, random_state=42)\n",
    "\n",
    "# Train again (example with XGBoost)\n",
    "from xgboost import XGBClassifier\n",
    "model_new = XGBClassifier()\n",
    "model_new.fit(X_train, y_train)\n",
    "\n",
    "# Predict and Evaluate\n",
    "from sklearn.metrics import accuracy_score\n",
    "\n",
    "y_pred = model_new.predict(X_test)\n",
    "accuracy = accuracy_score(y_test, y_pred)\n",
    "print(f\"Accuracy after dropping '{sorted_features[0]}':\", accuracy)\n"
   ]
  },
  {
   "cell_type": "code",
   "execution_count": null,
   "id": "2faf156f",
   "metadata": {},
   "outputs": [
    {
     "name": "stderr",
     "output_type": "stream",
     "text": [
      "c:\\Users\\sachi\\AppData\\Local\\Programs\\Python\\Python313\\Lib\\site-packages\\xgboost\\training.py:183: UserWarning: [14:02:04] WARNING: C:\\actions-runner\\_work\\xgboost\\xgboost\\src\\learner.cc:738: \n",
      "Parameters: { \"use_label_encoder\" } are not used.\n",
      "\n",
      "  bst.update(dtrain, iteration=i, fobj=obj)\n"
     ]
    },
    {
     "name": "stdout",
     "output_type": "stream",
     "text": [
      "🎯 Accuracy: 81.49 %\n",
      "\n",
      "📋 Classification Report:\n",
      "              precision    recall  f1-score   support\n",
      "\n",
      "           0       0.80      0.69      0.74      7675\n",
      "           1       0.81      0.82      0.82     68072\n",
      "           2       0.82      0.82      0.82     77796\n",
      "\n",
      "    accuracy                           0.81    153543\n",
      "   macro avg       0.81      0.78      0.79    153543\n",
      "weighted avg       0.81      0.81      0.81    153543\n",
      "\n"
     ]
    },
    {
     "name": "stderr",
     "output_type": "stream",
     "text": [
      "C:\\Users\\sachi\\AppData\\Roaming\\Python\\Python313\\site-packages\\IPython\\core\\pylabtools.py:170: UserWarning: Glyph 128202 (\\N{BAR CHART}) missing from font(s) DejaVu Sans.\n",
      "  fig.canvas.print_figure(bytes_io, **kw)\n"
     ]
    },
    {
     "data": {
      "image/png": "[encoded data removed]",
      "text/plain": [
       "<Figure size 640x480 with 2 Axes>"
      ]
     },
     "metadata": {},
     "output_type": "display_data"
    }
   ],
   "source": [
    "import pandas as pd\n",
    "from xgboost import XGBClassifier\n",
    "from sklearn.model_selection import train_test_split\n",
    "from sklearn.metrics import accuracy_score, classification_report, confusion_matrix\n",
    "\n",
    "\n",
    "x=X_final\n",
    "y=Y_final\n",
    "\n",
    "\n",
    "# 📦 Train-Test Split\n",
    "X_train, X_test, y_train, y_test = train_test_split(x, y, test_size=0.3, random_state=42)\n",
    "\n",
    "# 🚀 Train XGBoost Classifier\n",
    "clf = XGBClassifier(\n",
    "    n_estimators=100,\n",
    "    max_depth=10,\n",
    "    learning_rate=0.1,\n",
    "    subsample=0.8,\n",
    "    colsample_bytree=0.8,\n",
    "    use_label_encoder=False,\n",
    "    eval_metric='mlogloss',\n",
    "    random_state=42\n",
    ")\n",
    "clf.fit(X_train, y_train)\n",
    "\n",
    "# # 🔮 Predict\n",
    "# y_pred = clf.predict(X_test)\n",
    "\n",
    "# # 📈 Evaluate\n",
    "# acc = accuracy_score(y_test, y_pred)\n",
    "# print(\"🎯 Accuracy:\", round(acc * 100, 2), \"%\")\n",
    "\n",
    "# print(\"\\n📋 Classification Report:\")\n",
    "# print(classification_report(y_test, y_pred))\n",
    "\n",
    "# # 📊 Optional: Confusion Matrix\n",
    "# import seaborn as sns\n",
    "# import matplotlib.pyplot as plt\n",
    "\n",
    "# sns.heatmap(confusion_matrix(y_test, y_pred), annot=True, fmt='d', cmap='Blues')\n",
    "# plt.xlabel(\"Predicted\")\n",
    "# plt.ylabel(\"Actual\")\n",
    "# plt.title(\"📊 Confusion Matrix - XGBoost\")\n",
    "# plt.show()\n"
   ]
  },
  {
   "cell_type": "code",
   "execution_count": 9,
   "id": "11127dd1",
   "metadata": {},
   "outputs": [
    {
     "data": {
      "text/plain": [
       "unit_bin\n",
       "2           0.508283\n",
       "1           0.442315\n",
       "0           0.049401\n",
       "Name: proportion, dtype: float64"
      ]
     },
     "execution_count": 9,
     "metadata": {},
     "output_type": "execute_result"
    }
   ],
   "source": [
    "y.value_counts(normalize=True)\n"
   ]
  },
  {
   "cell_type": "code",
   "execution_count": 10,
   "id": "4c70eb3d",
   "metadata": {},
   "outputs": [
    {
     "data": {
      "image/png": "[encoded data removed]",
      "text/plain": [
       "<Figure size 640x480 with 1 Axes>"
      ]
     },
     "metadata": {},
     "output_type": "display_data"
    }
   ],
   "source": [
    "import matplotlib.pyplot as plt\n",
    "import xgboost as xgb\n",
    "\n",
    "xgb.plot_importance(clf, max_num_features=15, height=0.5)\n",
    "plt.show()\n"
   ]
  }
 ],
 "metadata": {
  "kernelspec": {
   "display_name": "Python 3",
   "language": "python",
   "name": "python3"
  },
  "language_info": {
   "codemirror_mode": {
    "name": "ipython",
    "version": 3
   },
   "file_extension": ".py",
   "mimetype": "text/x-python",
   "name": "python",
   "nbconvert_exporter": "python",
   "pygments_lexer": "ipython3",
   "version": "3.13.5"
  }
 },
 "nbformat": 4,
 "nbformat_minor": 5
}
