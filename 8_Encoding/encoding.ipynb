{
 "cells": [
  {
   "cell_type": "code",
   "execution_count": 1,
   "id": "06514a9d",
   "metadata": {},
   "outputs": [],
   "source": [
    "import pandas as pd"
   ]
  },
  {
   "cell_type": "code",
   "execution_count": 57,
   "id": "eb3def04",
   "metadata": {},
   "outputs": [],
   "source": [
    "df=pd.read_csv(r\"C:\\Users\\sachi\\OneDrive\\Product Demand Forecasting\\7_Feature Selection\\Featured_data.csv\")"
   ]
  },
  {
   "cell_type": "code",
   "execution_count": 3,
   "id": "61567b14",
   "metadata": {},
   "outputs": [],
   "source": [
    "# product_ids = df['productid']"
   ]
  },
  {
   "cell_type": "code",
   "execution_count": 4,
   "id": "8abf82ff",
   "metadata": {},
   "outputs": [],
   "source": [
    "# X = df.drop('productid', axis=1,inplace=True)"
   ]
  },
  {
   "cell_type": "code",
   "execution_count": 5,
   "id": "c0692bd4",
   "metadata": {},
   "outputs": [],
   "source": [
    "# df.sample(5)"
   ]
  },
  {
   "cell_type": "code",
   "execution_count": 6,
   "id": "1fc79996",
   "metadata": {},
   "outputs": [],
   "source": [
    "# from sklearn.preprocessing import OneHotEncoder"
   ]
  },
  {
   "cell_type": "code",
   "execution_count": 7,
   "id": "df971c7b",
   "metadata": {},
   "outputs": [],
   "source": [
    "# # Step 1: Select the location column\n",
    "# location_col = df[['location']]  # Important: Use double brackets to keep it as DataFrame\n"
   ]
  },
  {
   "cell_type": "code",
   "execution_count": 8,
   "id": "965ffae0",
   "metadata": {},
   "outputs": [],
   "source": [
    "# encoder=OneHotEncoder(drop='first',sparse_output=False)"
   ]
  },
  {
   "cell_type": "code",
   "execution_count": 9,
   "id": "4f0b0fcc",
   "metadata": {},
   "outputs": [],
   "source": [
    "# location_encoded=encoder.fit_transform(location_col)"
   ]
  },
  {
   "cell_type": "code",
   "execution_count": 10,
   "id": "3243960d",
   "metadata": {},
   "outputs": [],
   "source": [
    "# location_encoded_df = pd.DataFrame(\n",
    "#     location_encoded,\n",
    "#     columns=encoder.get_feature_names_out(['location']),\n",
    "#     index=df.index  # keep same index for merging\n",
    "# )"
   ]
  },
  {
   "cell_type": "code",
   "execution_count": 11,
   "id": "09d4de49",
   "metadata": {},
   "outputs": [],
   "source": [
    "# # Step 5: Concatenate with original dataframe\n",
    "# df = pd.concat([df.drop('location', axis=1), location_encoded_df], axis=1)"
   ]
  },
  {
   "cell_type": "code",
   "execution_count": 12,
   "id": "d1077e2d",
   "metadata": {},
   "outputs": [],
   "source": [
    "# df.sample(5)"
   ]
  },
  {
   "cell_type": "code",
   "execution_count": 13,
   "id": "0ebeddd0",
   "metadata": {},
   "outputs": [],
   "source": [
    "# # Step 4: Get encoded column names\n",
    "# location_columns = location_encoded_df.columns.tolist()\n",
    "\n",
    "# # Step 5: Reorder columns — location columns first\n",
    "# df = df[location_columns + [col for col in df.columns if col not in location_columns]]\n"
   ]
  },
  {
   "cell_type": "code",
   "execution_count": 58,
   "id": "aa585d20",
   "metadata": {},
   "outputs": [
    {
     "data": {
      "text/html": [
       "<div>\n",
       "<style scoped>\n",
       "    .dataframe tbody tr th:only-of-type {\n",
       "        vertical-align: middle;\n",
       "    }\n",
       "\n",
       "    .dataframe tbody tr th {\n",
       "        vertical-align: top;\n",
       "    }\n",
       "\n",
       "    .dataframe thead th {\n",
       "        text-align: right;\n",
       "    }\n",
       "</style>\n",
       "<table border=\"1\" class=\"dataframe\">\n",
       "  <thead>\n",
       "    <tr style=\"text-align: right;\">\n",
       "      <th></th>\n",
       "      <th>productid</th>\n",
       "      <th>location</th>\n",
       "      <th>unitssold</th>\n",
       "      <th>promocodeused</th>\n",
       "      <th>price</th>\n",
       "      <th>discount_percent</th>\n",
       "      <th>adcampaign</th>\n",
       "      <th>isweekend</th>\n",
       "      <th>season</th>\n",
       "      <th>daytype</th>\n",
       "      <th>...</th>\n",
       "      <th>inventorytype</th>\n",
       "      <th>price_diff</th>\n",
       "      <th>month</th>\n",
       "      <th>dayofweek</th>\n",
       "      <th>week</th>\n",
       "      <th>year</th>\n",
       "      <th>unit_bin</th>\n",
       "      <th>price_discount_interaction</th>\n",
       "      <th>stock_supplier_interaction</th>\n",
       "      <th>rating_category</th>\n",
       "    </tr>\n",
       "  </thead>\n",
       "  <tbody>\n",
       "    <tr>\n",
       "      <th>0</th>\n",
       "      <td>P0080</td>\n",
       "      <td>L04</td>\n",
       "      <td>6</td>\n",
       "      <td>No</td>\n",
       "      <td>309.98</td>\n",
       "      <td>20.0</td>\n",
       "      <td>tv</td>\n",
       "      <td>no</td>\n",
       "      <td>spring</td>\n",
       "      <td>Weekday</td>\n",
       "      <td>...</td>\n",
       "      <td>Fresh</td>\n",
       "      <td>-37.780</td>\n",
       "      <td>4</td>\n",
       "      <td>4</td>\n",
       "      <td>15</td>\n",
       "      <td>2024</td>\n",
       "      <td>Medium</td>\n",
       "      <td>6199.6</td>\n",
       "      <td>183</td>\n",
       "      <td>high</td>\n",
       "    </tr>\n",
       "    <tr>\n",
       "      <th>1</th>\n",
       "      <td>P0010</td>\n",
       "      <td>L01</td>\n",
       "      <td>4</td>\n",
       "      <td>Yes</td>\n",
       "      <td>300.50</td>\n",
       "      <td>0.0</td>\n",
       "      <td>unknown</td>\n",
       "      <td>yes</td>\n",
       "      <td>winter</td>\n",
       "      <td>Weekend</td>\n",
       "      <td>...</td>\n",
       "      <td>Returned</td>\n",
       "      <td>-15.025</td>\n",
       "      <td>12</td>\n",
       "      <td>5</td>\n",
       "      <td>50</td>\n",
       "      <td>2024</td>\n",
       "      <td>Medium</td>\n",
       "      <td>0.0</td>\n",
       "      <td>62</td>\n",
       "      <td>high</td>\n",
       "    </tr>\n",
       "    <tr>\n",
       "      <th>2</th>\n",
       "      <td>P0421</td>\n",
       "      <td>L07</td>\n",
       "      <td>3</td>\n",
       "      <td>No</td>\n",
       "      <td>300.50</td>\n",
       "      <td>0.0</td>\n",
       "      <td>unknown</td>\n",
       "      <td>no</td>\n",
       "      <td>autumn</td>\n",
       "      <td>Weekday</td>\n",
       "      <td>...</td>\n",
       "      <td>Returned</td>\n",
       "      <td>-15.025</td>\n",
       "      <td>9</td>\n",
       "      <td>4</td>\n",
       "      <td>39</td>\n",
       "      <td>2024</td>\n",
       "      <td>Low</td>\n",
       "      <td>0.0</td>\n",
       "      <td>348</td>\n",
       "      <td>high</td>\n",
       "    </tr>\n",
       "    <tr>\n",
       "      <th>3</th>\n",
       "      <td>P0412</td>\n",
       "      <td>L01</td>\n",
       "      <td>3</td>\n",
       "      <td>No</td>\n",
       "      <td>300.50</td>\n",
       "      <td>0.0</td>\n",
       "      <td>unknown</td>\n",
       "      <td>no</td>\n",
       "      <td>spring</td>\n",
       "      <td>Weekday</td>\n",
       "      <td>...</td>\n",
       "      <td>Repaired</td>\n",
       "      <td>-15.025</td>\n",
       "      <td>4</td>\n",
       "      <td>1</td>\n",
       "      <td>16</td>\n",
       "      <td>2024</td>\n",
       "      <td>Low</td>\n",
       "      <td>0.0</td>\n",
       "      <td>504</td>\n",
       "      <td>high</td>\n",
       "    </tr>\n",
       "    <tr>\n",
       "      <th>4</th>\n",
       "      <td>P0240</td>\n",
       "      <td>L07</td>\n",
       "      <td>4</td>\n",
       "      <td>Yes</td>\n",
       "      <td>300.50</td>\n",
       "      <td>0.0</td>\n",
       "      <td>unknown</td>\n",
       "      <td>no</td>\n",
       "      <td>spring</td>\n",
       "      <td>Weekday</td>\n",
       "      <td>...</td>\n",
       "      <td>Repaired</td>\n",
       "      <td>-15.025</td>\n",
       "      <td>3</td>\n",
       "      <td>1</td>\n",
       "      <td>11</td>\n",
       "      <td>2024</td>\n",
       "      <td>Medium</td>\n",
       "      <td>0.0</td>\n",
       "      <td>476</td>\n",
       "      <td>low</td>\n",
       "    </tr>\n",
       "  </tbody>\n",
       "</table>\n",
       "<p>5 rows × 32 columns</p>\n",
       "</div>"
      ],
      "text/plain": [
       "  productid location  unitssold promocodeused   price  discount_percent  \\\n",
       "0     P0080      L04          6            No  309.98              20.0   \n",
       "1     P0010      L01          4           Yes  300.50               0.0   \n",
       "2     P0421      L07          3            No  300.50               0.0   \n",
       "3     P0412      L01          3            No  300.50               0.0   \n",
       "4     P0240      L07          4           Yes  300.50               0.0   \n",
       "\n",
       "  adcampaign isweekend  season  daytype  ...  inventorytype  price_diff month  \\\n",
       "0         tv        no  spring  Weekday  ...          Fresh     -37.780     4   \n",
       "1    unknown       yes  winter  Weekend  ...       Returned     -15.025    12   \n",
       "2    unknown        no  autumn  Weekday  ...       Returned     -15.025     9   \n",
       "3    unknown        no  spring  Weekday  ...       Repaired     -15.025     4   \n",
       "4    unknown        no  spring  Weekday  ...       Repaired     -15.025     3   \n",
       "\n",
       "  dayofweek week  year  unit_bin  price_discount_interaction  \\\n",
       "0         4   15  2024    Medium                      6199.6   \n",
       "1         5   50  2024    Medium                         0.0   \n",
       "2         4   39  2024       Low                         0.0   \n",
       "3         1   16  2024       Low                         0.0   \n",
       "4         1   11  2024    Medium                         0.0   \n",
       "\n",
       "   stock_supplier_interaction  rating_category  \n",
       "0                         183             high  \n",
       "1                          62             high  \n",
       "2                         348             high  \n",
       "3                         504             high  \n",
       "4                         476              low  \n",
       "\n",
       "[5 rows x 32 columns]"
      ]
     },
     "execution_count": 58,
     "metadata": {},
     "output_type": "execute_result"
    }
   ],
   "source": [
    "df.head()"
   ]
  },
  {
   "cell_type": "code",
   "execution_count": 15,
   "id": "1d4e4d82",
   "metadata": {},
   "outputs": [],
   "source": [
    "# df.isnull().sum()"
   ]
  },
  {
   "cell_type": "code",
   "execution_count": 16,
   "id": "398e0b66",
   "metadata": {},
   "outputs": [],
   "source": [
    "# df[['promocodeused','isweekend']].sample(5)"
   ]
  },
  {
   "cell_type": "code",
   "execution_count": 17,
   "id": "8601f5fb",
   "metadata": {},
   "outputs": [],
   "source": [
    "# Normalize string values first\n",
    "# df['isweekend'] = df['isweekend'].astype(str).str.lower().str.strip()\n"
   ]
  },
  {
   "cell_type": "code",
   "execution_count": 18,
   "id": "b12fd389",
   "metadata": {},
   "outputs": [],
   "source": [
    "# df['isweekend'] = df['isweekend'].map({'yes': 1, 'no': 0})"
   ]
  },
  {
   "cell_type": "code",
   "execution_count": 19,
   "id": "4ca5049d",
   "metadata": {},
   "outputs": [],
   "source": [
    "# print(df['isweekend'].isnull().sum())\n"
   ]
  },
  {
   "cell_type": "code",
   "execution_count": 20,
   "id": "96394eeb",
   "metadata": {},
   "outputs": [],
   "source": [
    "# df[['promocodeused']].sample(10)"
   ]
  },
  {
   "cell_type": "code",
   "execution_count": 21,
   "id": "f40da2dc",
   "metadata": {},
   "outputs": [],
   "source": [
    "# df['promocodeused'] = df['promocodeused'].astype(str).str.lower().str.strip()"
   ]
  },
  {
   "cell_type": "code",
   "execution_count": 22,
   "id": "abd4136e",
   "metadata": {},
   "outputs": [],
   "source": [
    "# df['promocodeused'] = df['promocodeused'].map({'yes': 1, 'no': 0})"
   ]
  },
  {
   "cell_type": "code",
   "execution_count": 23,
   "id": "d806919e",
   "metadata": {},
   "outputs": [],
   "source": [
    "# print(\"Nulls in promocodeused:\", df['promocodeused'].isnull().sum())"
   ]
  },
  {
   "cell_type": "code",
   "execution_count": 24,
   "id": "5d4d8f5b",
   "metadata": {},
   "outputs": [],
   "source": [
    "# df[['promocodeused','isweekend']].head()"
   ]
  },
  {
   "cell_type": "code",
   "execution_count": 25,
   "id": "28ae0537",
   "metadata": {},
   "outputs": [],
   "source": [
    "# import numpy as np"
   ]
  },
  {
   "cell_type": "code",
   "execution_count": 26,
   "id": "8e9a2176",
   "metadata": {},
   "outputs": [],
   "source": [
    "# df['adcampaign'] = df['adcampaign'].astype(str).str.lower().str.strip()"
   ]
  },
  {
   "cell_type": "code",
   "execution_count": 27,
   "id": "0acb6e75",
   "metadata": {},
   "outputs": [],
   "source": [
    "# df['adcampaign'] = df['adcampaign'].replace(['unknown', 'unk', 'none', 'nan', ''], np.nan)"
   ]
  },
  {
   "cell_type": "code",
   "execution_count": 28,
   "id": "85d96aef",
   "metadata": {},
   "outputs": [],
   "source": [
    "# df['adcampaign'].isnull().sum()"
   ]
  },
  {
   "cell_type": "code",
   "execution_count": 29,
   "id": "4912670a",
   "metadata": {},
   "outputs": [],
   "source": [
    "# df['adcampaign'][df['adcampaign'].isnull()] = df['adcampaign'].dropna().sample(df['adcampaign'].isnull().sum(),replace=True).values"
   ]
  },
  {
   "cell_type": "code",
   "execution_count": 30,
   "id": "c31bfd8c",
   "metadata": {},
   "outputs": [],
   "source": [
    "# df['adcampaign'].isnull().sum()"
   ]
  },
  {
   "cell_type": "markdown",
   "id": "cf157b97",
   "metadata": {},
   "source": [
    "# Applying OneHotEncoding in AdCamapign"
   ]
  },
  {
   "cell_type": "code",
   "execution_count": 31,
   "id": "46a2e952",
   "metadata": {},
   "outputs": [],
   "source": [
    "\n",
    "# Step 1: Extract the column\n",
    "# ad_col = df[['adcampaign']]  # double brackets for DataFrame\n",
    "\n"
   ]
  },
  {
   "cell_type": "code",
   "execution_count": 32,
   "id": "bea64729",
   "metadata": {},
   "outputs": [],
   "source": [
    "\n",
    "# Step 2: Initialize encoder\n",
    "# encoder = OneHotEncoder(drop='first', sparse_output=False)  # drop='first' to avoid dummy trap\n"
   ]
  },
  {
   "cell_type": "code",
   "execution_count": 33,
   "id": "79806e9a",
   "metadata": {},
   "outputs": [],
   "source": [
    "\n",
    "# Step 3: Fit and transform\n",
    "# ad_encoded = encoder.fit_transform(ad_col)\n"
   ]
  },
  {
   "cell_type": "code",
   "execution_count": 34,
   "id": "6dec1f57",
   "metadata": {},
   "outputs": [],
   "source": [
    "\n",
    "# # Step 4: Create DataFrame from encoded array\n",
    "# ad_encoded_df = pd.DataFrame(\n",
    "#     ad_encoded,\n",
    "#     columns=encoder.get_feature_names_out(['adcampaign']),\n",
    "#     index=df.index  # keep index same to merge back\n",
    "# )\n",
    "\n"
   ]
  },
  {
   "cell_type": "code",
   "execution_count": 35,
   "id": "46116821",
   "metadata": {},
   "outputs": [],
   "source": [
    "# Step 5: Concatenate with original df (drop old 'adcampaign' column)\n",
    "# df = pd.concat([df.drop('adcampaign', axis=1), ad_encoded_df], axis=1)"
   ]
  },
  {
   "cell_type": "code",
   "execution_count": 36,
   "id": "cdfcda9d",
   "metadata": {},
   "outputs": [],
   "source": [
    "# df.sample(10)"
   ]
  },
  {
   "cell_type": "code",
   "execution_count": 37,
   "id": "751e947a",
   "metadata": {},
   "outputs": [],
   "source": [
    "# from sklearn.compose import ColumnTransformer"
   ]
  },
  {
   "cell_type": "markdown",
   "id": "40429095",
   "metadata": {},
   "source": [
    "# Applying OneHotEncoding in these columns because its nominal"
   ]
  },
  {
   "cell_type": "code",
   "execution_count": 38,
   "id": "6acd305d",
   "metadata": {},
   "outputs": [],
   "source": [
    "# nominal_cols = ['category', 'brand', 'material', 'warehouse', 'inventorytype']\n"
   ]
  },
  {
   "cell_type": "code",
   "execution_count": 39,
   "id": "fade09ea",
   "metadata": {},
   "outputs": [],
   "source": [
    "# column_transformer = ColumnTransformer(\n",
    "#     transformers=[\n",
    "#         ('ohe', OneHotEncoder(drop='first', sparse_output=False), nominal_cols)\n",
    "#     ],\n",
    "#     remainder='passthrough'  # keep other columns unchanged\n",
    "# )\n",
    "\n",
    "# # Fit and transform\n",
    "# df_encoded = column_transformer.fit_transform(df)\n",
    "\n",
    "# # Get new feature names\n",
    "# ohe_feature_names = column_transformer.named_transformers_['ohe'].get_feature_names_out(nominal_cols)\n"
   ]
  },
  {
   "cell_type": "code",
   "execution_count": 40,
   "id": "a66892c4",
   "metadata": {},
   "outputs": [],
   "source": [
    "# df.sample(5)"
   ]
  },
  {
   "cell_type": "code",
   "execution_count": 41,
   "id": "def84be0",
   "metadata": {},
   "outputs": [],
   "source": [
    "import numpy as np\n",
    "# df = pd.DataFrame(df_encoded, columns=np.append(ohe_feature_names, [col for col in df.columns if col not in nominal_cols]))"
   ]
  },
  {
   "cell_type": "markdown",
   "id": "f2456ba1",
   "metadata": {},
   "source": [
    "# Applying Binary Map Encoding in Season"
   ]
  },
  {
   "cell_type": "code",
   "execution_count": 42,
   "id": "1bab20b4",
   "metadata": {},
   "outputs": [],
   "source": [
    "# df['season'] = df['season'].astype(str).str.lower().str.strip()"
   ]
  },
  {
   "cell_type": "code",
   "execution_count": 43,
   "id": "f623fd45",
   "metadata": {},
   "outputs": [],
   "source": [
    "# season_order = {'spring': 0, 'summer': 1, 'autumn': 2, 'winter': 3}"
   ]
  },
  {
   "cell_type": "code",
   "execution_count": 44,
   "id": "4e594f40",
   "metadata": {},
   "outputs": [],
   "source": [
    "# df['season'] = df['season'].map(season_order)"
   ]
  },
  {
   "cell_type": "code",
   "execution_count": 45,
   "id": "79bfb38b",
   "metadata": {},
   "outputs": [],
   "source": [
    "# df['season'].head(5)"
   ]
  },
  {
   "cell_type": "markdown",
   "id": "9a1b88b6",
   "metadata": {},
   "source": [
    "# Applying Binary Map Encoding in DayType"
   ]
  },
  {
   "cell_type": "code",
   "execution_count": 46,
   "id": "1e96c526",
   "metadata": {},
   "outputs": [],
   "source": [
    "# df['daytype'] = df['daytype'].astype(str).str.lower().str.strip()"
   ]
  },
  {
   "cell_type": "code",
   "execution_count": 47,
   "id": "a4f4f9f7",
   "metadata": {},
   "outputs": [],
   "source": [
    "# df['daytype'] = df['daytype'].map({'weekday': 0, 'weekend': 1})"
   ]
  },
  {
   "cell_type": "code",
   "execution_count": 48,
   "id": "a1e99f86",
   "metadata": {},
   "outputs": [],
   "source": [
    "# df['daytype'].head()"
   ]
  },
  {
   "cell_type": "code",
   "execution_count": 49,
   "id": "637c1ba0",
   "metadata": {},
   "outputs": [],
   "source": [
    "# df.sample(20)"
   ]
  },
  {
   "cell_type": "code",
   "execution_count": 50,
   "id": "d5a69221",
   "metadata": {},
   "outputs": [],
   "source": [
    "# import pandas as pd\n",
    "# import numpy as np\n",
    "# from sklearn.pipeline import Pipeline\n",
    "# from sklearn.preprocessing import OneHotEncoder, StandardScaler\n",
    "# from sklearn.impute import SimpleImputer\n",
    "# from sklearn.compose import ColumnTransformer\n",
    "\n",
    "# # ✅ Clean binary columns\n",
    "# df['isweekend'] = df['isweekend'].astype(str).str.lower().str.strip().map({'yes': 1, 'no': 0})\n",
    "# df['promocodeused'] = df['promocodeused'].astype(str).str.lower().str.strip().map({'yes': 1, 'no': 0})\n",
    "\n",
    "# # ✅ Clean adcampaign\n",
    "# df['adcampaign'] = df['adcampaign'].astype(str).str.lower().str.strip()\n",
    "# df['adcampaign'] = df['adcampaign'].replace(['unknown', 'unk', 'none', 'nan', ''], pd.NA)\n",
    "\n",
    "# # ✅ Randomly fill missing adcampaign\n",
    "# n_missing = df['adcampaign'].isnull().sum()\n",
    "# if n_missing > 0:\n",
    "#     random_fill = df['adcampaign'].dropna().sample(n_missing, replace=True, random_state=42)\n",
    "#     random_fill.index = df[df['adcampaign'].isnull()].index\n",
    "#     df.loc[df['adcampaign'].isnull(), 'adcampaign'] = random_fill\n",
    "\n",
    "# # ✅ Drop unnecessary columns\n",
    "# df = df.drop(columns=['productid'])  # Keep 'unitssold' for later use\n",
    "\n",
    "# # 🔍 Define column types\n",
    "# categorical_features = [\n",
    "#     'location', 'adcampaign', 'brand',\n",
    "#     'category', 'material', 'warehouse',\n",
    "#     'inventorytype', 'season', 'daytype'\n",
    "# ]\n",
    "\n",
    "# binary_features = ['isweekend', 'promocodeused']\n",
    "\n",
    "# # ✅ Dynamically detect numerical columns (excluding object and categoricals)\n",
    "# numerical_features = [\n",
    "#     col for col in df.columns\n",
    "#     if col not in categorical_features + binary_features + ['unitssold']\n",
    "#     and df[col].dtype != 'object'\n",
    "# ]\n",
    "\n",
    "# # 🎯 Keep original target\n",
    "# target_col = 'unitssold'\n",
    "\n",
    "# # 🧾 Split features and target\n",
    "# X = df.drop(columns=[target_col])\n",
    "# y = df[target_col]\n",
    "\n",
    "# # 🏗️ Preprocessing Pipeline\n",
    "# preprocessor = ColumnTransformer(transformers=[\n",
    "#     ('num', Pipeline([\n",
    "#         ('imputer', SimpleImputer(strategy='mean')),\n",
    "#         ('scaler', StandardScaler())\n",
    "#     ]), numerical_features),\n",
    "\n",
    "#     ('cat', Pipeline([\n",
    "#         ('imputer', SimpleImputer(strategy='most_frequent')),\n",
    "#         ('encoder', OneHotEncoder(drop='first', sparse_output=False))\n",
    "#     ]), categorical_features),\n",
    "\n",
    "#     ('bin', 'passthrough', binary_features)\n",
    "# ])\n",
    "\n",
    "# # ✅ Transform data\n",
    "# X_processed = preprocessor.fit_transform(X)\n",
    "\n",
    "# # ✅ Final column names\n",
    "# feature_names = (\n",
    "#     numerical_features +\n",
    "#     list(preprocessor.named_transformers_['cat']['encoder'].get_feature_names_out(categorical_features)) +\n",
    "#     binary_features\n",
    "# )\n",
    "\n",
    "# X_final = pd.DataFrame(X_processed, columns=feature_names)\n",
    "\n",
    "# # ✅ Confirm\n",
    "# print(\"✅ Preprocessing Done Successfully\")\n",
    "# print(\"📊 Final Shape of X:\", X_final.shape)\n",
    "# print(\"🎯 Target (y) Shape:\", y.shape)\n"
   ]
  },
  {
   "cell_type": "code",
   "execution_count": 51,
   "id": "dd9cdf31",
   "metadata": {},
   "outputs": [],
   "source": [
    "# import pandas as pd\n",
    "# import numpy as np\n",
    "# from sklearn.pipeline import Pipeline\n",
    "# from sklearn.preprocessing import OneHotEncoder, StandardScaler, LabelEncoder\n",
    "# from sklearn.impute import SimpleImputer\n",
    "# from sklearn.compose import ColumnTransformer\n",
    "\n",
    "# # 🧹 Clean binary columns\n",
    "# df['isweekend'] = df['isweekend'].astype(str).str.lower().str.strip().map({'yes': 1, 'no': 0})\n",
    "# df['promocodeused'] = df['promocodeused'].astype(str).str.lower().str.strip().map({'yes': 1, 'no': 0})\n",
    "\n",
    "# # 📺 Clean adcampaign\n",
    "# df['adcampaign'] = df['adcampaign'].astype(str).str.lower().str.strip()\n",
    "# df['adcampaign'] = df['adcampaign'].replace(['unknown', 'unk', 'none', 'nan', ''], pd.NA)\n",
    "\n",
    "# # 🎲 Random fill missing adcampaign\n",
    "# n_missing = df['adcampaign'].isnull().sum()\n",
    "# if n_missing > 0:\n",
    "#     random_fill = df['adcampaign'].dropna().sample(n_missing, replace=True, random_state=42)\n",
    "#     random_fill.index = df[df['adcampaign'].isnull()].index\n",
    "#     df.loc[df['adcampaign'].isnull(), 'adcampaign'] = random_fill\n",
    "\n",
    "# # 🚮 Drop unwanted column\n",
    "# df = df.drop(columns=['productid'])\n",
    "\n",
    "# # 🎯 Step 1: Bin unitssold\n",
    "# def bin_unitssold(x):\n",
    "#     if x in [1, 2, 3]:\n",
    "#         return 'Low'\n",
    "#     elif x in [4, 5, 6, 7]:\n",
    "#         return 'Medium'\n",
    "#     else:\n",
    "#         return 'High'\n",
    "\n",
    "# df['unit_bin'] = df['unitssold'].apply(bin_unitssold)\n",
    "\n",
    "# # 🎯 Step 2: Encode unit_bin\n",
    "# le = LabelEncoder()\n",
    "# df['unit_bin'] = le.fit_transform(df['unit_bin'])\n",
    "\n",
    "# # 🚮 Step 3: Drop original unitssold\n",
    "# df = df.drop(columns=['unitssold'])\n",
    "\n",
    "# # 🏷️ Define column types\n",
    "# categorical_features = [\n",
    "#     'location', 'adcampaign', 'brand',\n",
    "#     'category', 'material', 'warehouse',\n",
    "#     'inventorytype', 'season', 'daytype'\n",
    "# ]\n",
    "\n",
    "# binary_features = ['isweekend', 'promocodeused']\n",
    "\n",
    "# numerical_features = [\n",
    "#     col for col in df.columns\n",
    "#     if col not in categorical_features + binary_features + ['unit_bin']\n",
    "#     and df[col].dtype != 'object'\n",
    "# ]\n",
    "\n",
    "# # 🧾 Split features and label (X, y)\n",
    "# X = df.drop(columns=['unit_bin'])\n",
    "# y = df['unit_bin']\n",
    "\n",
    "# # 🏗️ Pipeline\n",
    "# preprocessor = ColumnTransformer(transformers=[\n",
    "#     ('num', Pipeline([\n",
    "#         ('imputer', SimpleImputer(strategy='mean')),\n",
    "#         ('scaler', StandardScaler())\n",
    "#     ]), numerical_features),\n",
    "\n",
    "#     ('cat', Pipeline([\n",
    "#         ('imputer', SimpleImputer(strategy='most_frequent')),\n",
    "#         ('encoder', OneHotEncoder(drop='first', sparse_output=False))\n",
    "#     ]), categorical_features),\n",
    "\n",
    "#     ('bin', 'passthrough', binary_features)\n",
    "# ])\n",
    "\n",
    "# # ⚙️ Transform\n",
    "# X_processed = preprocessor.fit_transform(X)\n",
    "\n",
    "# # 📋 Final column names\n",
    "# feature_names = (\n",
    "#     numerical_features +\n",
    "#     list(preprocessor.named_transformers_['cat']['encoder'].get_feature_names_out(categorical_features)) +\n",
    "#     binary_features\n",
    "# )\n",
    "\n",
    "# X_final = pd.DataFrame(X_processed, columns=feature_names)\n",
    "\n",
    "# # ✅ Final confirmations\n",
    "# print(\"✅ Preprocessing Complete\")\n",
    "# print(\"📊 Feature Shape:\", X_final.shape)\n",
    "# print(\"🎯 Target Shape:\", y.shape)\n",
    "# print(\"🏷️ Target Classes:\", le.classes_)\n"
   ]
  },
  {
   "cell_type": "code",
   "execution_count": 52,
   "id": "85578a55",
   "metadata": {},
   "outputs": [
    {
     "data": {
      "text/html": [
       "<div>\n",
       "<style scoped>\n",
       "    .dataframe tbody tr th:only-of-type {\n",
       "        vertical-align: middle;\n",
       "    }\n",
       "\n",
       "    .dataframe tbody tr th {\n",
       "        vertical-align: top;\n",
       "    }\n",
       "\n",
       "    .dataframe thead th {\n",
       "        text-align: right;\n",
       "    }\n",
       "</style>\n",
       "<table border=\"1\" class=\"dataframe\">\n",
       "  <thead>\n",
       "    <tr style=\"text-align: right;\">\n",
       "      <th></th>\n",
       "      <th>productid</th>\n",
       "      <th>location</th>\n",
       "      <th>unitssold</th>\n",
       "      <th>promocodeused</th>\n",
       "      <th>price</th>\n",
       "      <th>discount_percent</th>\n",
       "      <th>adcampaign</th>\n",
       "      <th>isweekend</th>\n",
       "      <th>season</th>\n",
       "      <th>daytype</th>\n",
       "      <th>...</th>\n",
       "      <th>inventorytype</th>\n",
       "      <th>price_diff</th>\n",
       "      <th>month</th>\n",
       "      <th>dayofweek</th>\n",
       "      <th>week</th>\n",
       "      <th>year</th>\n",
       "      <th>unit_bin</th>\n",
       "      <th>price_discount_interaction</th>\n",
       "      <th>stock_supplier_interaction</th>\n",
       "      <th>rating_category</th>\n",
       "    </tr>\n",
       "  </thead>\n",
       "  <tbody>\n",
       "    <tr>\n",
       "      <th>355460</th>\n",
       "      <td>P0280</td>\n",
       "      <td>L04</td>\n",
       "      <td>5</td>\n",
       "      <td>Yes</td>\n",
       "      <td>300.50</td>\n",
       "      <td>0.0</td>\n",
       "      <td>unknown</td>\n",
       "      <td>no</td>\n",
       "      <td>spring</td>\n",
       "      <td>Holiday</td>\n",
       "      <td>...</td>\n",
       "      <td>Returned</td>\n",
       "      <td>-15.025</td>\n",
       "      <td>4</td>\n",
       "      <td>1</td>\n",
       "      <td>15</td>\n",
       "      <td>2024</td>\n",
       "      <td>Medium</td>\n",
       "      <td>0.0</td>\n",
       "      <td>308</td>\n",
       "      <td>medium</td>\n",
       "    </tr>\n",
       "    <tr>\n",
       "      <th>337263</th>\n",
       "      <td>P0295</td>\n",
       "      <td>L07</td>\n",
       "      <td>8</td>\n",
       "      <td>Yes</td>\n",
       "      <td>102.96</td>\n",
       "      <td>10.0</td>\n",
       "      <td>tv</td>\n",
       "      <td>no</td>\n",
       "      <td>autumn</td>\n",
       "      <td>Weekday</td>\n",
       "      <td>...</td>\n",
       "      <td>Fresh</td>\n",
       "      <td>-11.760</td>\n",
       "      <td>10</td>\n",
       "      <td>2</td>\n",
       "      <td>43</td>\n",
       "      <td>2024</td>\n",
       "      <td>High</td>\n",
       "      <td>1029.6</td>\n",
       "      <td>65</td>\n",
       "      <td>high</td>\n",
       "    </tr>\n",
       "    <tr>\n",
       "      <th>135689</th>\n",
       "      <td>P0075</td>\n",
       "      <td>L05</td>\n",
       "      <td>3</td>\n",
       "      <td>Yes</td>\n",
       "      <td>300.50</td>\n",
       "      <td>0.0</td>\n",
       "      <td>unknown</td>\n",
       "      <td>no</td>\n",
       "      <td>autumn</td>\n",
       "      <td>Weekday</td>\n",
       "      <td>...</td>\n",
       "      <td>Repaired</td>\n",
       "      <td>-15.025</td>\n",
       "      <td>10</td>\n",
       "      <td>1</td>\n",
       "      <td>40</td>\n",
       "      <td>2024</td>\n",
       "      <td>Low</td>\n",
       "      <td>0.0</td>\n",
       "      <td>270</td>\n",
       "      <td>medium</td>\n",
       "    </tr>\n",
       "    <tr>\n",
       "      <th>444074</th>\n",
       "      <td>P0310</td>\n",
       "      <td>L04</td>\n",
       "      <td>3</td>\n",
       "      <td>Yes</td>\n",
       "      <td>300.50</td>\n",
       "      <td>0.0</td>\n",
       "      <td>unknown</td>\n",
       "      <td>no</td>\n",
       "      <td>spring</td>\n",
       "      <td>Weekday</td>\n",
       "      <td>...</td>\n",
       "      <td>Repaired</td>\n",
       "      <td>-15.025</td>\n",
       "      <td>3</td>\n",
       "      <td>4</td>\n",
       "      <td>12</td>\n",
       "      <td>2024</td>\n",
       "      <td>Low</td>\n",
       "      <td>0.0</td>\n",
       "      <td>483</td>\n",
       "      <td>high</td>\n",
       "    </tr>\n",
       "    <tr>\n",
       "      <th>477567</th>\n",
       "      <td>P0140</td>\n",
       "      <td>L04</td>\n",
       "      <td>4</td>\n",
       "      <td>Yes</td>\n",
       "      <td>300.50</td>\n",
       "      <td>0.0</td>\n",
       "      <td>unknown</td>\n",
       "      <td>no</td>\n",
       "      <td>winter</td>\n",
       "      <td>Weekday</td>\n",
       "      <td>...</td>\n",
       "      <td>Returned</td>\n",
       "      <td>-15.025</td>\n",
       "      <td>12</td>\n",
       "      <td>4</td>\n",
       "      <td>50</td>\n",
       "      <td>2024</td>\n",
       "      <td>Medium</td>\n",
       "      <td>0.0</td>\n",
       "      <td>30</td>\n",
       "      <td>medium</td>\n",
       "    </tr>\n",
       "  </tbody>\n",
       "</table>\n",
       "<p>5 rows × 32 columns</p>\n",
       "</div>"
      ],
      "text/plain": [
       "       productid location  unitssold promocodeused   price  discount_percent  \\\n",
       "355460     P0280      L04          5           Yes  300.50               0.0   \n",
       "337263     P0295      L07          8           Yes  102.96              10.0   \n",
       "135689     P0075      L05          3           Yes  300.50               0.0   \n",
       "444074     P0310      L04          3           Yes  300.50               0.0   \n",
       "477567     P0140      L04          4           Yes  300.50               0.0   \n",
       "\n",
       "       adcampaign isweekend  season  daytype  ...  inventorytype  price_diff  \\\n",
       "355460    unknown        no  spring  Holiday  ...       Returned     -15.025   \n",
       "337263         tv        no  autumn  Weekday  ...          Fresh     -11.760   \n",
       "135689    unknown        no  autumn  Weekday  ...       Repaired     -15.025   \n",
       "444074    unknown        no  spring  Weekday  ...       Repaired     -15.025   \n",
       "477567    unknown        no  winter  Weekday  ...       Returned     -15.025   \n",
       "\n",
       "       month dayofweek week  year  unit_bin  price_discount_interaction  \\\n",
       "355460     4         1   15  2024    Medium                         0.0   \n",
       "337263    10         2   43  2024      High                      1029.6   \n",
       "135689    10         1   40  2024       Low                         0.0   \n",
       "444074     3         4   12  2024       Low                         0.0   \n",
       "477567    12         4   50  2024    Medium                         0.0   \n",
       "\n",
       "        stock_supplier_interaction  rating_category  \n",
       "355460                         308           medium  \n",
       "337263                          65             high  \n",
       "135689                         270           medium  \n",
       "444074                         483             high  \n",
       "477567                          30           medium  \n",
       "\n",
       "[5 rows x 32 columns]"
      ]
     },
     "execution_count": 52,
     "metadata": {},
     "output_type": "execute_result"
    }
   ],
   "source": [
    "df.sample(5)"
   ]
  },
  {
   "cell_type": "code",
   "execution_count": 53,
   "id": "6026cc90",
   "metadata": {},
   "outputs": [],
   "source": [
    "# import numpy as np\n",
    "\n",
    "# # Check mean and std of numerical columns after scaling\n",
    "# means = X_final[numerical_features].mean()\n",
    "# stds = X_final[numerical_features].std()\n",
    "\n",
    "# print(\"Means after scaling:\\n\", np.round(means, 2))\n",
    "# print(\"\\nStandard deviations after scaling:\\n\", np.round(stds, 2))\n"
   ]
  },
  {
   "cell_type": "code",
   "execution_count": 59,
   "id": "7ba31da3",
   "metadata": {},
   "outputs": [
    {
     "name": "stdout",
     "output_type": "stream",
     "text": [
      "✅ Preprocessing Complete\n",
      "📊 Feature Shape: (511809, 52)\n",
      "🎯 Target Shape: (511809,)\n",
      "🏷️ Target Classes: ['High' 'Low' 'Medium']\n"
     ]
    }
   ],
   "source": [
    "import pandas as pd\n",
    "import numpy as np\n",
    "from sklearn.pipeline import Pipeline\n",
    "from sklearn.preprocessing import OneHotEncoder, StandardScaler, LabelEncoder\n",
    "from sklearn.impute import SimpleImputer\n",
    "from sklearn.compose import ColumnTransformer\n",
    "\n",
    "# 🧹 Clean binary columns\n",
    "df['isweekend'] = df['isweekend'].astype(str).str.lower().str.strip().map({'yes': 1, 'no': 0})\n",
    "df['promocodeused'] = df['promocodeused'].astype(str).str.lower().str.strip().map({'yes': 1, 'no': 0})\n",
    "\n",
    "# 📺 Clean adcampaign\n",
    "df['adcampaign'] = df['adcampaign'].astype(str).str.lower().str.strip()\n",
    "df['adcampaign'] = df['adcampaign'].replace(['unknown', 'unk', 'none', 'nan', ''], pd.NA)\n",
    "\n",
    "# 🎲 Random fill missing adcampaign\n",
    "n_missing = df['adcampaign'].isnull().sum()\n",
    "if n_missing > 0:\n",
    "    random_fill = df['adcampaign'].dropna().sample(n_missing, replace=True, random_state=42)\n",
    "    random_fill.index = df[df['adcampaign'].isnull()].index\n",
    "    df.loc[df['adcampaign'].isnull(), 'adcampaign'] = random_fill\n",
    "\n",
    "# 🚮 Drop unwanted column\n",
    "df = df.drop(columns=['productid'])\n",
    "\n",
    "# 🎯 Bin unitssold\n",
    "def bin_unitssold(x):\n",
    "    if x in [1, 2, 3]:\n",
    "        return 'Low'\n",
    "    elif x in [4, 5, 6, 7]:\n",
    "        return 'Medium'\n",
    "    else:\n",
    "        return 'High'\n",
    "\n",
    "df['unit_bin'] = df['unitssold'].apply(bin_unitssold)\n",
    "\n",
    "# 🎯 Encode unit_bin\n",
    "le = LabelEncoder()\n",
    "df['unit_bin'] = le.fit_transform(df['unit_bin'])\n",
    "\n",
    "# 🚮 Drop original unitssold\n",
    "df = df.drop(columns=['unitssold'])\n",
    "\n",
    "# ✅ Add rating_category to categorical columns\n",
    "# 🏷️ Define column types\n",
    "categorical_features = [\n",
    "    'location', 'adcampaign', 'brand', 'category',\n",
    "    'material', 'warehouse', 'inventorytype',\n",
    "    'season', 'daytype', 'rating_category'  # include this\n",
    "]\n",
    "\n",
    "binary_features = ['isweekend', 'promocodeused']\n",
    "\n",
    "# 🔢 Numerical features to scale\n",
    "numerical_features = [\n",
    "    col for col in df.columns\n",
    "    if col not in categorical_features + binary_features + ['unit_bin']\n",
    "    and df[col].dtype != 'object'\n",
    "]\n",
    "\n",
    "# ✅ Confirm: price_diff and price_discount_interaction are in numerical_features already\n",
    "\n",
    "# 🎯 Define X and y\n",
    "X = df.drop(columns=['unit_bin'])\n",
    "y = df['unit_bin']\n",
    "\n",
    "# 🏗️ Preprocessing pipeline\n",
    "preprocessor = ColumnTransformer(transformers=[\n",
    "    ('num', Pipeline([\n",
    "        ('imputer', SimpleImputer(strategy='mean')),\n",
    "        ('scaler', StandardScaler())\n",
    "    ]), numerical_features),\n",
    "\n",
    "    ('cat', Pipeline([\n",
    "        ('imputer', SimpleImputer(strategy='most_frequent')),\n",
    "        ('encoder', OneHotEncoder(drop='first', sparse_output=False))\n",
    "    ]), categorical_features),\n",
    "\n",
    "    ('bin', 'passthrough', binary_features)\n",
    "])\n",
    "\n",
    "# ⚙️ Apply transformations\n",
    "X_processed = preprocessor.fit_transform(X)\n",
    "\n",
    "# 📋 Final column names\n",
    "feature_names = (\n",
    "    numerical_features +\n",
    "    list(preprocessor.named_transformers_['cat']['encoder'].get_feature_names_out(categorical_features)) +\n",
    "    binary_features\n",
    ")\n",
    "\n",
    "X_final = pd.DataFrame(X_processed, columns=feature_names)\n",
    "\n",
    "# ✅ Final confirmations\n",
    "print(\"✅ Preprocessing Complete\")\n",
    "print(\"📊 Feature Shape:\", X_final.shape)\n",
    "print(\"🎯 Target Shape:\", y.shape)\n",
    "print(\"🏷️ Target Classes:\", le.classes_)\n"
   ]
  },
  {
   "cell_type": "code",
   "execution_count": 60,
   "id": "f44e286c",
   "metadata": {},
   "outputs": [],
   "source": [
    "X_final.to_csv(\"Encoded_data_X.csv\",index=False)\n",
    "y.to_csv(\"Encoded_data_Y.csv\",index=False)"
   ]
  }
 ],
 "metadata": {
  "kernelspec": {
   "display_name": "Python 3",
   "language": "python",
   "name": "python3"
  },
  "language_info": {
   "codemirror_mode": {
    "name": "ipython",
    "version": 3
   },
   "file_extension": ".py",
   "mimetype": "text/x-python",
   "name": "python",
   "nbconvert_exporter": "python",
   "pygments_lexer": "ipython3",
   "version": "3.13.5"
  }
 },
 "nbformat": 4,
 "nbformat_minor": 5
}
