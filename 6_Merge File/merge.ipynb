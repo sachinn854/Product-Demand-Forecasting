{
 "cells": [
  {
   "cell_type": "code",
   "execution_count": 95,
   "id": "666b126a",
   "metadata": {},
   "outputs": [],
   "source": [
    "import pandas as pd"
   ]
  },
  {
   "cell_type": "code",
   "execution_count": 96,
   "id": "7985857c",
   "metadata": {},
   "outputs": [],
   "source": [
    "# Assuming you’ve already loaded your files:\n",
    "# sales_data, pricing_data, calendar_data, weather_data, product_info, inventory_data\n",
    "\n",
    "# Convert column names to lowercase\n",
    "def to_lowercase_columns(df):\n",
    "    df.columns = df.columns.str.lower()\n",
    "    return df\n",
    "\n",
    "\n"
   ]
  },
  {
   "cell_type": "code",
   "execution_count": 97,
   "id": "96d528f5",
   "metadata": {},
   "outputs": [],
   "source": [
    "sales_data = pd.read_csv(r\"C:\\Users\\sachi\\OneDrive\\Product Demand Forecasting\\CLEANED DATA\\sales_data_Cleaned.csv\")\n",
    "pricing_data = pd.read_csv(r\"C:\\Users\\sachi\\OneDrive\\Product Demand Forecasting\\CLEANED DATA\\pricing_data_Cleaned.csv.csv\")\n",
    "calendar_data = pd.read_csv(r\"C:\\Users\\sachi\\OneDrive\\Product Demand Forecasting\\CLEANED DATA\\Calender_Cleaned.csv.csv\")\n",
    "weather_data = pd.read_csv(r\"C:\\Users\\sachi\\OneDrive\\Product Demand Forecasting\\CLEANED DATA\\weather_cleaned.csv\")\n",
    "product_info = pd.read_csv(r\"C:\\Users\\sachi\\OneDrive\\Product Demand Forecasting\\CLEANED DATA\\product_info_cleaned.csv\")\n",
    "inventory_data  = pd.read_csv(r\"C:\\Users\\sachi\\OneDrive\\Product Demand Forecasting\\CLEANED DATA\\inventory_data_Cleaned.csv.csv\")"
   ]
  },
  {
   "cell_type": "code",
   "execution_count": 98,
   "id": "5109f3b6",
   "metadata": {},
   "outputs": [],
   "source": [
    "sales_data = to_lowercase_columns(sales_data)\n",
    "pricing_data = to_lowercase_columns(pricing_data)\n",
    "calendar_data = to_lowercase_columns(calendar_data)\n",
    "weather_data = to_lowercase_columns(weather_data)\n",
    "product_info = to_lowercase_columns(product_info)\n",
    "inventory_data = to_lowercase_columns(inventory_data)"
   ]
  },
  {
   "cell_type": "code",
   "execution_count": 99,
   "id": "26aa6fba",
   "metadata": {},
   "outputs": [
    {
     "data": {
      "text/plain": [
       "(494820, 5)"
      ]
     },
     "execution_count": 99,
     "metadata": {},
     "output_type": "execute_result"
    }
   ],
   "source": [
    "sales_data.shape"
   ]
  },
  {
   "cell_type": "code",
   "execution_count": 100,
   "id": "158bf884",
   "metadata": {},
   "outputs": [
    {
     "data": {
      "text/plain": [
       "(500000, 8)"
      ]
     },
     "execution_count": 100,
     "metadata": {},
     "output_type": "execute_result"
    }
   ],
   "source": [
    "pricing_data.shape"
   ]
  },
  {
   "cell_type": "code",
   "execution_count": 101,
   "id": "0d7764b8",
   "metadata": {},
   "outputs": [
    {
     "data": {
      "text/plain": [
       "(366, 4)"
      ]
     },
     "execution_count": 101,
     "metadata": {},
     "output_type": "execute_result"
    }
   ],
   "source": [
    "calendar_data.shape"
   ]
  },
  {
   "cell_type": "code",
   "execution_count": 102,
   "id": "a21ac5e2",
   "metadata": {},
   "outputs": [
    {
     "data": {
      "text/plain": [
       "(3660, 4)"
      ]
     },
     "execution_count": 102,
     "metadata": {},
     "output_type": "execute_result"
    }
   ],
   "source": [
    "weather_data.shape"
   ]
  },
  {
   "cell_type": "code",
   "execution_count": 103,
   "id": "f6211c3a",
   "metadata": {},
   "outputs": [
    {
     "data": {
      "text/plain": [
       "(500, 8)"
      ]
     },
     "execution_count": 103,
     "metadata": {},
     "output_type": "execute_result"
    }
   ],
   "source": [
    "product_info.shape"
   ]
  },
  {
   "cell_type": "code",
   "execution_count": 104,
   "id": "bf307e11",
   "metadata": {},
   "outputs": [
    {
     "data": {
      "text/plain": [
       "(5000, 6)"
      ]
     },
     "execution_count": 104,
     "metadata": {},
     "output_type": "execute_result"
    }
   ],
   "source": [
    "inventory_data.shape"
   ]
  },
  {
   "cell_type": "code",
   "execution_count": 105,
   "id": "899fc4cf",
   "metadata": {},
   "outputs": [],
   "source": [
    "sales_data['date'] = pd.to_datetime(sales_data['date'], errors='coerce')\n",
    "pricing_data['date'] = pd.to_datetime(pricing_data['date'], errors='coerce')"
   ]
  },
  {
   "cell_type": "code",
   "execution_count": 106,
   "id": "2e68b290",
   "metadata": {},
   "outputs": [
    {
     "data": {
      "text/plain": [
       "productid                object\n",
       "location                 object\n",
       "date             datetime64[ns]\n",
       "unitssold                 int64\n",
       "promocodeused            object\n",
       "dtype: object"
      ]
     },
     "execution_count": 106,
     "metadata": {},
     "output_type": "execute_result"
    }
   ],
   "source": [
    "sales_data.dtypes"
   ]
  },
  {
   "cell_type": "code",
   "execution_count": 107,
   "id": "31ebba7b",
   "metadata": {},
   "outputs": [
    {
     "data": {
      "text/plain": [
       "productid                   object\n",
       "location                    object\n",
       "date                datetime64[ns]\n",
       "price                      float64\n",
       "discount_percent             int64\n",
       "competitorprice            float64\n",
       "adcampaign                  object\n",
       "finalprice                 float64\n",
       "dtype: object"
      ]
     },
     "execution_count": 107,
     "metadata": {},
     "output_type": "execute_result"
    }
   ],
   "source": [
    "pricing_data.dtypes"
   ]
  },
  {
   "cell_type": "code",
   "execution_count": 108,
   "id": "c9f74e67",
   "metadata": {},
   "outputs": [
    {
     "name": "stdout",
     "output_type": "stream",
     "text": [
      "Sales keys: (406257, 3)\n",
      "Pricing keys: (437626, 3)\n"
     ]
    }
   ],
   "source": [
    "sales_keys = sales_data[['productid', 'location', 'date']].drop_duplicates()\n",
    "pricing_keys = pricing_data[['productid', 'location', 'date']].drop_duplicates()\n",
    "\n",
    "print(\"Sales keys:\", sales_keys.shape)\n",
    "print(\"Pricing keys:\", pricing_keys.shape)\n"
   ]
  },
  {
   "cell_type": "code",
   "execution_count": 109,
   "id": "e763f55c",
   "metadata": {},
   "outputs": [
    {
     "name": "stdout",
     "output_type": "stream",
     "text": [
      "Missing key rows: (309557, 4)\n"
     ]
    },
    {
     "data": {
      "text/html": [
       "<div>\n",
       "<style scoped>\n",
       "    .dataframe tbody tr th:only-of-type {\n",
       "        vertical-align: middle;\n",
       "    }\n",
       "\n",
       "    .dataframe tbody tr th {\n",
       "        vertical-align: top;\n",
       "    }\n",
       "\n",
       "    .dataframe thead th {\n",
       "        text-align: right;\n",
       "    }\n",
       "</style>\n",
       "<table border=\"1\" class=\"dataframe\">\n",
       "  <thead>\n",
       "    <tr style=\"text-align: right;\">\n",
       "      <th></th>\n",
       "      <th>productid</th>\n",
       "      <th>location</th>\n",
       "      <th>date</th>\n",
       "      <th>_merge</th>\n",
       "    </tr>\n",
       "  </thead>\n",
       "  <tbody>\n",
       "    <tr>\n",
       "      <th>1</th>\n",
       "      <td>P0010</td>\n",
       "      <td>L01</td>\n",
       "      <td>2024-12-14</td>\n",
       "      <td>left_only</td>\n",
       "    </tr>\n",
       "    <tr>\n",
       "      <th>2</th>\n",
       "      <td>P0421</td>\n",
       "      <td>L07</td>\n",
       "      <td>2024-09-27</td>\n",
       "      <td>left_only</td>\n",
       "    </tr>\n",
       "    <tr>\n",
       "      <th>3</th>\n",
       "      <td>P0412</td>\n",
       "      <td>L01</td>\n",
       "      <td>2024-04-16</td>\n",
       "      <td>left_only</td>\n",
       "    </tr>\n",
       "    <tr>\n",
       "      <th>4</th>\n",
       "      <td>P0240</td>\n",
       "      <td>L07</td>\n",
       "      <td>2024-03-12</td>\n",
       "      <td>left_only</td>\n",
       "    </tr>\n",
       "    <tr>\n",
       "      <th>6</th>\n",
       "      <td>P0276</td>\n",
       "      <td>L01</td>\n",
       "      <td>2024-01-21</td>\n",
       "      <td>left_only</td>\n",
       "    </tr>\n",
       "  </tbody>\n",
       "</table>\n",
       "</div>"
      ],
      "text/plain": [
       "  productid location       date     _merge\n",
       "1     P0010      L01 2024-12-14  left_only\n",
       "2     P0421      L07 2024-09-27  left_only\n",
       "3     P0412      L01 2024-04-16  left_only\n",
       "4     P0240      L07 2024-03-12  left_only\n",
       "6     P0276      L01 2024-01-21  left_only"
      ]
     },
     "execution_count": 109,
     "metadata": {},
     "output_type": "execute_result"
    }
   ],
   "source": [
    "# Merge just to find missing keys\n",
    "merged_keys = pd.merge(\n",
    "    sales_keys,\n",
    "    pricing_keys,\n",
    "    on=['productid', 'location', 'date'],\n",
    "    how='left',\n",
    "    indicator=True\n",
    ")\n",
    "\n",
    "# Find keys present in sales but missing in pricing\n",
    "missing_keys = merged_keys[merged_keys['_merge'] == 'left_only']\n",
    "print(\"Missing key rows:\", missing_keys.shape)\n",
    "missing_keys.head()\n"
   ]
  },
  {
   "cell_type": "code",
   "execution_count": 110,
   "id": "027b25cc",
   "metadata": {},
   "outputs": [
    {
     "name": "stdout",
     "output_type": "stream",
     "text": [
      "Unique productids in sales: 500\n",
      "Unique productids in pricing: 500\n",
      "Common productids: 500\n"
     ]
    }
   ],
   "source": [
    "print(\"Unique productids in sales:\", sales_data['productid'].nunique())\n",
    "print(\"Unique productids in pricing:\", pricing_data['productid'].nunique())\n",
    "\n",
    "print(\"Common productids:\", len(set(sales_data['productid']).intersection(set(pricing_data['productid']))))\n"
   ]
  },
  {
   "cell_type": "code",
   "execution_count": 111,
   "id": "0ada4928",
   "metadata": {},
   "outputs": [
    {
     "name": "stdout",
     "output_type": "stream",
     "text": [
      "Unique locations in sales: ['L04' 'L01' 'L07' 'L10' 'L03' 'L08' 'L05' 'L06' 'L02' 'L09']\n",
      "Unique locations in pricing: ['L06' 'L10' 'L04' 'L01' 'L09' 'L03' 'L02' 'L05' 'L08' 'L07']\n"
     ]
    }
   ],
   "source": [
    "print(\"Unique locations in sales:\", sales_data['location'].unique())\n",
    "print(\"Unique locations in pricing:\", pricing_data['location'].unique())\n"
   ]
  },
  {
   "cell_type": "code",
   "execution_count": 112,
   "id": "b892e3fa",
   "metadata": {},
   "outputs": [
    {
     "name": "stdout",
     "output_type": "stream",
     "text": [
      "Sales date range: 2024-01-01 00:00:00 to 2024-12-30 00:00:00\n",
      "Pricing date range: 2024-01-01 00:00:00 to 2024-12-31 00:00:00\n"
     ]
    }
   ],
   "source": [
    "# Check min-max dates\n",
    "print(\"Sales date range:\", sales_data['date'].min(), \"to\", sales_data['date'].max())\n",
    "print(\"Pricing date range:\", pricing_data['date'].min(), \"to\", pricing_data['date'].max())\n"
   ]
  },
  {
   "cell_type": "code",
   "execution_count": 113,
   "id": "47474589",
   "metadata": {},
   "outputs": [
    {
     "name": "stdout",
     "output_type": "stream",
     "text": [
      "Missing keys: 309557\n"
     ]
    }
   ],
   "source": [
    "sales_keys = set(zip(sales_data['productid'], sales_data['location'], sales_data['date']))\n",
    "pricing_keys = set(zip(pricing_data['productid'], pricing_data['location'], pricing_data['date']))\n",
    "\n",
    "missing_keys = sales_keys - pricing_keys\n",
    "print(\"Missing keys:\", len(missing_keys))\n"
   ]
  },
  {
   "cell_type": "code",
   "execution_count": 114,
   "id": "134661f1",
   "metadata": {},
   "outputs": [],
   "source": [
    "full_keys = sales_data[['productid', 'location', 'date']].drop_duplicates()\n"
   ]
  },
  {
   "cell_type": "code",
   "execution_count": 115,
   "id": "cfb23dca",
   "metadata": {},
   "outputs": [],
   "source": [
    "pricing_expanded = pd.merge(full_keys, pricing_data, on=['productid', 'location', 'date'], how='left')\n"
   ]
  },
  {
   "cell_type": "code",
   "execution_count": 116,
   "id": "309806a8",
   "metadata": {},
   "outputs": [],
   "source": [
    "# Fill pricing columns with median or grouped logic\n",
    "pricing_expanded['price'] = pricing_expanded['price'].fillna(pricing_expanded['price'].median())\n",
    "pricing_expanded['discount_percent'] = pricing_expanded['discount_percent'].fillna(0)\n",
    "pricing_expanded['competitorprice'] = pricing_expanded['competitorprice'].fillna(pricing_expanded['price'] * 1.05)\n",
    "\n",
    "# Fill adcampaign with most common value or \"None\"\n",
    "pricing_expanded['adcampaign'] = pricing_expanded['adcampaign'].fillna('None')\n"
   ]
  },
  {
   "cell_type": "code",
   "execution_count": 117,
   "id": "9d7fd315",
   "metadata": {},
   "outputs": [],
   "source": [
    "pricing_expanded['finalprice'] = pricing_expanded['price'] * (1 - pricing_expanded['discount_percent'] / 100)\n"
   ]
  },
  {
   "cell_type": "code",
   "execution_count": 118,
   "id": "2905ddc4",
   "metadata": {},
   "outputs": [],
   "source": [
    "merged_df = pd.merge(\n",
    "    sales_data,\n",
    "    pricing_expanded,\n",
    "    on=['productid', 'location', 'date'],\n",
    "    how='inner'\n",
    ")\n"
   ]
  },
  {
   "cell_type": "code",
   "execution_count": 119,
   "id": "72834b80",
   "metadata": {},
   "outputs": [
    {
     "data": {
      "text/html": [
       "<div>\n",
       "<style scoped>\n",
       "    .dataframe tbody tr th:only-of-type {\n",
       "        vertical-align: middle;\n",
       "    }\n",
       "\n",
       "    .dataframe tbody tr th {\n",
       "        vertical-align: top;\n",
       "    }\n",
       "\n",
       "    .dataframe thead th {\n",
       "        text-align: right;\n",
       "    }\n",
       "</style>\n",
       "<table border=\"1\" class=\"dataframe\">\n",
       "  <thead>\n",
       "    <tr style=\"text-align: right;\">\n",
       "      <th></th>\n",
       "      <th>productid</th>\n",
       "      <th>location</th>\n",
       "      <th>date</th>\n",
       "      <th>unitssold</th>\n",
       "      <th>promocodeused</th>\n",
       "      <th>price</th>\n",
       "      <th>discount_percent</th>\n",
       "      <th>competitorprice</th>\n",
       "      <th>adcampaign</th>\n",
       "      <th>finalprice</th>\n",
       "    </tr>\n",
       "  </thead>\n",
       "  <tbody>\n",
       "    <tr>\n",
       "      <th>502743</th>\n",
       "      <td>P0038</td>\n",
       "      <td>L03</td>\n",
       "      <td>2024-08-20</td>\n",
       "      <td>0</td>\n",
       "      <td>No</td>\n",
       "      <td>155.43</td>\n",
       "      <td>15.0</td>\n",
       "      <td>173.04</td>\n",
       "      <td>Tv</td>\n",
       "      <td>132.12</td>\n",
       "    </tr>\n",
       "    <tr>\n",
       "      <th>379814</th>\n",
       "      <td>P0080</td>\n",
       "      <td>L04</td>\n",
       "      <td>2024-10-22</td>\n",
       "      <td>8</td>\n",
       "      <td>No</td>\n",
       "      <td>NaN</td>\n",
       "      <td>NaN</td>\n",
       "      <td>NaN</td>\n",
       "      <td>NaN</td>\n",
       "      <td>NaN</td>\n",
       "    </tr>\n",
       "    <tr>\n",
       "      <th>43556</th>\n",
       "      <td>P0447</td>\n",
       "      <td>L04</td>\n",
       "      <td>2024-09-05</td>\n",
       "      <td>2</td>\n",
       "      <td>Yes</td>\n",
       "      <td>481.98</td>\n",
       "      <td>5.0</td>\n",
       "      <td>555.18</td>\n",
       "      <td>Tv</td>\n",
       "      <td>457.88</td>\n",
       "    </tr>\n",
       "    <tr>\n",
       "      <th>319719</th>\n",
       "      <td>P0303</td>\n",
       "      <td>L04</td>\n",
       "      <td>2024-03-17</td>\n",
       "      <td>0</td>\n",
       "      <td>No</td>\n",
       "      <td>NaN</td>\n",
       "      <td>NaN</td>\n",
       "      <td>NaN</td>\n",
       "      <td>NaN</td>\n",
       "      <td>NaN</td>\n",
       "    </tr>\n",
       "    <tr>\n",
       "      <th>33689</th>\n",
       "      <td>P0051</td>\n",
       "      <td>L04</td>\n",
       "      <td>2024-07-08</td>\n",
       "      <td>4</td>\n",
       "      <td>Yes</td>\n",
       "      <td>362.05</td>\n",
       "      <td>20.0</td>\n",
       "      <td>330.79</td>\n",
       "      <td>Tv</td>\n",
       "      <td>289.64</td>\n",
       "    </tr>\n",
       "    <tr>\n",
       "      <th>165045</th>\n",
       "      <td>P0193</td>\n",
       "      <td>L03</td>\n",
       "      <td>2024-07-10</td>\n",
       "      <td>3</td>\n",
       "      <td>Yes</td>\n",
       "      <td>NaN</td>\n",
       "      <td>NaN</td>\n",
       "      <td>NaN</td>\n",
       "      <td>NaN</td>\n",
       "      <td>NaN</td>\n",
       "    </tr>\n",
       "    <tr>\n",
       "      <th>373619</th>\n",
       "      <td>P0234</td>\n",
       "      <td>L07</td>\n",
       "      <td>2024-09-18</td>\n",
       "      <td>2</td>\n",
       "      <td>Yes</td>\n",
       "      <td>NaN</td>\n",
       "      <td>NaN</td>\n",
       "      <td>NaN</td>\n",
       "      <td>NaN</td>\n",
       "      <td>NaN</td>\n",
       "    </tr>\n",
       "    <tr>\n",
       "      <th>331936</th>\n",
       "      <td>P0329</td>\n",
       "      <td>L01</td>\n",
       "      <td>2024-02-15</td>\n",
       "      <td>4</td>\n",
       "      <td>No</td>\n",
       "      <td>NaN</td>\n",
       "      <td>NaN</td>\n",
       "      <td>NaN</td>\n",
       "      <td>NaN</td>\n",
       "      <td>NaN</td>\n",
       "    </tr>\n",
       "    <tr>\n",
       "      <th>81754</th>\n",
       "      <td>P0207</td>\n",
       "      <td>L10</td>\n",
       "      <td>2024-11-28</td>\n",
       "      <td>0</td>\n",
       "      <td>Yes</td>\n",
       "      <td>NaN</td>\n",
       "      <td>NaN</td>\n",
       "      <td>NaN</td>\n",
       "      <td>NaN</td>\n",
       "      <td>NaN</td>\n",
       "    </tr>\n",
       "    <tr>\n",
       "      <th>256695</th>\n",
       "      <td>P0381</td>\n",
       "      <td>L07</td>\n",
       "      <td>2024-06-08</td>\n",
       "      <td>6</td>\n",
       "      <td>No</td>\n",
       "      <td>NaN</td>\n",
       "      <td>NaN</td>\n",
       "      <td>NaN</td>\n",
       "      <td>NaN</td>\n",
       "      <td>NaN</td>\n",
       "    </tr>\n",
       "  </tbody>\n",
       "</table>\n",
       "</div>"
      ],
      "text/plain": [
       "       productid location       date  unitssold promocodeused   price  \\\n",
       "502743     P0038      L03 2024-08-20          0            No  155.43   \n",
       "379814     P0080      L04 2024-10-22          8            No     NaN   \n",
       "43556      P0447      L04 2024-09-05          2           Yes  481.98   \n",
       "319719     P0303      L04 2024-03-17          0            No     NaN   \n",
       "33689      P0051      L04 2024-07-08          4           Yes  362.05   \n",
       "165045     P0193      L03 2024-07-10          3           Yes     NaN   \n",
       "373619     P0234      L07 2024-09-18          2           Yes     NaN   \n",
       "331936     P0329      L01 2024-02-15          4            No     NaN   \n",
       "81754      P0207      L10 2024-11-28          0           Yes     NaN   \n",
       "256695     P0381      L07 2024-06-08          6            No     NaN   \n",
       "\n",
       "        discount_percent  competitorprice adcampaign  finalprice  \n",
       "502743              15.0           173.04         Tv      132.12  \n",
       "379814               NaN              NaN        NaN         NaN  \n",
       "43556                5.0           555.18         Tv      457.88  \n",
       "319719               NaN              NaN        NaN         NaN  \n",
       "33689               20.0           330.79         Tv      289.64  \n",
       "165045               NaN              NaN        NaN         NaN  \n",
       "373619               NaN              NaN        NaN         NaN  \n",
       "331936               NaN              NaN        NaN         NaN  \n",
       "81754                NaN              NaN        NaN         NaN  \n",
       "256695               NaN              NaN        NaN         NaN  "
      ]
     },
     "execution_count": 119,
     "metadata": {},
     "output_type": "execute_result"
    }
   ],
   "source": [
    "df.sample(10\n",
    "          )"
   ]
  },
  {
   "cell_type": "code",
   "execution_count": 120,
   "id": "55ff74a5",
   "metadata": {},
   "outputs": [
    {
     "data": {
      "text/plain": [
       "np.int64(0)"
      ]
     },
     "execution_count": 120,
     "metadata": {},
     "output_type": "execute_result"
    }
   ],
   "source": [
    "merged_df.duplicated().sum()"
   ]
  },
  {
   "cell_type": "code",
   "execution_count": 121,
   "id": "ab194cad",
   "metadata": {},
   "outputs": [
    {
     "data": {
      "text/plain": [
       "(511809, 10)"
      ]
     },
     "execution_count": 121,
     "metadata": {},
     "output_type": "execute_result"
    }
   ],
   "source": [
    "merged_df.shape"
   ]
  },
  {
   "cell_type": "code",
   "execution_count": 122,
   "id": "9282cc65",
   "metadata": {},
   "outputs": [],
   "source": [
    "# Convert 'date' column to datetime in all dataframes involved in merge\n",
    "\n",
    "merged_df['date'] = pd.to_datetime(merged_df['date'], errors='coerce')\n",
    "calendar_data['date'] = pd.to_datetime(calendar_data['date'], errors='coerce')\n",
    "weather_data['date'] = pd.to_datetime(weather_data['date'], errors='coerce')\n"
   ]
  },
  {
   "cell_type": "code",
   "execution_count": 123,
   "id": "85030776",
   "metadata": {},
   "outputs": [],
   "source": [
    "# Step 1: Merge with calendar data (on 'date')\n",
    "final_df = pd.merge(merged_df, calendar_data, on='date', how='left')\n",
    "\n",
    "# Step 2: Merge with weather data (on 'location' and 'date')\n",
    "final_df = pd.merge(final_df, weather_data, on=['location', 'date'], how='left')\n",
    "\n",
    "# Step 3: Merge with product_info (on 'productid')\n",
    "final_df = pd.merge(final_df, product_info, on='productid', how='left')\n",
    "\n",
    "# Step 4: Merge with inventory_data (on 'productid' and 'location')\n",
    "final_df = pd.merge(final_df, inventory_data, on=['productid', 'location'], how='left')\n"
   ]
  },
  {
   "cell_type": "code",
   "execution_count": 124,
   "id": "da3326af",
   "metadata": {},
   "outputs": [
    {
     "data": {
      "text/plain": [
       "productid              0\n",
       "location               0\n",
       "date                   0\n",
       "unitssold              0\n",
       "promocodeused          0\n",
       "price                  0\n",
       "discount_percent       0\n",
       "competitorprice        0\n",
       "adcampaign             0\n",
       "finalprice             0\n",
       "isweekend              0\n",
       "season                 0\n",
       "daytype                0\n",
       "temp(c)                0\n",
       "rainfall(mm)           0\n",
       "category               0\n",
       "brand                  0\n",
       "material               0\n",
       "weight(kg)             0\n",
       "warranty(years)        0\n",
       "productrating          0\n",
       "launchyear             0\n",
       "stocklevel             0\n",
       "supplierdelay(days)    0\n",
       "warehouse              0\n",
       "inventorytype          0\n",
       "dtype: int64"
      ]
     },
     "execution_count": 124,
     "metadata": {},
     "output_type": "execute_result"
    }
   ],
   "source": [
    "final_df.isnull().sum()"
   ]
  },
  {
   "cell_type": "code",
   "execution_count": 125,
   "id": "f3ec091f",
   "metadata": {},
   "outputs": [],
   "source": [
    "final_df.to_csv(\"Master_file.csv\",index=False)"
   ]
  },
  {
   "cell_type": "code",
   "execution_count": 126,
   "id": "be41c288",
   "metadata": {},
   "outputs": [],
   "source": [
    "final_df.reset_index(drop=True, inplace=True)\n"
   ]
  },
  {
   "cell_type": "code",
   "execution_count": 127,
   "id": "26c6b4af",
   "metadata": {},
   "outputs": [
    {
     "data": {
      "text/plain": [
       "(511809, 26)"
      ]
     },
     "execution_count": 127,
     "metadata": {},
     "output_type": "execute_result"
    }
   ],
   "source": [
    "final_df.shape"
   ]
  },
  {
   "cell_type": "code",
   "execution_count": null,
   "id": "cf3eb618",
   "metadata": {},
   "outputs": [],
   "source": []
  }
 ],
 "metadata": {
  "kernelspec": {
   "display_name": "Python 3",
   "language": "python",
   "name": "python3"
  },
  "language_info": {
   "codemirror_mode": {
    "name": "ipython",
    "version": 3
   },
   "file_extension": ".py",
   "mimetype": "text/x-python",
   "name": "python",
   "nbconvert_exporter": "python",
   "pygments_lexer": "ipython3",
   "version": "3.13.5"
  }
 },
 "nbformat": 4,
 "nbformat_minor": 5
}
