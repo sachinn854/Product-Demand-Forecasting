{
 "cells": [
  {
   "cell_type": "code",
   "execution_count": 1,
   "id": "7b7fa685",
   "metadata": {},
   "outputs": [],
   "source": [
    "import pandas as pd"
   ]
  },
  {
   "cell_type": "code",
   "execution_count": 2,
   "id": "e7ae1d59",
   "metadata": {},
   "outputs": [],
   "source": [
    "df=pd.read_csv(r\"C:\\Users\\sachi\\OneDrive\\Product Demand Forecasting\\DATA\\inventory_data.csv\")"
   ]
  },
  {
   "cell_type": "code",
   "execution_count": 3,
   "id": "cdffb57a",
   "metadata": {},
   "outputs": [
    {
     "name": "stdout",
     "output_type": "stream",
     "text": [
      "<class 'pandas.core.frame.DataFrame'>\n",
      "RangeIndex: 5000 entries, 0 to 4999\n",
      "Data columns (total 6 columns):\n",
      " #   Column               Non-Null Count  Dtype \n",
      "---  ------               --------------  ----- \n",
      " 0   ProductID            5000 non-null   object\n",
      " 1   Location             5000 non-null   object\n",
      " 2   StockLevel           5000 non-null   int64 \n",
      " 3   SupplierDelay(days)  5000 non-null   int64 \n",
      " 4   Warehouse            5000 non-null   object\n",
      " 5   InventoryType        4960 non-null   object\n",
      "dtypes: int64(2), object(4)\n",
      "memory usage: 234.5+ KB\n"
     ]
    }
   ],
   "source": [
    "df.info()"
   ]
  },
  {
   "cell_type": "code",
   "execution_count": 20,
   "id": "b362321d",
   "metadata": {},
   "outputs": [
    {
     "data": {
      "text/html": [
       "<div>\n",
       "<style scoped>\n",
       "    .dataframe tbody tr th:only-of-type {\n",
       "        vertical-align: middle;\n",
       "    }\n",
       "\n",
       "    .dataframe tbody tr th {\n",
       "        vertical-align: top;\n",
       "    }\n",
       "\n",
       "    .dataframe thead th {\n",
       "        text-align: right;\n",
       "    }\n",
       "</style>\n",
       "<table border=\"1\" class=\"dataframe\">\n",
       "  <thead>\n",
       "    <tr style=\"text-align: right;\">\n",
       "      <th></th>\n",
       "      <th>ProductID</th>\n",
       "      <th>Location</th>\n",
       "      <th>StockLevel</th>\n",
       "      <th>SupplierDelay(days)</th>\n",
       "      <th>Warehouse</th>\n",
       "      <th>InventoryType</th>\n",
       "    </tr>\n",
       "  </thead>\n",
       "  <tbody>\n",
       "    <tr>\n",
       "      <th>3823</th>\n",
       "      <td>P0383</td>\n",
       "      <td>L04</td>\n",
       "      <td>125</td>\n",
       "      <td>3</td>\n",
       "      <td>W1</td>\n",
       "      <td>Returned</td>\n",
       "    </tr>\n",
       "    <tr>\n",
       "      <th>2111</th>\n",
       "      <td>P0212</td>\n",
       "      <td>L02</td>\n",
       "      <td>59</td>\n",
       "      <td>2</td>\n",
       "      <td>W2</td>\n",
       "      <td>Repaired</td>\n",
       "    </tr>\n",
       "    <tr>\n",
       "      <th>2925</th>\n",
       "      <td>P0293</td>\n",
       "      <td>L06</td>\n",
       "      <td>26</td>\n",
       "      <td>3</td>\n",
       "      <td>W2</td>\n",
       "      <td>Returned</td>\n",
       "    </tr>\n",
       "    <tr>\n",
       "      <th>4555</th>\n",
       "      <td>P0456</td>\n",
       "      <td>L06</td>\n",
       "      <td>146</td>\n",
       "      <td>3</td>\n",
       "      <td>W2</td>\n",
       "      <td>Repaired</td>\n",
       "    </tr>\n",
       "    <tr>\n",
       "      <th>4651</th>\n",
       "      <td>P0466</td>\n",
       "      <td>L02</td>\n",
       "      <td>69</td>\n",
       "      <td>7</td>\n",
       "      <td>W2</td>\n",
       "      <td>Repaired</td>\n",
       "    </tr>\n",
       "    <tr>\n",
       "      <th>3218</th>\n",
       "      <td>P0322</td>\n",
       "      <td>L09</td>\n",
       "      <td>108</td>\n",
       "      <td>3</td>\n",
       "      <td>W2</td>\n",
       "      <td>Fresh</td>\n",
       "    </tr>\n",
       "    <tr>\n",
       "      <th>753</th>\n",
       "      <td>P0076</td>\n",
       "      <td>L04</td>\n",
       "      <td>74</td>\n",
       "      <td>2</td>\n",
       "      <td>W2</td>\n",
       "      <td>Returned</td>\n",
       "    </tr>\n",
       "    <tr>\n",
       "      <th>491</th>\n",
       "      <td>P0050</td>\n",
       "      <td>L02</td>\n",
       "      <td>75</td>\n",
       "      <td>5</td>\n",
       "      <td>W2</td>\n",
       "      <td>Repaired</td>\n",
       "    </tr>\n",
       "    <tr>\n",
       "      <th>3680</th>\n",
       "      <td>P0369</td>\n",
       "      <td>L01</td>\n",
       "      <td>16</td>\n",
       "      <td>2</td>\n",
       "      <td>W3</td>\n",
       "      <td>Repaired</td>\n",
       "    </tr>\n",
       "    <tr>\n",
       "      <th>3082</th>\n",
       "      <td>P0309</td>\n",
       "      <td>L03</td>\n",
       "      <td>187</td>\n",
       "      <td>2</td>\n",
       "      <td>W3</td>\n",
       "      <td>Returned</td>\n",
       "    </tr>\n",
       "  </tbody>\n",
       "</table>\n",
       "</div>"
      ],
      "text/plain": [
       "     ProductID Location  StockLevel  SupplierDelay(days) Warehouse  \\\n",
       "3823     P0383      L04         125                    3        W1   \n",
       "2111     P0212      L02          59                    2        W2   \n",
       "2925     P0293      L06          26                    3        W2   \n",
       "4555     P0456      L06         146                    3        W2   \n",
       "4651     P0466      L02          69                    7        W2   \n",
       "3218     P0322      L09         108                    3        W2   \n",
       "753      P0076      L04          74                    2        W2   \n",
       "491      P0050      L02          75                    5        W2   \n",
       "3680     P0369      L01          16                    2        W3   \n",
       "3082     P0309      L03         187                    2        W3   \n",
       "\n",
       "     InventoryType  \n",
       "3823      Returned  \n",
       "2111      Repaired  \n",
       "2925      Returned  \n",
       "4555      Repaired  \n",
       "4651      Repaired  \n",
       "3218         Fresh  \n",
       "753       Returned  \n",
       "491       Repaired  \n",
       "3680      Repaired  \n",
       "3082      Returned  "
      ]
     },
     "execution_count": 20,
     "metadata": {},
     "output_type": "execute_result"
    }
   ],
   "source": [
    "df.sample(10)"
   ]
  },
  {
   "cell_type": "code",
   "execution_count": 5,
   "id": "48525d1f",
   "metadata": {},
   "outputs": [
    {
     "data": {
      "text/html": [
       "<div>\n",
       "<style scoped>\n",
       "    .dataframe tbody tr th:only-of-type {\n",
       "        vertical-align: middle;\n",
       "    }\n",
       "\n",
       "    .dataframe tbody tr th {\n",
       "        vertical-align: top;\n",
       "    }\n",
       "\n",
       "    .dataframe thead th {\n",
       "        text-align: right;\n",
       "    }\n",
       "</style>\n",
       "<table border=\"1\" class=\"dataframe\">\n",
       "  <thead>\n",
       "    <tr style=\"text-align: right;\">\n",
       "      <th></th>\n",
       "      <th>StockLevel</th>\n",
       "      <th>SupplierDelay(days)</th>\n",
       "    </tr>\n",
       "  </thead>\n",
       "  <tbody>\n",
       "    <tr>\n",
       "      <th>count</th>\n",
       "      <td>5000.000000</td>\n",
       "      <td>5000.000000</td>\n",
       "    </tr>\n",
       "    <tr>\n",
       "      <th>mean</th>\n",
       "      <td>104.253600</td>\n",
       "      <td>5.386600</td>\n",
       "    </tr>\n",
       "    <tr>\n",
       "      <th>std</th>\n",
       "      <td>55.354632</td>\n",
       "      <td>2.878124</td>\n",
       "    </tr>\n",
       "    <tr>\n",
       "      <th>min</th>\n",
       "      <td>10.000000</td>\n",
       "      <td>2.000000</td>\n",
       "    </tr>\n",
       "    <tr>\n",
       "      <th>25%</th>\n",
       "      <td>55.000000</td>\n",
       "      <td>3.000000</td>\n",
       "    </tr>\n",
       "    <tr>\n",
       "      <th>50%</th>\n",
       "      <td>105.000000</td>\n",
       "      <td>5.000000</td>\n",
       "    </tr>\n",
       "    <tr>\n",
       "      <th>75%</th>\n",
       "      <td>153.000000</td>\n",
       "      <td>7.000000</td>\n",
       "    </tr>\n",
       "    <tr>\n",
       "      <th>max</th>\n",
       "      <td>199.000000</td>\n",
       "      <td>10.000000</td>\n",
       "    </tr>\n",
       "  </tbody>\n",
       "</table>\n",
       "</div>"
      ],
      "text/plain": [
       "        StockLevel  SupplierDelay(days)\n",
       "count  5000.000000          5000.000000\n",
       "mean    104.253600             5.386600\n",
       "std      55.354632             2.878124\n",
       "min      10.000000             2.000000\n",
       "25%      55.000000             3.000000\n",
       "50%     105.000000             5.000000\n",
       "75%     153.000000             7.000000\n",
       "max     199.000000            10.000000"
      ]
     },
     "execution_count": 5,
     "metadata": {},
     "output_type": "execute_result"
    }
   ],
   "source": [
    "df.describe()"
   ]
  },
  {
   "cell_type": "code",
   "execution_count": 6,
   "id": "297eff82",
   "metadata": {},
   "outputs": [
    {
     "data": {
      "text/plain": [
       "ProductID               0\n",
       "Location                0\n",
       "StockLevel              0\n",
       "SupplierDelay(days)     0\n",
       "Warehouse               0\n",
       "InventoryType          40\n",
       "dtype: int64"
      ]
     },
     "execution_count": 6,
     "metadata": {},
     "output_type": "execute_result"
    }
   ],
   "source": [
    "df.isnull().sum()"
   ]
  },
  {
   "cell_type": "code",
   "execution_count": 8,
   "id": "00de9f28",
   "metadata": {},
   "outputs": [
    {
     "name": "stdout",
     "output_type": "stream",
     "text": [
      "✅ No negative values in StockLevel\n",
      "✅ No negative values in SupplierDelay(days)\n"
     ]
    }
   ],
   "source": [
    "# Check for negative StockLevel\n",
    "neg_stock = df[df['StockLevel'] < 0]\n",
    "\n",
    "# Check for negative SupplierDelay(days)\n",
    "neg_delay = df[df['SupplierDelay(days)'] < 0]\n",
    "\n",
    "# Print result\n",
    "if not neg_stock.empty:\n",
    "    print(\"❌ Negative values found in StockLevel:\")\n",
    "    display(neg_stock)\n",
    "else:\n",
    "    print(\"✅ No negative values in StockLevel\")\n",
    "\n",
    "if not neg_delay.empty:\n",
    "    print(\"❌ Negative values found in SupplierDelay(days):\")\n",
    "    display(neg_delay)\n",
    "else:\n",
    "    print(\"✅ No negative values in SupplierDelay(days)\")\n"
   ]
  },
  {
   "cell_type": "code",
   "execution_count": 9,
   "id": "5b3edf31",
   "metadata": {},
   "outputs": [
    {
     "data": {
      "text/plain": [
       "ProductID              500\n",
       "Location                10\n",
       "StockLevel             190\n",
       "SupplierDelay(days)      5\n",
       "Warehouse                3\n",
       "InventoryType            3\n",
       "dtype: int64"
      ]
     },
     "execution_count": 9,
     "metadata": {},
     "output_type": "execute_result"
    }
   ],
   "source": [
    "df.nunique()"
   ]
  },
  {
   "cell_type": "markdown",
   "id": "d3ca0165",
   "metadata": {},
   "source": [
    "# filling Inventory Type\n"
   ]
  },
  {
   "cell_type": "code",
   "execution_count": 21,
   "id": "0e02f9ef",
   "metadata": {},
   "outputs": [],
   "source": [
    "df_prod=pd.read_csv(r\"C:\\Users\\sachi\\OneDrive\\Product Demand Forecasting\\CLEANED DATA\\product_info_cleaned.csv\")"
   ]
  },
  {
   "cell_type": "code",
   "execution_count": 22,
   "id": "bf40d2c4",
   "metadata": {},
   "outputs": [],
   "source": [
    "# product_info_cleaned me ProductID aur Category le lo\n",
    "prod_cat_df = df_prod[['ProductID', 'Category']].drop_duplicates()"
   ]
  },
  {
   "cell_type": "code",
   "execution_count": 23,
   "id": "e45ece4f",
   "metadata": {},
   "outputs": [],
   "source": [
    "# Dictionary bana lo\n",
    "prod_cat_dict = dict(zip(prod_cat_df['ProductID'], prod_cat_df['Category']))"
   ]
  },
  {
   "cell_type": "code",
   "execution_count": 24,
   "id": "93046272",
   "metadata": {},
   "outputs": [],
   "source": [
    "category_to_inventory = {\n",
    "    'Electronics': 'Finished Goods',\n",
    "    'Clothing': 'Finished Goods',\n",
    "    'Home Appliances': 'Finished Goods',\n",
    "    'Toys': 'Finished Goods',\n",
    "    'Footwear': 'Finished Goods',\n",
    "    'Furniture': 'Work In Progress',\n",
    "    'Books': 'Finished Goods',\n",
    "    'Stationery': 'Packaging'\n",
    "}\n"
   ]
  },
  {
   "cell_type": "code",
   "execution_count": 25,
   "id": "b41bbd19",
   "metadata": {},
   "outputs": [],
   "source": [
    "def fill_inventory_type(row):\n",
    "    if pd.isnull(row['InventoryType']):\n",
    "        cat = prod_cat_dict.get(row['ProductID'], None)\n",
    "        if cat:\n",
    "            return category_to_inventory.get(cat, 'Finished Goods')  # Default 'Finished Goods'\n",
    "        else:\n",
    "            return 'Finished Goods'  # Default if ProductID missing in dict\n",
    "    else:\n",
    "        return row['InventoryType']\n",
    "\n",
    "df['InventoryType'] = df.apply(fill_inventory_type, axis=1)\n"
   ]
  },
  {
   "cell_type": "code",
   "execution_count": 26,
   "id": "7c6ee870",
   "metadata": {},
   "outputs": [
    {
     "name": "stdout",
     "output_type": "stream",
     "text": [
      "Missing InventoryType after fill: 0\n"
     ]
    }
   ],
   "source": [
    "print(\"Missing InventoryType after fill:\", df['InventoryType'].isnull().sum())"
   ]
  },
  {
   "cell_type": "code",
   "execution_count": 27,
   "id": "39e14914",
   "metadata": {},
   "outputs": [
    {
     "data": {
      "text/plain": [
       "ProductID              0\n",
       "Location               0\n",
       "StockLevel             0\n",
       "SupplierDelay(days)    0\n",
       "Warehouse              0\n",
       "InventoryType          0\n",
       "dtype: int64"
      ]
     },
     "execution_count": 27,
     "metadata": {},
     "output_type": "execute_result"
    }
   ],
   "source": [
    "df.isnull().sum()"
   ]
  },
  {
   "cell_type": "code",
   "execution_count": 28,
   "id": "21561a16",
   "metadata": {},
   "outputs": [
    {
     "data": {
      "text/plain": [
       "np.int64(0)"
      ]
     },
     "execution_count": 28,
     "metadata": {},
     "output_type": "execute_result"
    }
   ],
   "source": [
    "df.duplicated().sum()"
   ]
  },
  {
   "cell_type": "code",
   "execution_count": 29,
   "id": "df5ed518",
   "metadata": {},
   "outputs": [
    {
     "data": {
      "text/plain": [
       "ProductID              object\n",
       "Location               object\n",
       "StockLevel              int64\n",
       "SupplierDelay(days)     int64\n",
       "Warehouse              object\n",
       "InventoryType          object\n",
       "dtype: object"
      ]
     },
     "execution_count": 29,
     "metadata": {},
     "output_type": "execute_result"
    }
   ],
   "source": [
    "df.dtypes"
   ]
  },
  {
   "cell_type": "code",
   "execution_count": 31,
   "id": "8ba99fc3",
   "metadata": {},
   "outputs": [
    {
     "name": "stdout",
     "output_type": "stream",
     "text": [
      "Negative StockLevel count: 0\n",
      "Negative SupplierDelay count: 0\n"
     ]
    }
   ],
   "source": [
    "print(\"Negative StockLevel count:\", (df['StockLevel'] < 0).sum())\n",
    "print(\"Negative SupplierDelay count:\", (df['SupplierDelay(days)'] < 0).sum())\n",
    "\n"
   ]
  },
  {
   "cell_type": "code",
   "execution_count": 32,
   "id": "9b5ec9fe",
   "metadata": {},
   "outputs": [
    {
     "data": {
      "text/html": [
       "<div>\n",
       "<style scoped>\n",
       "    .dataframe tbody tr th:only-of-type {\n",
       "        vertical-align: middle;\n",
       "    }\n",
       "\n",
       "    .dataframe tbody tr th {\n",
       "        vertical-align: top;\n",
       "    }\n",
       "\n",
       "    .dataframe thead th {\n",
       "        text-align: right;\n",
       "    }\n",
       "</style>\n",
       "<table border=\"1\" class=\"dataframe\">\n",
       "  <thead>\n",
       "    <tr style=\"text-align: right;\">\n",
       "      <th></th>\n",
       "      <th>ProductID</th>\n",
       "      <th>Location</th>\n",
       "      <th>StockLevel</th>\n",
       "      <th>SupplierDelay(days)</th>\n",
       "      <th>Warehouse</th>\n",
       "      <th>InventoryType</th>\n",
       "    </tr>\n",
       "  </thead>\n",
       "  <tbody>\n",
       "    <tr>\n",
       "      <th>2468</th>\n",
       "      <td>P0247</td>\n",
       "      <td>L09</td>\n",
       "      <td>145</td>\n",
       "      <td>10</td>\n",
       "      <td>W1</td>\n",
       "      <td>Fresh</td>\n",
       "    </tr>\n",
       "  </tbody>\n",
       "</table>\n",
       "</div>"
      ],
      "text/plain": [
       "     ProductID Location  StockLevel  SupplierDelay(days) Warehouse  \\\n",
       "2468     P0247      L09         145                   10        W1   \n",
       "\n",
       "     InventoryType  \n",
       "2468         Fresh  "
      ]
     },
     "execution_count": 32,
     "metadata": {},
     "output_type": "execute_result"
    }
   ],
   "source": [
    "df.sample()"
   ]
  },
  {
   "cell_type": "code",
   "execution_count": 34,
   "id": "be650d07",
   "metadata": {},
   "outputs": [
    {
     "name": "stdout",
     "output_type": "stream",
     "text": [
      "<class 'pandas.core.frame.DataFrame'>\n",
      "RangeIndex: 5000 entries, 0 to 4999\n",
      "Data columns (total 6 columns):\n",
      " #   Column               Non-Null Count  Dtype \n",
      "---  ------               --------------  ----- \n",
      " 0   ProductID            5000 non-null   object\n",
      " 1   Location             5000 non-null   object\n",
      " 2   StockLevel           5000 non-null   int64 \n",
      " 3   SupplierDelay(days)  5000 non-null   int64 \n",
      " 4   Warehouse            5000 non-null   object\n",
      " 5   InventoryType        5000 non-null   object\n",
      "dtypes: int64(2), object(4)\n",
      "memory usage: 234.5+ KB\n"
     ]
    }
   ],
   "source": [
    "df.info()"
   ]
  },
  {
   "cell_type": "code",
   "execution_count": 35,
   "id": "ede66237",
   "metadata": {},
   "outputs": [
    {
     "data": {
      "text/html": [
       "<div>\n",
       "<style scoped>\n",
       "    .dataframe tbody tr th:only-of-type {\n",
       "        vertical-align: middle;\n",
       "    }\n",
       "\n",
       "    .dataframe tbody tr th {\n",
       "        vertical-align: top;\n",
       "    }\n",
       "\n",
       "    .dataframe thead th {\n",
       "        text-align: right;\n",
       "    }\n",
       "</style>\n",
       "<table border=\"1\" class=\"dataframe\">\n",
       "  <thead>\n",
       "    <tr style=\"text-align: right;\">\n",
       "      <th></th>\n",
       "      <th>StockLevel</th>\n",
       "      <th>SupplierDelay(days)</th>\n",
       "    </tr>\n",
       "  </thead>\n",
       "  <tbody>\n",
       "    <tr>\n",
       "      <th>count</th>\n",
       "      <td>5000.000000</td>\n",
       "      <td>5000.000000</td>\n",
       "    </tr>\n",
       "    <tr>\n",
       "      <th>mean</th>\n",
       "      <td>104.253600</td>\n",
       "      <td>5.386600</td>\n",
       "    </tr>\n",
       "    <tr>\n",
       "      <th>std</th>\n",
       "      <td>55.354632</td>\n",
       "      <td>2.878124</td>\n",
       "    </tr>\n",
       "    <tr>\n",
       "      <th>min</th>\n",
       "      <td>10.000000</td>\n",
       "      <td>2.000000</td>\n",
       "    </tr>\n",
       "    <tr>\n",
       "      <th>25%</th>\n",
       "      <td>55.000000</td>\n",
       "      <td>3.000000</td>\n",
       "    </tr>\n",
       "    <tr>\n",
       "      <th>50%</th>\n",
       "      <td>105.000000</td>\n",
       "      <td>5.000000</td>\n",
       "    </tr>\n",
       "    <tr>\n",
       "      <th>75%</th>\n",
       "      <td>153.000000</td>\n",
       "      <td>7.000000</td>\n",
       "    </tr>\n",
       "    <tr>\n",
       "      <th>max</th>\n",
       "      <td>199.000000</td>\n",
       "      <td>10.000000</td>\n",
       "    </tr>\n",
       "  </tbody>\n",
       "</table>\n",
       "</div>"
      ],
      "text/plain": [
       "        StockLevel  SupplierDelay(days)\n",
       "count  5000.000000          5000.000000\n",
       "mean    104.253600             5.386600\n",
       "std      55.354632             2.878124\n",
       "min      10.000000             2.000000\n",
       "25%      55.000000             3.000000\n",
       "50%     105.000000             5.000000\n",
       "75%     153.000000             7.000000\n",
       "max     199.000000            10.000000"
      ]
     },
     "execution_count": 35,
     "metadata": {},
     "output_type": "execute_result"
    }
   ],
   "source": [
    "df.describe()"
   ]
  },
  {
   "cell_type": "code",
   "execution_count": 33,
   "id": "0325194c",
   "metadata": {},
   "outputs": [],
   "source": [
    "df.to_csv(r\"C:\\Users\\sachi\\OneDrive\\Product Demand Forecasting\\CLEANED DATA\\inventory_data_Cleaned.csv.csv\",index=False)"
   ]
  }
 ],
 "metadata": {
  "kernelspec": {
   "display_name": "Python 3",
   "language": "python",
   "name": "python3"
  },
  "language_info": {
   "codemirror_mode": {
    "name": "ipython",
    "version": 3
   },
   "file_extension": ".py",
   "mimetype": "text/x-python",
   "name": "python",
   "nbconvert_exporter": "python",
   "pygments_lexer": "ipython3",
   "version": "3.13.5"
  }
 },
 "nbformat": 4,
 "nbformat_minor": 5
}
