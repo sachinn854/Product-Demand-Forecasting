{
 "cells": [
  {
   "cell_type": "code",
   "execution_count": 2,
   "id": "fb1ceca9",
   "metadata": {},
   "outputs": [],
   "source": [
    "import pandas as pd"
   ]
  },
  {
   "cell_type": "code",
   "execution_count": 3,
   "id": "4044fc64",
   "metadata": {},
   "outputs": [],
   "source": [
    "df=pd.read_csv(r\"C:\\Users\\sachi\\OneDrive\\Product Demand Forecasting\\DATA\\weather_data_k.csv\")"
   ]
  },
  {
   "cell_type": "code",
   "execution_count": 4,
   "id": "6fbb1d15",
   "metadata": {},
   "outputs": [
    {
     "data": {
      "text/html": [
       "<div>\n",
       "<style scoped>\n",
       "    .dataframe tbody tr th:only-of-type {\n",
       "        vertical-align: middle;\n",
       "    }\n",
       "\n",
       "    .dataframe tbody tr th {\n",
       "        vertical-align: top;\n",
       "    }\n",
       "\n",
       "    .dataframe thead th {\n",
       "        text-align: right;\n",
       "    }\n",
       "</style>\n",
       "<table border=\"1\" class=\"dataframe\">\n",
       "  <thead>\n",
       "    <tr style=\"text-align: right;\">\n",
       "      <th></th>\n",
       "      <th>Location</th>\n",
       "      <th>Date</th>\n",
       "      <th>Temperature(C)</th>\n",
       "      <th>Rainfall(mm)</th>\n",
       "    </tr>\n",
       "  </thead>\n",
       "  <tbody>\n",
       "    <tr>\n",
       "      <th>249</th>\n",
       "      <td>L01</td>\n",
       "      <td>2024-09-06</td>\n",
       "      <td>29.6</td>\n",
       "      <td>16.4</td>\n",
       "    </tr>\n",
       "    <tr>\n",
       "      <th>3044</th>\n",
       "      <td>L09</td>\n",
       "      <td>2024-04-26</td>\n",
       "      <td>17.3</td>\n",
       "      <td>23.7</td>\n",
       "    </tr>\n",
       "    <tr>\n",
       "      <th>3291</th>\n",
       "      <td>L09</td>\n",
       "      <td>2024-12-29</td>\n",
       "      <td>18.9</td>\n",
       "      <td>27.3</td>\n",
       "    </tr>\n",
       "    <tr>\n",
       "      <th>231</th>\n",
       "      <td>L01</td>\n",
       "      <td>2024-08-19</td>\n",
       "      <td>39.8</td>\n",
       "      <td>7.9</td>\n",
       "    </tr>\n",
       "    <tr>\n",
       "      <th>2910</th>\n",
       "      <td>L08</td>\n",
       "      <td>2024-12-14</td>\n",
       "      <td>5.0</td>\n",
       "      <td>4.1</td>\n",
       "    </tr>\n",
       "    <tr>\n",
       "      <th>1170</th>\n",
       "      <td>L04</td>\n",
       "      <td>2024-03-13</td>\n",
       "      <td>28.7</td>\n",
       "      <td>1.9</td>\n",
       "    </tr>\n",
       "    <tr>\n",
       "      <th>1263</th>\n",
       "      <td>L04</td>\n",
       "      <td>2024-06-14</td>\n",
       "      <td>29.8</td>\n",
       "      <td>25.8</td>\n",
       "    </tr>\n",
       "    <tr>\n",
       "      <th>2685</th>\n",
       "      <td>L08</td>\n",
       "      <td>2024-05-03</td>\n",
       "      <td>18.3</td>\n",
       "      <td>3.5</td>\n",
       "    </tr>\n",
       "    <tr>\n",
       "      <th>3602</th>\n",
       "      <td>L10</td>\n",
       "      <td>2024-11-04</td>\n",
       "      <td>35.9</td>\n",
       "      <td>5.0</td>\n",
       "    </tr>\n",
       "    <tr>\n",
       "      <th>3147</th>\n",
       "      <td>L09</td>\n",
       "      <td>2024-08-07</td>\n",
       "      <td>32.0</td>\n",
       "      <td>23.1</td>\n",
       "    </tr>\n",
       "  </tbody>\n",
       "</table>\n",
       "</div>"
      ],
      "text/plain": [
       "     Location        Date  Temperature(C)  Rainfall(mm)\n",
       "249       L01  2024-09-06            29.6          16.4\n",
       "3044      L09  2024-04-26            17.3          23.7\n",
       "3291      L09  2024-12-29            18.9          27.3\n",
       "231       L01  2024-08-19            39.8           7.9\n",
       "2910      L08  2024-12-14             5.0           4.1\n",
       "1170      L04  2024-03-13            28.7           1.9\n",
       "1263      L04  2024-06-14            29.8          25.8\n",
       "2685      L08  2024-05-03            18.3           3.5\n",
       "3602      L10  2024-11-04            35.9           5.0\n",
       "3147      L09  2024-08-07            32.0          23.1"
      ]
     },
     "execution_count": 4,
     "metadata": {},
     "output_type": "execute_result"
    }
   ],
   "source": [
    "df.sample(10)"
   ]
  },
  {
   "cell_type": "code",
   "execution_count": 5,
   "id": "5e7176cf",
   "metadata": {},
   "outputs": [
    {
     "name": "stdout",
     "output_type": "stream",
     "text": [
      "<class 'pandas.core.frame.DataFrame'>\n",
      "RangeIndex: 3660 entries, 0 to 3659\n",
      "Data columns (total 4 columns):\n",
      " #   Column          Non-Null Count  Dtype  \n",
      "---  ------          --------------  -----  \n",
      " 0   Location        3660 non-null   object \n",
      " 1   Date            3660 non-null   object \n",
      " 2   Temperature(C)  3660 non-null   float64\n",
      " 3   Rainfall(mm)    3660 non-null   float64\n",
      "dtypes: float64(2), object(2)\n",
      "memory usage: 114.5+ KB\n"
     ]
    }
   ],
   "source": [
    "df.info()"
   ]
  },
  {
   "cell_type": "code",
   "execution_count": 6,
   "id": "5af6a772",
   "metadata": {},
   "outputs": [
    {
     "data": {
      "text/plain": [
       "Location          0\n",
       "Date              0\n",
       "Temperature(C)    0\n",
       "Rainfall(mm)      0\n",
       "dtype: int64"
      ]
     },
     "execution_count": 6,
     "metadata": {},
     "output_type": "execute_result"
    }
   ],
   "source": [
    "df.isnull().sum()"
   ]
  },
  {
   "cell_type": "code",
   "execution_count": 7,
   "id": "4622a8eb",
   "metadata": {},
   "outputs": [
    {
     "data": {
      "text/plain": [
       "Location           10\n",
       "Date              366\n",
       "Temperature(C)    382\n",
       "Rainfall(mm)      494\n",
       "dtype: int64"
      ]
     },
     "execution_count": 7,
     "metadata": {},
     "output_type": "execute_result"
    }
   ],
   "source": [
    "df.nunique()"
   ]
  },
  {
   "cell_type": "code",
   "execution_count": 8,
   "id": "ca4a8dfc",
   "metadata": {},
   "outputs": [
    {
     "data": {
      "text/plain": [
       "np.int64(0)"
      ]
     },
     "execution_count": 8,
     "metadata": {},
     "output_type": "execute_result"
    }
   ],
   "source": [
    "df.duplicated().sum()"
   ]
  },
  {
   "cell_type": "code",
   "execution_count": 9,
   "id": "fd98fb78",
   "metadata": {},
   "outputs": [
    {
     "data": {
      "text/plain": [
       "Location           object\n",
       "Date               object\n",
       "Temperature(C)    float64\n",
       "Rainfall(mm)      float64\n",
       "dtype: object"
      ]
     },
     "execution_count": 9,
     "metadata": {},
     "output_type": "execute_result"
    }
   ],
   "source": [
    "df.dtypes"
   ]
  },
  {
   "cell_type": "markdown",
   "id": "b8e0d609",
   "metadata": {},
   "source": [
    "# data type conversion"
   ]
  },
  {
   "cell_type": "code",
   "execution_count": 10,
   "id": "7177e95a",
   "metadata": {},
   "outputs": [],
   "source": [
    "df['Date'] = pd.to_datetime(df['Date'])\n"
   ]
  },
  {
   "cell_type": "code",
   "execution_count": 11,
   "id": "63114626",
   "metadata": {},
   "outputs": [
    {
     "name": "stdout",
     "output_type": "stream",
     "text": [
      "Min Temp: 5.0\n",
      "Max Temp: 45.0\n"
     ]
    }
   ],
   "source": [
    "print(\"Min Temp:\", df['Temperature(C)'].min())\n",
    "print(\"Max Temp:\", df['Temperature(C)'].max())\n"
   ]
  },
  {
   "cell_type": "code",
   "execution_count": 16,
   "id": "a345f3ad",
   "metadata": {},
   "outputs": [
    {
     "name": "stdout",
     "output_type": "stream",
     "text": [
      "Min RainFall: 0.0\n",
      "Max RainFall: 120.0\n"
     ]
    }
   ],
   "source": [
    "print(\"Min RainFall:\", df['Rainfall(mm)'].min())\n",
    "print(\"Max RainFall:\", df['Rainfall(mm)'].max())\n"
   ]
  },
  {
   "cell_type": "code",
   "execution_count": 42,
   "id": "a73572d3",
   "metadata": {},
   "outputs": [
    {
     "data": {
      "text/html": [
       "<div>\n",
       "<style scoped>\n",
       "    .dataframe tbody tr th:only-of-type {\n",
       "        vertical-align: middle;\n",
       "    }\n",
       "\n",
       "    .dataframe tbody tr th {\n",
       "        vertical-align: top;\n",
       "    }\n",
       "\n",
       "    .dataframe thead th {\n",
       "        text-align: right;\n",
       "    }\n",
       "</style>\n",
       "<table border=\"1\" class=\"dataframe\">\n",
       "  <thead>\n",
       "    <tr style=\"text-align: right;\">\n",
       "      <th></th>\n",
       "      <th>Date</th>\n",
       "      <th>Temperature(C)</th>\n",
       "      <th>Rainfall(mm)</th>\n",
       "    </tr>\n",
       "  </thead>\n",
       "  <tbody>\n",
       "    <tr>\n",
       "      <th>count</th>\n",
       "      <td>600</td>\n",
       "      <td>600.000000</td>\n",
       "      <td>600.000000</td>\n",
       "    </tr>\n",
       "    <tr>\n",
       "      <th>mean</th>\n",
       "      <td>2024-01-30 12:00:00</td>\n",
       "      <td>22.347500</td>\n",
       "      <td>3.250000</td>\n",
       "    </tr>\n",
       "    <tr>\n",
       "      <th>min</th>\n",
       "      <td>2024-01-01 00:00:00</td>\n",
       "      <td>10.000000</td>\n",
       "      <td>0.000000</td>\n",
       "    </tr>\n",
       "    <tr>\n",
       "      <th>25%</th>\n",
       "      <td>2024-01-15 18:00:00</td>\n",
       "      <td>15.600000</td>\n",
       "      <td>0.000000</td>\n",
       "    </tr>\n",
       "    <tr>\n",
       "      <th>50%</th>\n",
       "      <td>2024-01-30 12:00:00</td>\n",
       "      <td>22.350000</td>\n",
       "      <td>0.000000</td>\n",
       "    </tr>\n",
       "    <tr>\n",
       "      <th>75%</th>\n",
       "      <td>2024-02-14 06:00:00</td>\n",
       "      <td>28.800000</td>\n",
       "      <td>5.000000</td>\n",
       "    </tr>\n",
       "    <tr>\n",
       "      <th>max</th>\n",
       "      <td>2024-02-29 00:00:00</td>\n",
       "      <td>34.900000</td>\n",
       "      <td>20.000000</td>\n",
       "    </tr>\n",
       "    <tr>\n",
       "      <th>std</th>\n",
       "      <td>NaN</td>\n",
       "      <td>7.384306</td>\n",
       "      <td>6.075829</td>\n",
       "    </tr>\n",
       "  </tbody>\n",
       "</table>\n",
       "</div>"
      ],
      "text/plain": [
       "                      Date  Temperature(C)  Rainfall(mm)\n",
       "count                  600      600.000000    600.000000\n",
       "mean   2024-01-30 12:00:00       22.347500      3.250000\n",
       "min    2024-01-01 00:00:00       10.000000      0.000000\n",
       "25%    2024-01-15 18:00:00       15.600000      0.000000\n",
       "50%    2024-01-30 12:00:00       22.350000      0.000000\n",
       "75%    2024-02-14 06:00:00       28.800000      5.000000\n",
       "max    2024-02-29 00:00:00       34.900000     20.000000\n",
       "std                    NaN        7.384306      6.075829"
      ]
     },
     "execution_count": 42,
     "metadata": {},
     "output_type": "execute_result"
    }
   ],
   "source": [
    "df.describe()"
   ]
  },
  {
   "cell_type": "code",
   "execution_count": 43,
   "id": "c2edc043",
   "metadata": {},
   "outputs": [
    {
     "data": {
      "text/html": [
       "<div>\n",
       "<style scoped>\n",
       "    .dataframe tbody tr th:only-of-type {\n",
       "        vertical-align: middle;\n",
       "    }\n",
       "\n",
       "    .dataframe tbody tr th {\n",
       "        vertical-align: top;\n",
       "    }\n",
       "\n",
       "    .dataframe thead th {\n",
       "        text-align: right;\n",
       "    }\n",
       "</style>\n",
       "<table border=\"1\" class=\"dataframe\">\n",
       "  <thead>\n",
       "    <tr style=\"text-align: right;\">\n",
       "      <th></th>\n",
       "      <th>Location</th>\n",
       "      <th>Date</th>\n",
       "      <th>Temperature(C)</th>\n",
       "      <th>Rainfall(mm)</th>\n",
       "    </tr>\n",
       "  </thead>\n",
       "  <tbody>\n",
       "    <tr>\n",
       "      <th>394</th>\n",
       "      <td>L07</td>\n",
       "      <td>2024-02-04</td>\n",
       "      <td>13.6</td>\n",
       "      <td>0</td>\n",
       "    </tr>\n",
       "  </tbody>\n",
       "</table>\n",
       "</div>"
      ],
      "text/plain": [
       "    Location       Date  Temperature(C)  Rainfall(mm)\n",
       "394      L07 2024-02-04            13.6             0"
      ]
     },
     "execution_count": 43,
     "metadata": {},
     "output_type": "execute_result"
    }
   ],
   "source": [
    "df.sample(1)"
   ]
  },
  {
   "cell_type": "code",
   "execution_count": 17,
   "id": "0a7b40ef",
   "metadata": {},
   "outputs": [],
   "source": [
    "df.columns = df.columns.str.strip().str.lower()\n"
   ]
  },
  {
   "cell_type": "code",
   "execution_count": 18,
   "id": "ac00be08",
   "metadata": {},
   "outputs": [],
   "source": [
    "df.rename(columns={\n",
    "    'Temperature(C)': 'temp(c)',\n",
    "    'Rainfall(mm)': 'rainfall(mm)'\n",
    "}, inplace=True)\n"
   ]
  },
  {
   "cell_type": "code",
   "execution_count": 20,
   "id": "2bd1dd91",
   "metadata": {},
   "outputs": [
    {
     "data": {
      "text/html": [
       "<div>\n",
       "<style scoped>\n",
       "    .dataframe tbody tr th:only-of-type {\n",
       "        vertical-align: middle;\n",
       "    }\n",
       "\n",
       "    .dataframe tbody tr th {\n",
       "        vertical-align: top;\n",
       "    }\n",
       "\n",
       "    .dataframe thead th {\n",
       "        text-align: right;\n",
       "    }\n",
       "</style>\n",
       "<table border=\"1\" class=\"dataframe\">\n",
       "  <thead>\n",
       "    <tr style=\"text-align: right;\">\n",
       "      <th></th>\n",
       "      <th>location</th>\n",
       "      <th>date</th>\n",
       "      <th>temperature(c)</th>\n",
       "      <th>rainfall(mm)</th>\n",
       "    </tr>\n",
       "  </thead>\n",
       "  <tbody>\n",
       "    <tr>\n",
       "      <th>417</th>\n",
       "      <td>L02</td>\n",
       "      <td>2024-02-21</td>\n",
       "      <td>11.8</td>\n",
       "      <td>1.1</td>\n",
       "    </tr>\n",
       "    <tr>\n",
       "      <th>1472</th>\n",
       "      <td>L05</td>\n",
       "      <td>2024-01-09</td>\n",
       "      <td>19.3</td>\n",
       "      <td>4.2</td>\n",
       "    </tr>\n",
       "    <tr>\n",
       "      <th>3509</th>\n",
       "      <td>L10</td>\n",
       "      <td>2024-08-03</td>\n",
       "      <td>35.4</td>\n",
       "      <td>22.3</td>\n",
       "    </tr>\n",
       "    <tr>\n",
       "      <th>2404</th>\n",
       "      <td>L07</td>\n",
       "      <td>2024-07-27</td>\n",
       "      <td>34.7</td>\n",
       "      <td>6.8</td>\n",
       "    </tr>\n",
       "    <tr>\n",
       "      <th>2062</th>\n",
       "      <td>L06</td>\n",
       "      <td>2024-08-20</td>\n",
       "      <td>32.5</td>\n",
       "      <td>0.6</td>\n",
       "    </tr>\n",
       "    <tr>\n",
       "      <th>2035</th>\n",
       "      <td>L06</td>\n",
       "      <td>2024-07-24</td>\n",
       "      <td>29.1</td>\n",
       "      <td>35.4</td>\n",
       "    </tr>\n",
       "    <tr>\n",
       "      <th>2629</th>\n",
       "      <td>L08</td>\n",
       "      <td>2024-03-08</td>\n",
       "      <td>19.8</td>\n",
       "      <td>0.8</td>\n",
       "    </tr>\n",
       "    <tr>\n",
       "      <th>1694</th>\n",
       "      <td>L05</td>\n",
       "      <td>2024-08-18</td>\n",
       "      <td>25.9</td>\n",
       "      <td>70.3</td>\n",
       "    </tr>\n",
       "    <tr>\n",
       "      <th>1109</th>\n",
       "      <td>L04</td>\n",
       "      <td>2024-01-12</td>\n",
       "      <td>7.4</td>\n",
       "      <td>0.8</td>\n",
       "    </tr>\n",
       "    <tr>\n",
       "      <th>952</th>\n",
       "      <td>L03</td>\n",
       "      <td>2024-08-08</td>\n",
       "      <td>34.5</td>\n",
       "      <td>3.9</td>\n",
       "    </tr>\n",
       "  </tbody>\n",
       "</table>\n",
       "</div>"
      ],
      "text/plain": [
       "     location       date  temperature(c)  rainfall(mm)\n",
       "417       L02 2024-02-21            11.8           1.1\n",
       "1472      L05 2024-01-09            19.3           4.2\n",
       "3509      L10 2024-08-03            35.4          22.3\n",
       "2404      L07 2024-07-27            34.7           6.8\n",
       "2062      L06 2024-08-20            32.5           0.6\n",
       "2035      L06 2024-07-24            29.1          35.4\n",
       "2629      L08 2024-03-08            19.8           0.8\n",
       "1694      L05 2024-08-18            25.9          70.3\n",
       "1109      L04 2024-01-12             7.4           0.8\n",
       "952       L03 2024-08-08            34.5           3.9"
      ]
     },
     "execution_count": 20,
     "metadata": {},
     "output_type": "execute_result"
    }
   ],
   "source": [
    "df.sample(10\n",
    "          )"
   ]
  },
  {
   "cell_type": "markdown",
   "id": "cc7b9c2a",
   "metadata": {},
   "source": [
    "# Temperature Outliers (temp(c))"
   ]
  },
  {
   "cell_type": "code",
   "execution_count": 22,
   "id": "afab5d9e",
   "metadata": {},
   "outputs": [
    {
     "data": {
      "text/plain": [
       "<Axes: xlabel='temperature(c)'>"
      ]
     },
     "execution_count": 22,
     "metadata": {},
     "output_type": "execute_result"
    },
    {
     "data": {
      "image/png": "[encoded data removed]",
      "text/plain": [
       "<Figure size 640x480 with 1 Axes>"
      ]
     },
     "metadata": {},
     "output_type": "display_data"
    }
   ],
   "source": [
    "import seaborn as sns\n",
    "sns.boxplot(x=df['temperature(c)'])\n"
   ]
  },
  {
   "cell_type": "code",
   "execution_count": 23,
   "id": "46e64fa7",
   "metadata": {},
   "outputs": [],
   "source": [
    "df.rename(columns={\"temperature(c)\": \"temp(c)\"}, inplace=True)"
   ]
  },
  {
   "cell_type": "code",
   "execution_count": 24,
   "id": "296c8739",
   "metadata": {},
   "outputs": [
    {
     "name": "stdout",
     "output_type": "stream",
     "text": [
      "Temperature outliers found: 0\n"
     ]
    }
   ],
   "source": [
    "Q1 = df['temp(c)'].quantile(0.25)\n",
    "Q3 = df['temp(c)'].quantile(0.75)\n",
    "IQR = Q3 - Q1\n",
    "\n",
    "lower_bound = Q1 - 1.5 * IQR\n",
    "upper_bound = Q3 + 1.5 * IQR\n",
    "\n",
    "outliers_temp = df[(df['temp(c)'] < lower_bound) | (df['temp(c)'] > upper_bound)]\n",
    "print(f\"Temperature outliers found: {len(outliers_temp)}\")\n"
   ]
  },
  {
   "cell_type": "markdown",
   "id": "e00fd78f",
   "metadata": {},
   "source": [
    "# Rainfall Outliers (rainfall(mm))"
   ]
  },
  {
   "cell_type": "code",
   "execution_count": 25,
   "id": "a5c42cba",
   "metadata": {},
   "outputs": [
    {
     "name": "stdout",
     "output_type": "stream",
     "text": [
      "Rainfall outliers found: 341\n"
     ]
    }
   ],
   "source": [
    "Q1 = df['rainfall(mm)'].quantile(0.25)\n",
    "Q3 = df['rainfall(mm)'].quantile(0.75)\n",
    "IQR = Q3 - Q1\n",
    "\n",
    "lower_bound = Q1 - 1.5 * IQR\n",
    "upper_bound = Q3 + 1.5 * IQR\n",
    "\n",
    "outliers_rain = df[(df['rainfall(mm)'] < lower_bound) | (df['rainfall(mm)'] > upper_bound)]\n",
    "print(f\"Rainfall outliers found: {len(outliers_rain)}\")\n"
   ]
  },
  {
   "cell_type": "code",
   "execution_count": 26,
   "id": "dbd82688",
   "metadata": {},
   "outputs": [
    {
     "data": {
      "text/plain": [
       "<Axes: xlabel='rainfall(mm)'>"
      ]
     },
     "execution_count": 26,
     "metadata": {},
     "output_type": "execute_result"
    },
    {
     "data": {
      "image/png": "[encoded data removed]",
      "text/plain": [
       "<Figure size 640x480 with 1 Axes>"
      ]
     },
     "metadata": {},
     "output_type": "display_data"
    }
   ],
   "source": [
    "import seaborn as sns\n",
    "sns.boxplot(x=df['rainfall(mm)'])\n"
   ]
  },
  {
   "cell_type": "code",
   "execution_count": 27,
   "id": "43e34a22",
   "metadata": {},
   "outputs": [
    {
     "data": {
      "text/plain": [
       "(630, 4)"
      ]
     },
     "execution_count": 27,
     "metadata": {},
     "output_type": "execute_result"
    }
   ],
   "source": [
    "df[df['rainfall(mm)']>17].shape"
   ]
  },
  {
   "cell_type": "code",
   "execution_count": 28,
   "id": "7bd9fc13",
   "metadata": {},
   "outputs": [],
   "source": [
    "df.to_csv(r\"C:\\Users\\sachi\\OneDrive\\Product Demand Forecasting\\CLEANED DATA\\weather_cleaned.csv\",index=False)"
   ]
  }
 ],
 "metadata": {
  "kernelspec": {
   "display_name": "Python 3",
   "language": "python",
   "name": "python3"
  },
  "language_info": {
   "codemirror_mode": {
    "name": "ipython",
    "version": 3
   },
   "file_extension": ".py",
   "mimetype": "text/x-python",
   "name": "python",
   "nbconvert_exporter": "python",
   "pygments_lexer": "ipython3",
   "version": "3.13.5"
  }
 },
 "nbformat": 4,
 "nbformat_minor": 5
}
